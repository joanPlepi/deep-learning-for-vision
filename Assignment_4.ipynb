{
 "cells": [
  {
   "cell_type": "code",
   "execution_count": 10,
   "metadata": {},
   "outputs": [],
   "source": [
    "from time import time\n",
    "import torch\n",
    "import torch.nn as nn\n",
    "from torch.utils.data import SubsetRandomSampler\n",
    "import numpy as np\n",
    "import matplotlib.pyplot as plt\n",
    "import torchvision.datasets as dsets\n",
    "import torchvision.transforms as transforms"
   ]
  },
  {
   "cell_type": "code",
   "execution_count": 15,
   "metadata": {},
   "outputs": [],
   "source": [
    "def get_train_test_loader(trainset, testset, batch_size):\n",
    "\n",
    "    # Making dataset iterable\n",
    "    train_loader = torch.utils.data.DataLoader(dataset=trainset,\n",
    "                                               batch_size=batch_size,\n",
    "                                               shuffle=True)\n",
    "    test_loader = torch.utils.data.DataLoader(dataset=testset,\n",
    "                                              batch_size=batch_size,\n",
    "                                              shuffle=False)\n",
    "\n",
    "    return train_loader, test_loader"
   ]
  },
  {
   "cell_type": "code",
   "execution_count": 12,
   "metadata": {},
   "outputs": [],
   "source": [
    "'''\n",
    "    Parameters:\n",
    "    - k, number of folds\n",
    "    - trainset, the training set\n",
    "    - batch size\n",
    "'''\n",
    "def split_data_in_k_folds(k, trainset, batch_size):\n",
    "    patterns_per_fold = len(trainset) / k\n",
    "\n",
    "    samplers = []\n",
    "    for i in range(k):\n",
    "        samplers.append(SubsetRandomSampler(np.arange(i * patterns_per_fold, (i + 1) * patterns_per_fold, dtype=np.int32)))\n",
    "\n",
    "    all_data_folds = []\n",
    "\n",
    "    for sampler in samplers:\n",
    "        all_data_folds.append(\n",
    "            torch.utils.data.DataLoader(dataset=trainset,\n",
    "                                        batch_size=batch_size,\n",
    "                                        sampler=sampler,\n",
    "                                        shuffle=False)\n",
    "        )\n",
    "\n",
    "    return all_data_folds"
   ]
  },
  {
   "cell_type": "code",
   "execution_count": 42,
   "metadata": {},
   "outputs": [],
   "source": [
    "# TODO: Check with Agajan how many layers we can do here...\n",
    "'''\n",
    "Explain the parameters here. \n",
    "in_dim -> cifar case 32x32. I am supposing those are square matrix.\n",
    "d -> stands for depth.\n",
    "'''\n",
    "class CNNModel(nn.Module):\n",
    "    def __init__(self, **params):\n",
    "        super(CNNModel, self).__init__()\n",
    "        # Convolution 1\n",
    "        self.cnn1 = nn.Conv3d(in_channels=params['d1'], out_channels=params['d2'], kernel_size=params['f1'],\n",
    "                              stride=params['s1'], padding=params['p1'])\n",
    "        # Activation 1\n",
    "        self.relu1 = nn.ReLU()\n",
    "        # Max pooling 1\n",
    "        self.maxpool1 = nn.MaxPool3d(kernel_size=2)\n",
    "        # Convolution 2\n",
    "        self.cnn2 =  self.cnn1 = nn.Conv3d(in_channels=params['d2'], out_channels=params['d3'], kernel_size=params['f2'],\n",
    "                              stride=params['s2'], padding=params['p2'])\n",
    "        # Activation 2\n",
    "        self.relu2 = nn.ReLU()\n",
    "        # Max pooling 2\n",
    "        self.maxpool2 = nn.MaxPool3d(kernel_size=2)\n",
    "\n",
    "        self.W2 = (params['in_dim'] - params['f1'] + 2*params['p1'])/params['s1'] + 1\n",
    "        \n",
    "        self.W3 = ((self.W2 / 2) - params['f2'] + 2*params['p2'])/params['s2'] + 1\n",
    "\n",
    "        self.out_dim = params['d3'] * ((self.W3/2) ** 2)\n",
    "        print(\"For debugging out dim before nn Linear W2={}, self.W3={} out {}\"\n",
    "              .format(self.W2,self.W3, self.out_dim))\n",
    "\n",
    "        # Fully connected layer\n",
    "        self.fc1 = nn.Linear(int(self.out_dim), 10)\n",
    "\n",
    "    def forward(self, x):\n",
    "        #Maybe we use sequential here?\n",
    "        # Convolution and activation 1\n",
    "        out = self.cnn1(x)\n",
    "        out = self.relu1(out)\n",
    "        # Max pooling 1\n",
    "        out = self.maxpool1(out)\n",
    "\n",
    "        # Convolution and activation 1\n",
    "        out = self.cnn2(out)\n",
    "        out = self.relu2(out)\n",
    "\n",
    "        # Max pooling 2\n",
    "        out = self.maxpool2(out)\n",
    "\n",
    "        # Reshaping to pass it to fc1\n",
    "        out = out.view(out.size(0), -1)\n",
    "        # Fully connected layer\n",
    "        out = self.fc1(out)\n",
    "\n",
    "        return out"
   ]
  },
  {
   "cell_type": "code",
   "execution_count": 30,
   "metadata": {},
   "outputs": [
    {
     "name": "stdout",
     "output_type": "stream",
     "text": [
      "Files already downloaded and verified\n",
      "Files already downloaded and verified\n"
     ]
    }
   ],
   "source": [
    "''' Loading the dataset '''\n",
    "trainset = dsets.CIFAR10('./data', train=True, download=True, transform=transforms.ToTensor())\n",
    "testset = dsets.CIFAR10('./data', train=False, download=True, transform=transforms.ToTensor())\n",
    "\n",
    "''' Defining batch size and number of iterations and number of epochs based on those'''\n",
    "batch_size = 100\n",
    "num_epochs = 10\n",
    "\n",
    "# setting the seed\n",
    "torch.manual_seed(1)\n",
    "\n",
    "# setting input and output dimensions\n",
    "CLASSES = ('plane', 'car', 'bird', 'cat', 'deer', 'dog', 'frog', 'horse', 'ship', 'truck')\n",
    "input_dim = 3 * 32 * 32\n",
    "output_dim = len(CLASSES)"
   ]
  },
  {
   "cell_type": "code",
   "execution_count": 37,
   "metadata": {},
   "outputs": [],
   "source": [
    "trainloader, testloader = get_train_test_loader(trainset, testset, batch_size)\n",
    "\n",
    "parameters = {\n",
    "    'in_dim': 32, \n",
    "    'd1' : 3,\n",
    "    'd2' : 16,\n",
    "    'f1' : 5,\n",
    "    's1' : 1,\n",
    "    'p1' : 2, # lets try it once\n",
    "    'd3' : 32,\n",
    "    'f2' : 5,\n",
    "    's2' : 1,\n",
    "    'p2' : 2\n",
    "}"
   ]
  },
  {
   "cell_type": "code",
   "execution_count": 43,
   "metadata": {},
   "outputs": [
    {
     "name": "stdout",
     "output_type": "stream",
     "text": [
      "For debugging out dim before nn Linear W2=32.0, self.W3=16.0 out 2048.0\n"
     ]
    }
   ],
   "source": [
    "model = CNNModel(**parameters)\n",
    "device = torch.device(\"cuda:0\" if torch.cuda.is_available() else \"cpu\")"
   ]
  },
  {
   "cell_type": "code",
   "execution_count": null,
   "metadata": {},
   "outputs": [],
   "source": [
    "'''\n",
    "    Parameters:\n",
    "        - criterion, loss function\n",
    "        - input dimension\n",
    "        - a numpy array which will save the loss for every epoch\n",
    "        - the model\n",
    "        - number of epochs\n",
    "        - an optimizer\n",
    "        - and the train loader to iterate through the patterns     \n",
    "'''\n",
    "def training(criterion, input_dim, model, num_epochs, optimizer, train_loader, plot=False):\n",
    "    loss_per_iter = []\n",
    "\n",
    "    for epoch in range(num_epochs):\n",
    "        tic = time()\n",
    "        loss_acc_per_epoch = 0\n",
    "        for i, (images, labels) in enumerate(train_loader):\n",
    "            \n",
    "            # send to device\n",
    "            images, labels = images.to(device), labels.to(device)\n",
    "\n",
    "            # reshape images\n",
    "            images = images.view(-1, model.input_dim)\n",
    "\n",
    "            # Clearing the gradients.\n",
    "            optimizer.zero_grad()\n",
    "            \n",
    "            # Forward pass\n",
    "            outputs = model(images)\n",
    "\n",
    "            # Here the loss function is applied.\n",
    "            loss = criterion(outputs, labels)\n",
    "\n",
    "            # We accumulate the loss till the end of the epoch\n",
    "            loss_acc_per_epoch += loss\n",
    "            loss_per_iter.append(loss)\n",
    "\n",
    "            loss.backward()\n",
    "\n",
    "            optimizer.step()\n",
    "\n",
    "        print(\"Finished epoch {:d}/{:d}  in {:f} sec\".format(epoch+1, num_epochs, time() - tic))"
   ]
  }
 ],
 "metadata": {
  "kernelspec": {
   "display_name": "Python 3",
   "language": "python",
   "name": "python3"
  },
  "language_info": {
   "codemirror_mode": {
    "name": "ipython",
    "version": 3
   },
   "file_extension": ".py",
   "mimetype": "text/x-python",
   "name": "python",
   "nbconvert_exporter": "python",
   "pygments_lexer": "ipython3",
   "version": "3.6.5"
  }
 },
 "nbformat": 4,
 "nbformat_minor": 2
}
