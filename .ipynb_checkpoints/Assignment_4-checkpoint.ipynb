{
 "cells": [
  {
   "cell_type": "code",
   "execution_count": 2,
   "metadata": {
    "colab": {},
    "colab_type": "code",
    "id": "FI_yE8d8tS5V"
   },
   "outputs": [],
   "source": [
    "from time import time\n",
    "import torch\n",
    "import torch.nn as nn\n",
    "from torch.utils.data import SubsetRandomSampler\n",
    "import numpy as np\n",
    "import matplotlib.pyplot as plt\n",
    "%matplotlib inline\n",
    "import torchvision.datasets as dsets\n",
    "import torchvision.transforms as transforms"
   ]
  },
  {
   "cell_type": "code",
   "execution_count": 2,
   "metadata": {
    "colab": {
     "base_uri": "https://localhost:8080/",
     "height": 55
    },
    "colab_type": "code",
    "id": "gww5f7Ilt15O",
    "outputId": "fee5eef5-c032-4aed-d239-a6c1880af2de"
   },
   "outputs": [
    {
     "name": "stdout",
     "output_type": "stream",
     "text": [
      "tcmalloc: large alloc 1073750016 bytes == 0x583a2000 @  0x7fc2fc4752a4 0x594e17 0x626104 0x51190a 0x4f5277 0x510c78 0x5119bd 0x4f5277 0x4f3338 0x510fb0 0x5119bd 0x4f5277 0x4f3338 0x510fb0 0x5119bd 0x4f5277 0x4f3338 0x510fb0 0x5119bd 0x4f6070 0x510c78 0x5119bd 0x4f5277 0x4f3338 0x510fb0 0x5119bd 0x4f6070 0x4f3338 0x510fb0 0x5119bd 0x4f6070\n"
     ]
    }
   ],
   "source": [
    "# http://pytorch.org/\n",
    "from os.path import exists\n",
    "from wheel.pep425tags import get_abbr_impl, get_impl_ver, get_abi_tag\n",
    "platform = '{}{}-{}'.format(get_abbr_impl(), get_impl_ver(), get_abi_tag())\n",
    "cuda_output = !ldconfig -p|grep cudart.so|sed -e 's/.*\\.\\([0-9]*\\)\\.\\([0-9]*\\)$/cu\\1\\2/'\n",
    "accelerator = cuda_output[0] if exists('/dev/nvidia0') else 'cpu'\n",
    "\n",
    "!pip install -q http://download.pytorch.org/whl/{accelerator}/torch-0.4.1-{platform}-linux_x86_64.whl torchvision\n",
    "import torch"
   ]
  },
  {
   "cell_type": "code",
   "execution_count": 4,
   "metadata": {
    "colab": {
     "base_uri": "https://localhost:8080/",
     "height": 35
    },
    "colab_type": "code",
    "id": "lpDvemH2tiVE",
    "outputId": "a6216b60-39d9-4842-f602-a35d1d586274"
   },
   "outputs": [
    {
     "data": {
      "text/plain": [
       "True"
      ]
     },
     "execution_count": 4,
     "metadata": {
      "tags": []
     },
     "output_type": "execute_result"
    }
   ],
   "source": [
    "torch.cuda.is_available()"
   ]
  },
  {
   "cell_type": "code",
   "execution_count": 0,
   "metadata": {
    "colab": {},
    "colab_type": "code",
    "id": "vFGBHJvbtS5z"
   },
   "outputs": [],
   "source": [
    "def get_train_test_loader(trainset, testset, batch_size):\n",
    "\n",
    "    # Making dataset iterable\n",
    "    train_loader = torch.utils.data.DataLoader(dataset=trainset,\n",
    "                                               batch_size=batch_size,\n",
    "                                               shuffle=True)\n",
    "    test_loader = torch.utils.data.DataLoader(dataset=testset,\n",
    "                                              batch_size=batch_size,\n",
    "                                              shuffle=False)\n",
    "\n",
    "    return train_loader, test_loader"
   ]
  },
  {
   "cell_type": "code",
   "execution_count": 0,
   "metadata": {
    "colab": {},
    "colab_type": "code",
    "id": "YHe1pqj5tS6E"
   },
   "outputs": [],
   "source": [
    "'''\n",
    "    Parameters:\n",
    "    - k, number of folds\n",
    "    - trainset, the training set\n",
    "    - batch size\n",
    "'''\n",
    "def split_data_in_k_folds(k, trainset, batch_size):\n",
    "    patterns_per_fold = len(trainset) / k\n",
    "\n",
    "    samplers = []\n",
    "    for i in range(k):\n",
    "        samplers.append(SubsetRandomSampler(np.arange(i * patterns_per_fold, (i + 1) * patterns_per_fold, dtype=np.int32)))\n",
    "\n",
    "    all_data_folds = []\n",
    "\n",
    "    for sampler in samplers:\n",
    "        all_data_folds.append(\n",
    "            torch.utils.data.DataLoader(dataset=trainset,\n",
    "                                        batch_size=batch_size,\n",
    "                                        sampler=sampler,\n",
    "                                        shuffle=False)\n",
    "        )\n",
    "\n",
    "    return all_data_folds"
   ]
  },
  {
   "cell_type": "code",
   "execution_count": 1,
   "metadata": {
    "colab": {},
    "colab_type": "code",
    "id": "BnaaG6d6tS6Y"
   },
   "outputs": [
    {
     "ename": "NameError",
     "evalue": "name 'nn' is not defined",
     "output_type": "error",
     "traceback": [
      "\u001b[1;31m---------------------------------------------------------------------------\u001b[0m",
      "\u001b[1;31mNameError\u001b[0m                                 Traceback (most recent call last)",
      "\u001b[1;32m<ipython-input-1-3f0481c4505e>\u001b[0m in \u001b[0;36m<module>\u001b[1;34m()\u001b[0m\n\u001b[0;32m      9\u001b[0m \u001b[0mp\u001b[0m \u001b[1;33m->\u001b[0m \u001b[0mpadding\u001b[0m \u001b[0msize\u001b[0m\u001b[1;33m\u001b[0m\u001b[0m\n\u001b[0;32m     10\u001b[0m '''\n\u001b[1;32m---> 11\u001b[1;33m \u001b[1;32mclass\u001b[0m \u001b[0mCNNModel\u001b[0m\u001b[1;33m(\u001b[0m\u001b[0mnn\u001b[0m\u001b[1;33m.\u001b[0m\u001b[0mModule\u001b[0m\u001b[1;33m)\u001b[0m\u001b[1;33m:\u001b[0m\u001b[1;33m\u001b[0m\u001b[0m\n\u001b[0m\u001b[0;32m     12\u001b[0m     \u001b[1;32mdef\u001b[0m \u001b[0m__init__\u001b[0m\u001b[1;33m(\u001b[0m\u001b[0mself\u001b[0m\u001b[1;33m,\u001b[0m \u001b[1;33m**\u001b[0m\u001b[0mparams\u001b[0m\u001b[1;33m)\u001b[0m\u001b[1;33m:\u001b[0m\u001b[1;33m\u001b[0m\u001b[0m\n\u001b[0;32m     13\u001b[0m         \u001b[0msuper\u001b[0m\u001b[1;33m(\u001b[0m\u001b[0mCNNModel\u001b[0m\u001b[1;33m,\u001b[0m \u001b[0mself\u001b[0m\u001b[1;33m)\u001b[0m\u001b[1;33m.\u001b[0m\u001b[0m__init__\u001b[0m\u001b[1;33m(\u001b[0m\u001b[1;33m)\u001b[0m\u001b[1;33m\u001b[0m\u001b[0m\n",
      "\u001b[1;31mNameError\u001b[0m: name 'nn' is not defined"
     ]
    }
   ],
   "source": [
    "# TODO: Check with Agajan how many layers we can do here...\n",
    "# TODO: Change the CNN model to return also the intermadiate outputs for vizualization\n",
    "'''\n",
    "Explain the parameters here. \n",
    "in_dim -> cifar case 32x32. I am supposing those are square matrix.\n",
    "d -> stands for depth.\n",
    "f -> kernel size\n",
    "s -> stride\n",
    "p -> padding size\n",
    "'''\n",
    "class CNNModel(nn.Module):\n",
    "    def __init__(self, **params):\n",
    "        super(CNNModel, self).__init__()\n",
    "        # Convolution 1\n",
    "        self.cnn1 = nn.Conv2d(in_channels=params['d1'], out_channels=params['d2'], kernel_size=params['f1'],\n",
    "                              stride=params['s1'], padding=params['p1'])\n",
    "        # Activation 1\n",
    "        self.relu1 = nn.ReLU()\n",
    "        # Max pooling 1\n",
    "        self.maxpool1 = nn.MaxPool2d(kernel_size=2)\n",
    "        # Convolution 2\n",
    "        self.cnn2 =  nn.Conv2d(in_channels=params['d2'], out_channels=params['d3'], kernel_size=params['f2'],\n",
    "                              stride=params['s2'], padding=params['p2'])\n",
    "        # Activation 2\n",
    "        self.relu2 = nn.ReLU()\n",
    "        # Max pooling 2\n",
    "        self.maxpool2 = nn.MaxPool2d(kernel_size=2)\n",
    "\n",
    "        self.W2 = (params['in_dim'] - params['f1'] + 2*params['p1'])/params['s1'] + 1\n",
    "        \n",
    "        self.W3 = ((self.W2 / 2) - params['f2'] + 2*params['p2'])/params['s2'] + 1\n",
    "\n",
    "        self.out_dim = params['d3'] * ((self.W3/2) ** 2)\n",
    "        print(\"For debugging, W2={}, self.W3={} out {}\"\n",
    "              .format(self.W2,self.W3, self.out_dim))\n",
    "\n",
    "        # Fully connected layer\n",
    "        self.fc1 = nn.Linear(int(self.out_dim), params['h1'])\n",
    "        self.fc1_Relu = nn.ReLU()\n",
    "        self.fc2 = nn.Linear(params['h1'], 10)\n",
    "\n",
    "    def forward(self, x):\n",
    "        #Maybe we use sequential here?\n",
    "        # Convolution and activation 1\n",
    "        out = self.cnn1(x)\n",
    "        out = self.relu1(out)\n",
    "        # Max pooling 1\n",
    "        out = self.maxpool1(out)\n",
    "\n",
    "        # Convolution and activation 1\n",
    "        out = self.cnn2(out)\n",
    "        out = self.relu2(out)\n",
    "\n",
    "        # Max pooling 2\n",
    "        out = self.maxpool2(out)\n",
    "\n",
    "        # Reshaping to pass it to fc1\n",
    "        out = out.view(out.size(0), -1)\n",
    "        # Fully connected layer\n",
    "        out = self.fc1(out)\n",
    "        out = self.fc1_Relu(out)\n",
    "        out = self.fc2(out)\n",
    "        \n",
    "        return out"
   ]
  },
  {
   "cell_type": "code",
   "execution_count": 0,
   "metadata": {
    "colab": {},
    "colab_type": "code",
    "id": "Xzc22EsttS6l"
   },
   "outputs": [],
   "source": [
    "'''\n",
    "    Parameters:\n",
    "        - criterion, loss function\n",
    "        - input dimension\n",
    "        - a numpy array which will save the loss for every epoch\n",
    "        - the model\n",
    "        - number of epochs\n",
    "        - an optimizer\n",
    "        - and the train loader to iterate through the patterns     \n",
    "'''\n",
    "def train(criterion, model, num_epochs, optimizer, train_loader):\n",
    "    model.train()\n",
    "    loss_per_iter = []\n",
    "    loss_per_epoch = []\n",
    "\n",
    "    for epoch in range(num_epochs):\n",
    "        tic = time()\n",
    "        loss_acc_per_epoch = 0\n",
    "        \n",
    "        for i, (images, labels) in enumerate(train_loader):\n",
    "            \n",
    "            # send to device\n",
    "            images, labels = images.to(device), labels.to(device)\n",
    "\n",
    "            # Clearing the gradients.\n",
    "            optimizer.zero_grad()\n",
    "            \n",
    "            # Forward pass\n",
    "            outputs = model(images)\n",
    "\n",
    "            # Here the loss function is applied.\n",
    "            loss = criterion(outputs, labels)\n",
    "\n",
    "            # We accumulate the loss till the end of the epoch\n",
    "            loss_acc_per_epoch += loss\n",
    "            loss_per_iter.append(loss)\n",
    "\n",
    "            loss.backward()\n",
    "\n",
    "            optimizer.step()\n",
    "        loss_per_epoch.append(loss_acc_per_epoch/i)\n",
    "        print(\"Finished epoch {:d}/{:d}  in {:f} sec. Loss is {:f}\".format(epoch+1, num_epochs, time() - tic, loss_acc_per_epoch/i))\n",
    "        \n",
    "    return loss_per_epoch, loss_per_iter"
   ]
  },
  {
   "cell_type": "code",
   "execution_count": 0,
   "metadata": {
    "colab": {},
    "colab_type": "code",
    "id": "1dl4IiOXtS6z"
   },
   "outputs": [],
   "source": [
    "def test(model, test_loader):\n",
    "    model.eval()\n",
    "    # Calculate Accuracy\n",
    "    correct = 0\n",
    "    total = 0\n",
    "    # Iterate through test dataset\n",
    "    for images, labels in test_loader:\n",
    "\n",
    "        images, labels = images.to(device), labels.to(device)\n",
    "        # Forward pass only to get logits/output\n",
    "        outputs = model(images)\n",
    "        # Get predictions from the maximum value\n",
    "        # it returns the values and the indices of max values per row. Pretty cool.\n",
    "        _, predicted = torch.max(outputs.data, 1)\n",
    "\n",
    "        # Total number of labels\n",
    "        total += labels.size(0)\n",
    "\n",
    "        # Total correct predictions\n",
    "        correct += (predicted.cpu() == labels.cpu()).sum()\n",
    "\n",
    "    accuracy = 100 * correct / total\n",
    "\n",
    "    print('Accuracy: {}'.format(accuracy))\n",
    "    return accuracy.item()"
   ]
  },
  {
   "cell_type": "code",
   "execution_count": 10,
   "metadata": {
    "colab": {
     "base_uri": "https://localhost:8080/",
     "height": 54
    },
    "colab_type": "code",
    "id": "JhxCxnhZtS7E",
    "outputId": "77e2b44e-495f-4b02-9252-6fcd4efca3de"
   },
   "outputs": [
    {
     "name": "stdout",
     "output_type": "stream",
     "text": [
      "Downloading https://www.cs.toronto.edu/~kriz/cifar-10-python.tar.gz to ./data/cifar-10-python.tar.gz\n",
      "Files already downloaded and verified\n"
     ]
    }
   ],
   "source": [
    "''' Loading the dataset '''\n",
    "trainset = dsets.CIFAR10('./data', train=True, download=True, transform=transforms.ToTensor())\n",
    "testset = dsets.CIFAR10('./data', train=False, download=True, transform=transforms.ToTensor())\n",
    "\n",
    "''' Defining batch size and number of iterations and number of epochs based on those'''\n",
    "batch_size = 100\n",
    "num_epochs = 10\n",
    "\n",
    "# setting the seed\n",
    "torch.manual_seed(1)\n",
    "\n",
    "# setting input and output dimensions\n",
    "CLASSES = ('plane', 'car', 'bird', 'cat', 'deer', 'dog', 'frog', 'horse', 'ship', 'truck')\n",
    "input_dim = 3 * 32 * 32\n",
    "output_dim = len(CLASSES)"
   ]
  },
  {
   "cell_type": "markdown",
   "metadata": {
    "colab_type": "text",
    "id": "iEN5TxQ8tS7a"
   },
   "source": [
    "## Intializations"
   ]
  },
  {
   "cell_type": "code",
   "execution_count": 41,
   "metadata": {
    "colab": {
     "base_uri": "https://localhost:8080/",
     "height": 201
    },
    "colab_type": "code",
    "id": "iPfoa7a7tS7f",
    "outputId": "47fcb975-8088-4d82-f797-3885d20b4c9d"
   },
   "outputs": [
    {
     "name": "stdout",
     "output_type": "stream",
     "text": [
      "For debugging, W2=32.0, self.W3=16.0 out 2048.0\n",
      "CNNModel(\n",
      "  (cnn1): Conv2d(3, 16, kernel_size=(5, 5), stride=(1, 1), padding=(2, 2))\n",
      "  (relu1): ReLU()\n",
      "  (maxpool1): MaxPool2d(kernel_size=2, stride=2, padding=0, dilation=1, ceil_mode=False)\n",
      "  (cnn2): Conv2d(16, 32, kernel_size=(5, 5), stride=(1, 1), padding=(2, 2))\n",
      "  (relu2): ReLU()\n",
      "  (maxpool2): MaxPool2d(kernel_size=2, stride=2, padding=0, dilation=1, ceil_mode=False)\n",
      "  (fc1): Linear(in_features=2048, out_features=10, bias=True)\n",
      ")\n"
     ]
    }
   ],
   "source": [
    "trainloader, testloader = get_train_test_loader(trainset, testset, batch_size)\n",
    "\n",
    "parameters = {\n",
    "    'in_dim': 32, \n",
    "    'd1' : 3,\n",
    "    'd2' : 16,\n",
    "    'f1' : 5,\n",
    "    's1' : 1,\n",
    "    'p1' : 2,\n",
    "    'd3' : 32,\n",
    "    'f2' : 5,\n",
    "    's2' : 1,\n",
    "    'p2' : 2,\n",
    "    'h1' : 500\n",
    "}\n",
    "device = torch.device(\"cuda:0\" if torch.cuda.is_available() else \"cpu\")\n",
    "model = CNNModel(**parameters)\n",
    "model.to(device)\n",
    "print(model)\n",
    "\n",
    "criterion = nn.CrossEntropyLoss()\n",
    "optimizer_SGD = torch.optim.SGD(model.parameters(), lr=0.05, momentum=0)"
   ]
  },
  {
   "cell_type": "code",
   "execution_count": 43,
   "metadata": {
    "colab": {
     "base_uri": "https://localhost:8080/",
     "height": 237
    },
    "colab_type": "code",
    "id": "mrZ4g2sttS8A",
    "outputId": "2cd11187-3977-4e78-9829-760d51061e66"
   },
   "outputs": [
    {
     "name": "stdout",
     "output_type": "stream",
     "text": [
      "Finished epoch 1/10  in 9.594507 sec. Loss is 1.898711\n",
      "Finished epoch 2/10  in 9.554699 sec. Loss is 1.504671\n",
      "Finished epoch 3/10  in 9.482562 sec. Loss is 1.337745\n",
      "Finished epoch 4/10  in 9.102624 sec. Loss is 1.224817\n",
      "Finished epoch 5/10  in 8.742627 sec. Loss is 1.147171\n",
      "Finished epoch 6/10  in 8.834293 sec. Loss is 1.079580\n",
      "Finished epoch 7/10  in 8.779311 sec. Loss is 1.023866\n",
      "Finished epoch 8/10  in 8.813772 sec. Loss is 0.980197\n",
      "Finished epoch 9/10  in 9.045758 sec. Loss is 0.943760\n",
      "Finished epoch 10/10  in 9.514671 sec. Loss is 0.912845\n",
      "Accuracy: 64\n"
     ]
    },
    {
     "data": {
      "text/plain": [
       "64"
      ]
     },
     "execution_count": 43,
     "metadata": {
      "tags": []
     },
     "output_type": "execute_result"
    }
   ],
   "source": [
    "# Initialization is affecting a lot and weight decay if it is not 0. \n",
    "train(criterion, model, 10, optimizer_SGD, trainloader)\n",
    "test(model, testloader)"
   ]
  },
  {
   "cell_type": "markdown",
   "metadata": {},
   "source": [
    "### TODO: Weight init function. Not sure if we will use this one. "
   ]
  },
  {
   "cell_type": "code",
   "execution_count": 0,
   "metadata": {
    "colab": {},
    "colab_type": "code",
    "id": "eX2r8Yf6vtGL"
   },
   "outputs": [],
   "source": [
    "def init_weights(m):\n",
    "    if type(m) == nn.Linear:\n",
    "        torch.nn.init.xavier_uniform_(m.weight)\n",
    "        m.bias.data.fill_(0.01)"
   ]
  },
  {
   "cell_type": "code",
   "execution_count": 0,
   "metadata": {
    "colab": {},
    "colab_type": "code",
    "id": "KmrUQeVgykPp"
   },
   "outputs": [],
   "source": [
    "# choose default parameters\n",
    "optims = {\n",
    "    'SGD': torch.optim.SGD(model.parameters(), lr=0.01),\n",
    "    'Adam': torch.optim.Adam(model.parameters(), lr=0.01),\n",
    "    'Adagrad': torch.optim.Adagrad(model.parameters(), lr=0.01),\n",
    "    'Adadelta': torch.optim.Adadelta(model.parameters(), lr=0.01),\n",
    "    'RMSprop': torch.optim.RMSprop(model.parameters(), lr=0.01)\n",
    "}\n",
    "\n",
    "best_optim = None\n",
    "best_acc = 0"
   ]
  },
  {
   "cell_type": "code",
   "execution_count": 0,
   "metadata": {
    "colab": {},
    "colab_type": "code",
    "id": "dy0MjjS40wp2"
   },
   "outputs": [],
   "source": [
    "# get all data folds here\n",
    "all_data_folds = split_data_in_k_folds(5, trainset, 50)\n",
    "\n",
    "# Outer loop through hyperparameters. \n",
    "for name, optimizer in optims.items():\n",
    "    print(\"Validation for optim: \", name)\n",
    "  # every fold will serve once as a validation fold.\n",
    "    for idx_val_fold in range(len(all_data_folds)):\n",
    "        model = CNNModel(**parameters)\n",
    "        model.to(device)\n",
    "        validation_loader = all_data_folds[idx_val_fold]\n",
    "\n",
    "        for idx_training_fold in range(len(all_data_folds)):\n",
    "            if idx_training_fold != idx_val_fold:\n",
    "                train_loader = all_data_folds[idx_training_fold]\n",
    "                train(criterion, model, 10, optimizer,\n",
    "                              train_loader)\n",
    "        \n",
    "        temp_acc = test(model, validation_loader)\n",
    "        \n",
    "        if temp_acc > best_acc:\n",
    "            best_optim = name"
   ]
  },
  {
   "cell_type": "code",
   "execution_count": 71,
   "metadata": {
    "colab": {
     "base_uri": "https://localhost:8080/",
     "height": 515
    },
    "colab_type": "code",
    "id": "nVeLdVPn1em_",
    "outputId": "fa37ac11-e7c7-4c16-ef0a-72666b7c90da"
   },
   "outputs": [
    {
     "data": {
      "image/png": "[encoded data removed]",
      "text/plain": [
       "<matplotlib.figure.Figure at 0x7f84c4a30cc0>"
      ]
     },
     "metadata": {
      "tags": []
     },
     "output_type": "display_data"
    },
    {
     "data": {
      "image/png": "[encoded data removed]",
      "text/plain": [
       "<matplotlib.figure.Figure at 0x7f84c43320f0>"
      ]
     },
     "metadata": {
      "tags": []
     },
     "output_type": "display_data"
    }
   ],
   "source": [
    "# for the moment only vizualizing the learn kernels. \n",
    "with torch.no_grad():\n",
    "    for param in model.named_parameters():\n",
    "        if('cnn' in param[0] and 'weight' in param[0]):\n",
    "            kernels = param[1]\n",
    "            nr_kern = kernels.size(0)\n",
    "            figure, axes = plt.subplots(int(nr_kern/4),4)\n",
    "            figure.set_figwidth(15)\n",
    "            for i in range(kernels.size(0)):\n",
    "                _to_pil = transforms.ToPILImage()\n",
    "                axes[int(i/4), i%4].imshow(_to_pil(kernels[i].detach().cpu()))\n",
    "                \n",
    "            plt.show()\n",
    "            "
   ]
  },
  {
   "cell_type": "code",
   "execution_count": 0,
   "metadata": {
    "colab": {},
    "colab_type": "code",
    "id": "Ijrt40_U4uY9"
   },
   "outputs": [],
   "source": []
  }
 ],
 "metadata": {
  "accelerator": "GPU",
  "colab": {
   "collapsed_sections": [],
   "name": "Assignment_4.ipynb",
   "provenance": [],
   "version": "0.3.2"
  },
  "kernelspec": {
   "display_name": "Python 3",
   "language": "python",
   "name": "python3"
  },
  "language_info": {
   "codemirror_mode": {
    "name": "ipython",
    "version": 3
   },
   "file_extension": ".py",
   "mimetype": "text/x-python",
   "name": "python",
   "nbconvert_exporter": "python",
   "pygments_lexer": "ipython3",
   "version": "3.6.5"
  }
 },
 "nbformat": 4,
 "nbformat_minor": 1
}
