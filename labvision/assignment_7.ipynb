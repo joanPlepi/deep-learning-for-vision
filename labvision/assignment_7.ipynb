{
  "nbformat": 4,
  "nbformat_minor": 0,
  "metadata": {
    "colab": {
      "name": "assignment_7.ipynb",
      "version": "0.3.2",
      "provenance": [],
      "collapsed_sections": []
    },
    "kernelspec": {
      "name": "python3",
      "display_name": "Python 3"
    },
    "accelerator": "GPU"
  },
  "cells": [
    {
      "metadata": {
        "id": "k3VvULWmSaFP",
        "colab_type": "text"
      },
      "cell_type": "markdown",
      "source": [
        "## Assignment 7 by Agajan Torayev (matr.: 3067341), Joan Plepi (matr.: 3056655)"
      ]
    },
    {
      "metadata": {
        "id": "0_O19raTSaFR",
        "colab_type": "code",
        "colab": {
          "base_uri": "https://localhost:8080/",
          "height": 34
        },
        "outputId": "b730aa66-0b39-4a16-ae9c-42a0edd2b243"
      },
      "cell_type": "code",
      "source": [
        "import torch\n",
        "import torch.nn as nn\n",
        "import torchvision.transforms as transforms\n",
        "import torchvision.datasets as datasets\n",
        "import math\n",
        "\n",
        "device = torch.device(\"cuda:0\" if torch.cuda.is_available() else \"cpu\")\n",
        "print(device)"
      ],
      "execution_count": 2,
      "outputs": [
        {
          "output_type": "stream",
          "text": [
            "cuda:0\n"
          ],
          "name": "stdout"
        }
      ]
    },
    {
      "metadata": {
        "id": "3QuMrA-zSe12",
        "colab_type": "code",
        "colab": {
          "base_uri": "https://localhost:8080/",
          "height": 54
        },
        "outputId": "5b3c8631-2727-40fb-9f39-33389d67ecdf"
      },
      "cell_type": "code",
      "source": [
        "# http://pytorch.org/\n",
        "from os.path import exists\n",
        "from wheel.pep425tags import get_abbr_impl, get_impl_ver, get_abi_tag\n",
        "platform = '{}{}-{}'.format(get_abbr_impl(), get_impl_ver(), get_abi_tag())\n",
        "cuda_output = !ldconfig -p|grep cudart.so|sed -e 's/.*\\.\\([0-9]*\\)\\.\\([0-9]*\\)$/cu\\1\\2/'\n",
        "accelerator = cuda_output[0] if exists('/dev/nvidia0') else 'cpu'\n",
        "\n",
        "!pip install -q http://download.pytorch.org/whl/{accelerator}/torch-0.4.1-{platform}-linux_x86_64.whl torchvision\n",
        "import torch"
      ],
      "execution_count": 1,
      "outputs": [
        {
          "output_type": "stream",
          "text": [
            "tcmalloc: large alloc 1073750016 bytes == 0x5818a000 @  0x7ff87ad272a4 0x591a07 0x5b5d56 0x502e9a 0x506859 0x502209 0x502f3d 0x506859 0x504c28 0x502540 0x502f3d 0x506859 0x504c28 0x502540 0x502f3d 0x506859 0x504c28 0x502540 0x502f3d 0x507641 0x502209 0x502f3d 0x506859 0x504c28 0x502540 0x502f3d 0x507641 0x504c28 0x502540 0x502f3d 0x507641\n"
          ],
          "name": "stdout"
        }
      ]
    },
    {
      "metadata": {
        "id": "VNUVR0pqSaFW",
        "colab_type": "text"
      },
      "cell_type": "markdown",
      "source": [
        "### Prepare Data"
      ]
    },
    {
      "metadata": {
        "id": "v-gE2YKGSaFX",
        "colab_type": "code",
        "colab": {
          "base_uri": "https://localhost:8080/",
          "height": 119
        },
        "outputId": "a0eeda80-1424-494b-8adb-cd9abc3e1d22"
      },
      "cell_type": "code",
      "source": [
        "batch_size = 100\n",
        "\n",
        "trainset = datasets.MNIST(root='./data', train=True, transform=transforms.ToTensor(), download=True)\n",
        "testset = datasets.MNIST(root='./data', train=False, transform=transforms.ToTensor(), download=True)\n",
        "\n",
        "trainloader = torch.utils.data.DataLoader(dataset=trainset, batch_size=batch_size, shuffle=True)\n",
        "testloader = torch.utils.data.DataLoader(dataset=testset, batch_size=batch_size, shuffle=False)"
      ],
      "execution_count": 4,
      "outputs": [
        {
          "output_type": "stream",
          "text": [
            "Downloading http://yann.lecun.com/exdb/mnist/train-images-idx3-ubyte.gz\n",
            "Downloading http://yann.lecun.com/exdb/mnist/train-labels-idx1-ubyte.gz\n",
            "Downloading http://yann.lecun.com/exdb/mnist/t10k-images-idx3-ubyte.gz\n",
            "Downloading http://yann.lecun.com/exdb/mnist/t10k-labels-idx1-ubyte.gz\n",
            "Processing...\n",
            "Done!\n"
          ],
          "name": "stdout"
        }
      ]
    },
    {
      "metadata": {
        "id": "QTndRd-ISaFa",
        "colab_type": "text"
      },
      "cell_type": "markdown",
      "source": [
        "### LSTM Model using nn.LSTM"
      ]
    },
    {
      "metadata": {
        "id": "meqxHUfzSaFb",
        "colab_type": "code",
        "colab": {}
      },
      "cell_type": "code",
      "source": [
        "class LSTMModel(nn.Module):\n",
        "    def __init__(self, input_dim, hidden_dim, output_dim, bv=1.0):\n",
        "        super().__init__()\n",
        "        self.hidden_dim = hidden_dim\n",
        "        self.lstm = nn.LSTM(input_dim, hidden_dim, batch_first=True)\n",
        "        self.fc = nn.Linear(hidden_dim, output_dim)\n",
        "        \n",
        "        # init biases for forget gate\n",
        "        for names in self.lstm._all_weights:\n",
        "            for name in filter(lambda n: \"bias\" in n,  names):\n",
        "                bias = getattr(self.lstm, name)\n",
        "                n = bias.size(0)\n",
        "                start, end = n//4, n//2\n",
        "                bias.data[start:end].fill_(bv)\n",
        "    \n",
        "    def forward(self, x):\n",
        "        # initialize hidden and cell states to zeros\n",
        "        h0 = torch.zeros(1, x.size(0), self.hidden_dim, device=device)\n",
        "        c0 = torch.zeros(1, x.size(0), self.hidden_dim, device=device)\n",
        "            \n",
        "        out, (hn, cn) = self.lstm(x, (h0, c0))\n",
        "        \n",
        "        out = self.fc(out[:, -1, :])\n",
        "\n",
        "        return out"
      ],
      "execution_count": 0,
      "outputs": []
    },
    {
      "metadata": {
        "id": "R1kSeNatSaFe",
        "colab_type": "text"
      },
      "cell_type": "markdown",
      "source": [
        "### LSTM Model without nn.LSTM"
      ]
    },
    {
      "metadata": {
        "id": "WmHRwp_zSaFg",
        "colab_type": "code",
        "colab": {}
      },
      "cell_type": "code",
      "source": [
        "\"\"\"This implementation is slower than nn.LSTM because of explicit weight vectors.\"\"\"\n",
        "class MyLSTM(nn.Module):\n",
        "    def __init__(self, input_dim, hidden_dim, output_dim, bv=1.0):\n",
        "        super().__init__()\n",
        "        \n",
        "        self.hidden_dim = hidden_dim\n",
        "        \n",
        "        # input gate\n",
        "        self.linear_ii = nn.Linear(input_dim, hidden_dim)\n",
        "        self.linear_hi = nn.Linear(hidden_dim, hidden_dim)\n",
        "        \n",
        "        # forget gate\n",
        "        self.linear_if = nn.Linear(input_dim, hidden_dim)\n",
        "        self.linear_hf = nn.Linear(hidden_dim, hidden_dim)\n",
        "        \n",
        "        # cell gate\n",
        "        self.linear_ig = nn.Linear(input_dim, hidden_dim)\n",
        "        self.linear_hg = nn.Linear(hidden_dim, hidden_dim)\n",
        "        \n",
        "        # output gate\n",
        "        self.linear_io = nn.Linear(input_dim, hidden_dim)\n",
        "        self.linear_ho = nn.Linear(hidden_dim, hidden_dim)\n",
        "        \n",
        "        # initialize biases for forget gate differently\n",
        "        self.linear_if.bias.data.fill_(bv)\n",
        "        self.linear_hf.bias.data.fill_(bv)\n",
        "        \n",
        "        # Affine layer for output\n",
        "        self.fc = nn.Linear(hidden_dim, output_dim)\n",
        "        \n",
        "    def forward(self, x):\n",
        "        # input of shape (seq_len, batch, input_size)\n",
        "        # initialize hidden and cell states to zeros\n",
        "        # x.size(0) is equal to batch_size (num of layers)\n",
        "        h_t = torch.zeros(x.size(0), self.hidden_dim, device=device)\n",
        "        c_t = torch.zeros(x.size(0), self.hidden_dim, device=device)\n",
        "        print(\"H_T: ----->\", h_t.size())\n",
        "        print(x.size())\n",
        "        seqlen = x.shape[1]\n",
        "        for t in range(seqlen):\n",
        "            xb_t = x[:, t, :]\n",
        "            i_t = nn.Sigmoid()(self.linear_ii(xb_t) + self.linear_hi(h_t))\n",
        "            f_t = nn.Sigmoid()(self.linear_if(xb_t) + self.linear_hf(h_t))\n",
        "            g_t = nn.Tanh()(self.linear_ig(xb_t) + self.linear_hg(h_t))\n",
        "            o_t = nn.Sigmoid()(self.linear_io(xb_t) + self.linear_ho(h_t))\n",
        "            c_t = f_t * c_t + i_t * g_t\n",
        "            h_t = o_t * nn.Tanh()(c_t)\n",
        "        print(\"H_T after processing: \", h_t.size())\n",
        "        out = self.fc(h_t)\n",
        "        print(out.size())\n",
        "        return out"
      ],
      "execution_count": 0,
      "outputs": []
    },
    {
      "metadata": {
        "id": "UwunPKE11BHX",
        "colab_type": "text"
      },
      "cell_type": "markdown",
      "source": [
        "## GRU implementation without nn.GRU"
      ]
    },
    {
      "metadata": {
        "id": "CPLwmq3mtLod",
        "colab_type": "code",
        "colab": {}
      },
      "cell_type": "code",
      "source": [
        "class MyGRU(nn.Module):\n",
        "    def __init__(self, input_dim, hidden_dim, output_dim, bias=1.0):\n",
        "        super().__init__()\n",
        "        self.hidden_dim = hidden_dim\n",
        "        \n",
        "        self.linear_ir = nn.Linear(input_dim, hidden_dim)\n",
        "        self.linear_hr = nn.Linear(hidden_dim, hidden_dim)\n",
        "        \n",
        "        self.linear_iz = nn.Linear(input_dim, hidden_dim)\n",
        "        self.linear_hz = nn.Linear(hidden_dim, hidden_dim)\n",
        "        \n",
        "        self.linear_in = nn.Linear(input_dim, hidden_dim)\n",
        "        self.linear_hn = nn.Linear(hidden_dim, hidden_dim)\n",
        "        \n",
        "        self.fc = nn.Linear(hidden_dim, output_dim)\n",
        "        \n",
        "    def forward(self, x):\n",
        "        # x shape = (batch_size, seq_len, input_dim)\n",
        "        h_t = torch.zeros(x.size(0), self.hidden_dim, device=device)\n",
        "        c_t = torch.zeros(x.size(0), self.hidden_dim, device=device)\n",
        "        \n",
        "        seqlen = x.shape[1]\n",
        "        \n",
        "        for t in range(seqlen):\n",
        "            x_t = x[:, t, :]\n",
        "            r_t = nn.Sigmoid()(self.linear_ir(x_t) + self.linear_hr(h_t))\n",
        "            z_t = nn.Sigmoid()(self.linear_iz(x_t) + self.linear_hz(h_t))\n",
        "            n_t = nn.Tanh()(self.linear_in(x_t) + r_t * self.linear_hn(h_t))\n",
        "            h_t = (1-z_t) * n_t + z_t * h_t\n",
        "        \n",
        "        out = self.fc(h_t)\n",
        "        return out"
      ],
      "execution_count": 0,
      "outputs": []
    },
    {
      "metadata": {
        "id": "gdYdwzl_SaFj",
        "colab_type": "text"
      },
      "cell_type": "markdown",
      "source": [
        "### Training"
      ]
    },
    {
      "metadata": {
        "id": "RJR4lKfESaFk",
        "colab_type": "code",
        "colab": {
          "base_uri": "https://localhost:8080/",
          "height": 1037
        },
        "outputId": "0c041151-b91f-41c7-ffdc-e4c6bfb43bbf"
      },
      "cell_type": "code",
      "source": [
        "input_dim = 28\n",
        "output_dim = 10\n",
        "seq_len = 28 # for truncated BPTT\n",
        "\n",
        "n_iters = 6000\n",
        "num_epochs = 1\n",
        "\n",
        "hidden_dim = 100\n",
        "lr = 1e-1\n",
        "\n",
        "model = MyLSTM(input_dim, hidden_dim, output_dim, bv=5.0)\n",
        "#model = MyGRU(input_dim, hidden_dim, output_dim)\n",
        "model.to(device)\n",
        "\n",
        "criterion = nn.CrossEntropyLoss()\n",
        "optimizer = torch.optim.SGD(model.parameters(), lr=lr)\n",
        "\n",
        "iter = 0\n",
        "for epoch in range(num_epochs):\n",
        "    for i, (images, labels) in enumerate(trainloader):\n",
        "       \n",
        "        images = images.view(-1, seq_len, input_dim).to(device)\n",
        "        labels = labels.to(device)\n",
        "        \n",
        "        optimizer.zero_grad()\n",
        "        outputs = model(images)\n",
        "        loss = criterion(outputs, labels)\n",
        "        loss.backward()\n",
        "        optimizer.step()\n",
        "        iter += 1\n",
        "        \n",
        "        if iter % 10 == 0:\n",
        "            with torch.no_grad():\n",
        "                correct = 0\n",
        "                total = 0\n",
        "\n",
        "                for images, labels in testloader:\n",
        "                    images = images.view(-1, seq_len, input_dim).to(device)\n",
        "                    labels = labels.to(device)\n",
        "\n",
        "                    outputs = model(images)\n",
        "                    _, predicted = torch.max(outputs.data, 1)\n",
        "                    total += labels.size(0)\n",
        "                    \n",
        "                    correct += (predicted.cpu() == labels.cpu()).sum()\n",
        "                \n",
        "                acc = 100 * correct.double() / total\n",
        "                \n",
        "                print('Iteration: {}. Loss: {:.4f}. Accuracy: {:.2f}%'.format(iter, loss.item(), acc))"
      ],
      "execution_count": 46,
      "outputs": [
        {
          "output_type": "stream",
          "text": [
            "Iteration: 10. Loss: 2.2967. Accuracy: 11.00%\n",
            "Iteration: 20. Loss: 2.3114. Accuracy: 11.00%\n",
            "Iteration: 30. Loss: 2.3026. Accuracy: 11.00%\n",
            "Iteration: 40. Loss: 2.2953. Accuracy: 15.00%\n",
            "Iteration: 50. Loss: 2.3000. Accuracy: 15.00%\n",
            "Iteration: 60. Loss: 2.2857. Accuracy: 14.00%\n",
            "Iteration: 70. Loss: 2.2794. Accuracy: 14.00%\n",
            "Iteration: 80. Loss: 2.2798. Accuracy: 17.00%\n",
            "Iteration: 90. Loss: 2.2754. Accuracy: 20.00%\n",
            "Iteration: 100. Loss: 2.2698. Accuracy: 21.00%\n",
            "Iteration: 110. Loss: 2.2798. Accuracy: 22.00%\n",
            "Iteration: 120. Loss: 2.2641. Accuracy: 23.00%\n",
            "Iteration: 130. Loss: 2.2587. Accuracy: 23.00%\n",
            "Iteration: 140. Loss: 2.2733. Accuracy: 24.00%\n",
            "Iteration: 150. Loss: 2.2692. Accuracy: 23.00%\n",
            "Iteration: 160. Loss: 2.2359. Accuracy: 20.00%\n",
            "Iteration: 170. Loss: 2.2364. Accuracy: 21.00%\n",
            "Iteration: 180. Loss: 2.2496. Accuracy: 22.00%\n",
            "Iteration: 190. Loss: 2.2315. Accuracy: 23.00%\n",
            "Iteration: 200. Loss: 2.1998. Accuracy: 24.00%\n",
            "Iteration: 210. Loss: 2.2043. Accuracy: 24.00%\n",
            "Iteration: 220. Loss: 2.2028. Accuracy: 27.00%\n",
            "Iteration: 230. Loss: 2.1750. Accuracy: 27.00%\n",
            "Iteration: 240. Loss: 2.1455. Accuracy: 27.00%\n",
            "Iteration: 250. Loss: 2.1453. Accuracy: 29.00%\n",
            "Iteration: 260. Loss: 2.1336. Accuracy: 31.00%\n",
            "Iteration: 270. Loss: 2.0591. Accuracy: 32.00%\n",
            "Iteration: 280. Loss: 2.0202. Accuracy: 34.00%\n",
            "Iteration: 290. Loss: 1.9380. Accuracy: 30.00%\n",
            "Iteration: 300. Loss: 1.9529. Accuracy: 33.00%\n",
            "Iteration: 310. Loss: 1.8445. Accuracy: 35.00%\n",
            "Iteration: 320. Loss: 1.8638. Accuracy: 36.00%\n",
            "Iteration: 330. Loss: 1.7341. Accuracy: 38.00%\n",
            "Iteration: 340. Loss: 1.6914. Accuracy: 38.00%\n",
            "Iteration: 350. Loss: 1.7927. Accuracy: 43.00%\n",
            "Iteration: 360. Loss: 1.7506. Accuracy: 44.00%\n",
            "Iteration: 370. Loss: 1.6152. Accuracy: 48.00%\n",
            "Iteration: 380. Loss: 1.6731. Accuracy: 49.00%\n",
            "Iteration: 390. Loss: 1.5737. Accuracy: 52.00%\n",
            "Iteration: 400. Loss: 1.3559. Accuracy: 54.00%\n",
            "Iteration: 410. Loss: 1.1765. Accuracy: 56.00%\n",
            "Iteration: 420. Loss: 1.3437. Accuracy: 58.00%\n",
            "Iteration: 430. Loss: 1.3668. Accuracy: 56.00%\n",
            "Iteration: 440. Loss: 1.1698. Accuracy: 60.00%\n",
            "Iteration: 450. Loss: 1.0397. Accuracy: 60.00%\n",
            "Iteration: 460. Loss: 1.2085. Accuracy: 59.00%\n",
            "Iteration: 470. Loss: 1.1296. Accuracy: 63.00%\n",
            "Iteration: 480. Loss: 1.1112. Accuracy: 64.00%\n",
            "Iteration: 490. Loss: 1.1573. Accuracy: 63.00%\n",
            "Iteration: 500. Loss: 1.0082. Accuracy: 65.00%\n",
            "Iteration: 510. Loss: 1.0744. Accuracy: 66.00%\n",
            "Iteration: 520. Loss: 1.2216. Accuracy: 65.00%\n",
            "Iteration: 530. Loss: 1.0205. Accuracy: 65.00%\n",
            "Iteration: 540. Loss: 1.0960. Accuracy: 66.00%\n",
            "Iteration: 550. Loss: 0.9177. Accuracy: 64.00%\n",
            "Iteration: 560. Loss: 0.9762. Accuracy: 70.00%\n",
            "Iteration: 570. Loss: 0.8554. Accuracy: 69.00%\n",
            "Iteration: 580. Loss: 1.0263. Accuracy: 70.00%\n",
            "Iteration: 590. Loss: 0.8720. Accuracy: 69.00%\n",
            "Iteration: 600. Loss: 0.8511. Accuracy: 71.00%\n"
          ],
          "name": "stdout"
        }
      ]
    },
    {
      "metadata": {
        "id": "UbSlZGTWVtFG",
        "colab_type": "code",
        "colab": {}
      },
      "cell_type": "code",
      "source": [
        ""
      ],
      "execution_count": 0,
      "outputs": []
    }
  ]
}