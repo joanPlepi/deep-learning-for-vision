{
 "cells": [
  {
   "cell_type": "markdown",
   "metadata": {},
   "source": [
    "## Assignment 7 by Agajan Torayev (matr.: 3067341), Joan Plepi (matr.: 3056655)"
   ]
  },
  {
   "cell_type": "code",
   "execution_count": 1,
   "metadata": {},
   "outputs": [
    {
     "name": "stdout",
     "output_type": "stream",
     "text": [
      "cuda:0\n"
     ]
    }
   ],
   "source": [
    "import torch\n",
    "import torch.nn as nn\n",
    "import torchvision.transforms as transforms\n",
    "import torchvision.datasets as datasets\n",
    "import math\n",
    "\n",
    "device = torch.device(\"cuda:0\" if torch.cuda.is_available() else \"cpu\")\n",
    "print(device)"
   ]
  },
  {
   "cell_type": "markdown",
   "metadata": {},
   "source": [
    "### Prepare Data"
   ]
  },
  {
   "cell_type": "code",
   "execution_count": 2,
   "metadata": {},
   "outputs": [],
   "source": [
    "batch_size = 100\n",
    "\n",
    "trainset = datasets.MNIST(root='./data', train=True, transform=transforms.ToTensor(), download=True)\n",
    "testset = datasets.MNIST(root='./data', train=False, transform=transforms.ToTensor(), download=True)\n",
    "\n",
    "trainloader = torch.utils.data.DataLoader(dataset=trainset, batch_size=batch_size, shuffle=True)\n",
    "testloader = torch.utils.data.DataLoader(dataset=testset, batch_size=batch_size, shuffle=False)"
   ]
  },
  {
   "cell_type": "markdown",
   "metadata": {},
   "source": [
    "### LSTM Model using nn.LSTM"
   ]
  },
  {
   "cell_type": "code",
   "execution_count": 3,
   "metadata": {},
   "outputs": [],
   "source": [
    "class LSTMModel(nn.Module):\n",
    "    def __init__(self, input_dim, hidden_dim, output_dim, bv=1.0):\n",
    "        super().__init__()\n",
    "        self.hidden_dim = hidden_dim\n",
    "        self.lstm = nn.LSTM(input_dim, hidden_dim, batch_first=True)\n",
    "        self.fc = nn.Linear(hidden_dim, output_dim)\n",
    "        \n",
    "        # init biases for forget gate\n",
    "        for names in self.lstm._all_weights:\n",
    "            for name in filter(lambda n: \"bias\" in n,  names):\n",
    "                bias = getattr(self.lstm, name)\n",
    "                n = bias.size(0)\n",
    "                start, end = n//4, n//2\n",
    "                bias.data[start:end].fill_(bv)\n",
    "    \n",
    "    def forward(self, x):\n",
    "        # initialize hidden and cell states to zeros\n",
    "        h0 = torch.zeros(1, x.size(0), self.hidden_dim, device=device)\n",
    "        c0 = torch.zeros(1, x.size(0), self.hidden_dim, device=device)\n",
    "            \n",
    "        out, (hn, cn) = self.lstm(x, (h0, c0))\n",
    "        \n",
    "        out = self.fc(out[:, -1, :])\n",
    "\n",
    "        return out"
   ]
  },
  {
   "cell_type": "markdown",
   "metadata": {},
   "source": [
    "### LSTM Model without nn.LSTM"
   ]
  },
  {
   "cell_type": "code",
   "execution_count": 4,
   "metadata": {},
   "outputs": [],
   "source": [
    "\"\"\"This implementation is slower than nn.LSTM because of explicit weight vectors.\"\"\"\n",
    "class MyLSTM(nn.Module):\n",
    "    def __init__(self, input_dim, hidden_dim, output_dim, bv=1.0):\n",
    "        super().__init__()\n",
    "        \n",
    "        self.hidden_dim = hidden_dim\n",
    "        \n",
    "        # input gate\n",
    "        self.linear_ii = nn.Linear(input_dim, hidden_dim)\n",
    "        self.linear_hi = nn.Linear(hidden_dim, hidden_dim)\n",
    "        \n",
    "        # forget gate\n",
    "        self.linear_if = nn.Linear(input_dim, hidden_dim)\n",
    "        self.linear_hf = nn.Linear(hidden_dim, hidden_dim)\n",
    "        \n",
    "        # cell gate\n",
    "        self.linear_ig = nn.Linear(input_dim, hidden_dim)\n",
    "        self.linear_hg = nn.Linear(hidden_dim, hidden_dim)\n",
    "        \n",
    "        # output gate\n",
    "        self.linear_io = nn.Linear(input_dim, hidden_dim)\n",
    "        self.linear_ho = nn.Linear(hidden_dim, hidden_dim)\n",
    "        \n",
    "        # initialize biases for forget gate differently\n",
    "        self.linear_if.bias.data.fill_(bv)\n",
    "        self.linear_hf.bias.data.fill_(bv)\n",
    "        \n",
    "        # Affine layer for output\n",
    "        self.fc = nn.Linear(hidden_dim, output_dim)\n",
    "        \n",
    "    def forward(self, x):\n",
    "        # initialize hidden and cell states to zeros\n",
    "        h_t = torch.zeros(x.size(0), self.hidden_dim, device=device)\n",
    "        c_t = torch.zeros(x.size(0), self.hidden_dim, device=device)\n",
    "        \n",
    "        seqlen = x.shape[1]\n",
    "        for t in range(seqlen):\n",
    "            xb_t = x[:, t, :]\n",
    "            i_t = nn.Sigmoid()(self.linear_ii(xb_t) + self.linear_hi(h_t))\n",
    "            f_t = nn.Sigmoid()(self.linear_if(xb_t) + self.linear_hf(h_t))\n",
    "            g_t = nn.Tanh()(self.linear_ig(xb_t) + self.linear_hg(h_t))\n",
    "            o_t = nn.Sigmoid()(self.linear_io(xb_t) + self.linear_ho(h_t))\n",
    "            c_t = f_t * c_t + i_t * g_t\n",
    "            h_t = o_t * nn.Tanh()(c_t)\n",
    "        \n",
    "        out = self.fc(h_t)\n",
    "        return out"
   ]
  },
  {
   "cell_type": "markdown",
   "metadata": {},
   "source": [
    "### Training"
   ]
  },
  {
   "cell_type": "code",
   "execution_count": 5,
   "metadata": {},
   "outputs": [
    {
     "name": "stdout",
     "output_type": "stream",
     "text": [
      "Iteration: 10. Loss: 2.2702. Accuracy: 25.00%\n",
      "Iteration: 20. Loss: 2.0724. Accuracy: 29.00%\n",
      "Iteration: 30. Loss: 2.0219. Accuracy: 29.00%\n",
      "Iteration: 40. Loss: 2.0427. Accuracy: 38.00%\n",
      "Iteration: 50. Loss: 1.8270. Accuracy: 38.00%\n",
      "Iteration: 60. Loss: 1.7080. Accuracy: 46.00%\n",
      "Iteration: 70. Loss: 1.7286. Accuracy: 43.00%\n",
      "Iteration: 80. Loss: 1.7146. Accuracy: 40.00%\n",
      "Iteration: 90. Loss: 1.6722. Accuracy: 49.00%\n",
      "Iteration: 100. Loss: 1.4075. Accuracy: 39.00%\n",
      "Iteration: 110. Loss: 1.4525. Accuracy: 52.00%\n",
      "Iteration: 120. Loss: 1.2916. Accuracy: 59.00%\n",
      "Iteration: 130. Loss: 1.4501. Accuracy: 56.00%\n",
      "Iteration: 140. Loss: 1.3513. Accuracy: 62.00%\n",
      "Iteration: 150. Loss: 1.2870. Accuracy: 54.00%\n",
      "Iteration: 160. Loss: 1.0241. Accuracy: 57.00%\n",
      "Iteration: 170. Loss: 1.2253. Accuracy: 56.00%\n",
      "Iteration: 180. Loss: 1.1363. Accuracy: 67.00%\n",
      "Iteration: 190. Loss: 1.1715. Accuracy: 63.00%\n",
      "Iteration: 200. Loss: 0.9465. Accuracy: 67.00%\n",
      "Iteration: 210. Loss: 1.0106. Accuracy: 65.00%\n",
      "Iteration: 220. Loss: 1.0373. Accuracy: 52.00%\n",
      "Iteration: 230. Loss: 0.9093. Accuracy: 72.00%\n",
      "Iteration: 240. Loss: 0.8037. Accuracy: 72.00%\n",
      "Iteration: 250. Loss: 1.2692. Accuracy: 71.00%\n",
      "Iteration: 260. Loss: 0.9120. Accuracy: 69.00%\n",
      "Iteration: 270. Loss: 1.1228. Accuracy: 67.00%\n",
      "Iteration: 280. Loss: 1.0175. Accuracy: 75.00%\n",
      "Iteration: 290. Loss: 0.9254. Accuracy: 71.00%\n",
      "Iteration: 300. Loss: 0.6845. Accuracy: 78.00%\n",
      "Iteration: 310. Loss: 0.8943. Accuracy: 74.00%\n",
      "Iteration: 320. Loss: 0.7162. Accuracy: 73.00%\n",
      "Iteration: 330. Loss: 0.5273. Accuracy: 75.00%\n",
      "Iteration: 340. Loss: 0.7102. Accuracy: 76.00%\n",
      "Iteration: 350. Loss: 0.7128. Accuracy: 74.00%\n",
      "Iteration: 360. Loss: 0.8873. Accuracy: 78.00%\n",
      "Iteration: 370. Loss: 0.7778. Accuracy: 77.00%\n",
      "Iteration: 380. Loss: 0.6057. Accuracy: 79.00%\n",
      "Iteration: 390. Loss: 0.5896. Accuracy: 81.00%\n",
      "Iteration: 400. Loss: 0.7073. Accuracy: 74.00%\n",
      "Iteration: 410. Loss: 0.6627. Accuracy: 79.00%\n",
      "Iteration: 420. Loss: 0.6982. Accuracy: 83.00%\n",
      "Iteration: 430. Loss: 0.4997. Accuracy: 82.00%\n",
      "Iteration: 440. Loss: 0.5724. Accuracy: 80.00%\n",
      "Iteration: 450. Loss: 0.7487. Accuracy: 81.00%\n",
      "Iteration: 460. Loss: 0.7307. Accuracy: 80.00%\n",
      "Iteration: 470. Loss: 0.6001. Accuracy: 83.00%\n",
      "Iteration: 480. Loss: 0.5758. Accuracy: 83.00%\n",
      "Iteration: 490. Loss: 0.4817. Accuracy: 83.00%\n",
      "Iteration: 500. Loss: 0.5741. Accuracy: 83.00%\n",
      "Iteration: 510. Loss: 0.5652. Accuracy: 86.00%\n",
      "Iteration: 520. Loss: 0.4570. Accuracy: 81.00%\n",
      "Iteration: 530. Loss: 0.5133. Accuracy: 83.00%\n",
      "Iteration: 540. Loss: 0.4693. Accuracy: 85.00%\n",
      "Iteration: 550. Loss: 0.3339. Accuracy: 86.00%\n",
      "Iteration: 560. Loss: 0.4526. Accuracy: 85.00%\n",
      "Iteration: 570. Loss: 0.5582. Accuracy: 82.00%\n",
      "Iteration: 580. Loss: 0.4525. Accuracy: 85.00%\n",
      "Iteration: 590. Loss: 0.3301. Accuracy: 87.00%\n",
      "Iteration: 600. Loss: 0.4110. Accuracy: 87.00%\n"
     ]
    }
   ],
   "source": [
    "input_dim = 28\n",
    "output_dim = 10\n",
    "seq_len = 28 # for truncated BPTT\n",
    "\n",
    "n_iters = 6000\n",
    "num_epochs = 1\n",
    "\n",
    "hidden_dim = 100\n",
    "lr = 1e-1\n",
    "\n",
    "model = MyLSTM(input_dim, hidden_dim, output_dim, bv=5.0)\n",
    "model.to(device)\n",
    "\n",
    "criterion = nn.CrossEntropyLoss()\n",
    "optimizer = torch.optim.SGD(model.parameters(), lr=lr)\n",
    "\n",
    "iter = 0\n",
    "for epoch in range(num_epochs):\n",
    "    for i, (images, labels) in enumerate(trainloader):\n",
    "        images = images.view(-1, seq_len, input_dim).to(device)\n",
    "        labels = labels.to(device)\n",
    "        \n",
    "        optimizer.zero_grad()\n",
    "        outputs = model(images)\n",
    "        loss = criterion(outputs, labels)\n",
    "        loss.backward()\n",
    "        optimizer.step()\n",
    "        iter += 1\n",
    "        \n",
    "        if iter % 10 == 0:\n",
    "            with torch.no_grad():\n",
    "                correct = 0\n",
    "                total = 0\n",
    "\n",
    "                for images, labels in testloader:\n",
    "                    images = images.view(-1, seq_len, input_dim).to(device)\n",
    "                    labels = labels.to(device)\n",
    "\n",
    "                    outputs = model(images)\n",
    "                    _, predicted = torch.max(outputs.data, 1)\n",
    "                    total += labels.size(0)\n",
    "                    \n",
    "                    correct += (predicted.cpu() == labels.cpu()).sum()\n",
    "                \n",
    "                acc = 100 * correct / total\n",
    "                \n",
    "                print('Iteration: {}. Loss: {:.4f}. Accuracy: {:.2f}%'.format(iter, loss.item(), acc))"
   ]
  },
  {
   "cell_type": "code",
   "execution_count": null,
   "metadata": {},
   "outputs": [],
   "source": []
  }
 ],
 "metadata": {
  "kernelspec": {
   "display_name": "Python 3",
   "language": "python",
   "name": "python3"
  },
  "language_info": {
   "codemirror_mode": {
    "name": "ipython",
    "version": 3
   },
   "file_extension": ".py",
   "mimetype": "text/x-python",
   "name": "python",
   "nbconvert_exporter": "python",
   "pygments_lexer": "ipython3",
   "version": "3.7.0"
  }
 },
 "nbformat": 4,
 "nbformat_minor": 2
}
