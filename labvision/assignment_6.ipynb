{
 "cells": [
  {
   "cell_type": "markdown",
   "metadata": {},
   "source": [
    "## Assignment 6 by Agajan Torayev (matr.: 3067341), Joan Plepi (matr.: 3056655)"
   ]
  },
  {
   "cell_type": "code",
   "execution_count": 1,
   "metadata": {},
   "outputs": [],
   "source": [
    "import os\n",
    "import torch\n",
    "import torchvision\n",
    "import torch.nn as nn\n",
    "import torch.utils as utils\n",
    "import torchvision.datasets as datasets\n",
    "import torchvision.transforms as transforms\n",
    "from torchvision.utils import save_image\n",
    "import matplotlib.pyplot as plt\n",
    "import numpy as np\n",
    "import time\n",
    "%matplotlib inline"
   ]
  },
  {
   "cell_type": "markdown",
   "metadata": {},
   "source": [
    "### Setup"
   ]
  },
  {
   "cell_type": "code",
   "execution_count": 2,
   "metadata": {},
   "outputs": [
    {
     "name": "stdout",
     "output_type": "stream",
     "text": [
      "Files already downloaded and verified\n",
      "Files already downloaded and verified\n",
      "Train set size: 50000, Test set size: 10000\n"
     ]
    }
   ],
   "source": [
    "batch_size = 100\n",
    "device = torch.device(\"cuda:0\" if torch.cuda.is_available() else \"cpu\")\n",
    "channels = 3\n",
    "width = 32\n",
    "height = 32\n",
    "\n",
    "classes = ('plane', 'car', 'bird', 'cat', 'deer',\n",
    "           'dog', 'frog', 'horse', 'ship', 'truck')\n",
    "\n",
    "# transformations for the image\n",
    "# normalization: (x - mean) / std\n",
    "means = (0.5, 0.5, 0.5)\n",
    "stds = (0.5, 0.5, 0.5)\n",
    "\n",
    "transform = transforms.Compose([\n",
    "    transforms.ToTensor(),\n",
    "    transforms.Normalize(means, stds)\n",
    "])\n",
    "\n",
    "trainset = torchvision.datasets.CIFAR10(root='./data', train=True,\n",
    "                                        download=True, transform=transform)\n",
    "testset = torchvision.datasets.CIFAR10(root='./data', train=False,\n",
    "                                       download=True, transform=transform)\n",
    "\n",
    "trainloader = torch.utils.data.DataLoader(trainset, batch_size=batch_size,\n",
    "                                      shuffle=True, num_workers=2)\n",
    "testloader = torch.utils.data.DataLoader(testset, batch_size=batch_size,\n",
    "                                             shuffle=False, num_workers=2)\n",
    "\n",
    "print(\"Train set size: {}, Test set size: {}\".format(len(trainset), len(testset)))\n",
    "\n",
    "if not os.path.exists('./convdae'):\n",
    "    os.mkdir('./convdae')\n",
    "\n",
    "def to_img(x, channels, width, height, mean=0.5, std=0.5):\n",
    "    x = std * x + mean\n",
    "    x = x.clamp(0, 1)\n",
    "    return x\n",
    "\n",
    "def add_noise(img, a=-1.0, b=1.0, th=0.1):\n",
    "    noise = torch.randn(img.shape)\n",
    "    return torch.clamp(img + th * noise, a, b)"
   ]
  },
  {
   "cell_type": "markdown",
   "metadata": {},
   "source": [
    "### ConvDAE - Convolutional Denoising Auto Encoder"
   ]
  },
  {
   "cell_type": "code",
   "execution_count": 3,
   "metadata": {},
   "outputs": [],
   "source": [
    "class Encoder(nn.Module):\n",
    "    def __init__(self):\n",
    "        super().__init__()\n",
    "        self.layer1 = nn.Sequential(\n",
    "            nn.Conv2d(3, 32, 3, padding=1), # batch x 32 x 32 x 32\n",
    "            nn.ReLU(),\n",
    "            nn.BatchNorm2d(32),\n",
    "            nn.Conv2d(32, 32, 3, padding=1), # batch x 32 x 32 x 32\n",
    "            nn.ReLU(),\n",
    "            nn.BatchNorm2d(32),\n",
    "            nn.Conv2d(32, 64, 3, padding=1), # batch x 64 x 32 x 32\n",
    "            nn.ReLU(),\n",
    "            nn.BatchNorm2d(64),\n",
    "            nn.Conv2d(64, 64, 3, padding=1), # batch x 64 x 32 x 32\n",
    "            nn.ReLU(),\n",
    "            nn.BatchNorm2d(64),\n",
    "            nn.MaxPool2d(2, stride=2) # batch x 64 x 16 x 16\n",
    "        )\n",
    "        \n",
    "        self.layer2 = nn.Sequential(\n",
    "            nn.Conv2d(64, 128, 3, padding=1), # batch x 128 x 16 x 16\n",
    "            nn.ReLU(),\n",
    "            nn.BatchNorm2d(128),\n",
    "            nn.Conv2d(128, 128, 3, padding=1), # batch x 128 x 16 x 16\n",
    "            nn.ReLU(),\n",
    "            nn.BatchNorm2d(128),\n",
    "            nn.MaxPool2d(2, stride=2), # batch x 128 x 8 x 8\n",
    "            nn.Conv2d(128, 256, 3, padding=1), # batch x 256 x 8 x 8\n",
    "            nn.ReLU()\n",
    "        )\n",
    "    \n",
    "    def forward(self, x):\n",
    "        out = self.layer1(x)\n",
    "        out = self.layer2(out)\n",
    "        return out\n",
    "\n",
    "# w_out = (w_in - 1) * stride - 2 * padding + kernel + output_padding\n",
    "class Decoder(nn.Module):\n",
    "    def __init__(self):\n",
    "        super().__init__()\n",
    "        self.layer1 = nn.Sequential(\n",
    "            nn.ConvTranspose2d(256, 128, 3, stride=2, padding=1, output_padding=1), # batch x 128 x 16 x 16\n",
    "            nn.ReLU(),\n",
    "            nn.BatchNorm2d(128),\n",
    "            nn.ConvTranspose2d(128, 128, 3, stride=1, padding=1, output_padding=0), # batch x 128 x 16 x 16\n",
    "            nn.ReLU(),\n",
    "            nn.BatchNorm2d(128),\n",
    "            nn.ConvTranspose2d(128, 64, 3, stride=2, padding=1, output_padding=1), # batch x 64 x 32 x 32\n",
    "            nn.ReLU(),\n",
    "            nn.BatchNorm2d(64),\n",
    "            nn.ConvTranspose2d(64, 64, 3, stride=1, padding=1, output_padding=0), # batch x 64 x 32 x 32\n",
    "            nn.ReLU(),\n",
    "            nn.BatchNorm2d(64)\n",
    "        )\n",
    "        self.layer2 = nn.Sequential(\n",
    "            nn.ConvTranspose2d(64, 32, 3, stride=1, padding=1, output_padding=0), # batch x 32 x 32 x 32\n",
    "            nn.ReLU(),\n",
    "            nn.BatchNorm2d(32),\n",
    "            nn.ConvTranspose2d(32, 32, 3, stride=1, padding=1, output_padding=0), # batch x 32 x 32 x 32\n",
    "            nn.ReLU(),\n",
    "            nn.BatchNorm2d(32),\n",
    "            nn.ConvTranspose2d(32, 3, 3, stride=1, padding=1, output_padding=0) # batch x 3 x 32 x 32\n",
    "        )\n",
    "    \n",
    "    def forward(self, x):\n",
    "        out = self.layer1(x)\n",
    "        out = self.layer2(out)\n",
    "        return out"
   ]
  },
  {
   "cell_type": "markdown",
   "metadata": {},
   "source": [
    "### Check Autoencoder dimensions"
   ]
  },
  {
   "cell_type": "code",
   "execution_count": 4,
   "metadata": {},
   "outputs": [
    {
     "name": "stdout",
     "output_type": "stream",
     "text": [
      "torch.Size([100, 256, 8, 8])\n",
      "torch.Size([100, 3, 32, 32])\n"
     ]
    }
   ],
   "source": [
    "encoder = Encoder().to(device)\n",
    "decoder = Decoder().to(device)\n",
    "\n",
    "for image, label in trainloader:\n",
    "    image = image.cuda()\n",
    "    output = encoder(image)\n",
    "    print(output.size())\n",
    "    output = decoder(output)\n",
    "    print(output.size())\n",
    "    break"
   ]
  },
  {
   "cell_type": "markdown",
   "metadata": {},
   "source": [
    "### Train ConvDAE"
   ]
  },
  {
   "cell_type": "code",
   "execution_count": 5,
   "metadata": {},
   "outputs": [
    {
     "name": "stdout",
     "output_type": "stream",
     "text": [
      "Epoch: 1\\10, loss: 0.0229, epoch time: 34.7065 seconds.\n",
      "Epoch: 2\\10, loss: 0.0142, epoch time: 34.5653 seconds.\n",
      "Epoch: 3\\10, loss: 0.0110, epoch time: 34.7229 seconds.\n",
      "Epoch: 4\\10, loss: 0.0105, epoch time: 34.5748 seconds.\n",
      "Epoch: 5\\10, loss: 0.0093, epoch time: 34.5028 seconds.\n",
      "Epoch: 6\\10, loss: 0.0072, epoch time: 34.5971 seconds.\n",
      "Epoch: 7\\10, loss: 0.0059, epoch time: 34.5806 seconds.\n",
      "Epoch: 8\\10, loss: 0.0065, epoch time: 34.5979 seconds.\n",
      "Epoch: 9\\10, loss: 0.0056, epoch time: 34.5356 seconds.\n",
      "Epoch: 10\\10, loss: 0.0077, epoch time: 34.6200 seconds.\n"
     ]
    }
   ],
   "source": [
    "num_epochs = 10\n",
    "lr = 1e-2\n",
    "\n",
    "encoder = Encoder().to(device)\n",
    "decoder = Decoder().to(device)\n",
    "parameters = list(encoder.parameters()) + list(decoder.parameters())\n",
    "criterion = nn.MSELoss()\n",
    "optimizer = torch.optim.Adam(parameters, lr=lr)\n",
    "\n",
    "for epoch in range(num_epochs):\n",
    "    start = time.time()\n",
    "    \n",
    "    for images, labels  in trainloader:\n",
    "        noisy_images = add_noise(images)\n",
    "        \n",
    "        images = images.to(device)\n",
    "        noisy_images = noisy_images.to(device)\n",
    "        \n",
    "        # forward pass\n",
    "        outputs = encoder(noisy_images)\n",
    "        outputs = decoder(outputs)\n",
    "        \n",
    "        loss = criterion(outputs, images) # compare with original image not noisy!\n",
    "        \n",
    "        # backward pass\n",
    "        optimizer.zero_grad()\n",
    "        loss.backward()\n",
    "        \n",
    "        # update parameters\n",
    "        optimizer.step()\n",
    "    \n",
    "    end = time.time()\n",
    "    print(\"Epoch: {}\\{}, loss: {:.4f}, epoch time: {:.4f} seconds.\".format(epoch + 1, \n",
    "                                                                           num_epochs, \n",
    "                                                                           loss.item(), \n",
    "                                                                           end - start))\n",
    "    if epoch % 2 == 0:\n",
    "        img = to_img(outputs.cpu().data, channels, width, height)\n",
    "        save_image(img, 'convdae/image_{}.png'.format(epoch + 1))"
   ]
  },
  {
   "cell_type": "markdown",
   "metadata": {},
   "source": [
    "### Save model"
   ]
  },
  {
   "cell_type": "code",
   "execution_count": null,
   "metadata": {},
   "outputs": [],
   "source": [
    "torch.save([encoder,decoder],'./convdae/convdae.pkl')"
   ]
  },
  {
   "cell_type": "markdown",
   "metadata": {},
   "source": [
    "### Load model"
   ]
  },
  {
   "cell_type": "code",
   "execution_count": 7,
   "metadata": {},
   "outputs": [],
   "source": [
    "encoder, decoder = torch.load('./convdae/convdae.pkl')"
   ]
  },
  {
   "cell_type": "code",
   "execution_count": 8,
   "metadata": {},
   "outputs": [
    {
     "data": {
      "image/png": "[encoded data removed]",
      "text/plain": [
       "<Figure size 432x288 with 1 Axes>"
      ]
     },
     "metadata": {
      "needs_background": "light"
     },
     "output_type": "display_data"
    },
    {
     "data": {
      "image/png": "[encoded data removed]",
      "text/plain": [
       "<Figure size 432x288 with 1 Axes>"
      ]
     },
     "metadata": {
      "needs_background": "light"
     },
     "output_type": "display_data"
    },
    {
     "data": {
      "image/png": "[encoded data removed]",
      "text/plain": [
       "<Figure size 432x288 with 1 Axes>"
      ]
     },
     "metadata": {
      "needs_background": "light"
     },
     "output_type": "display_data"
    }
   ],
   "source": [
    "index = 1\n",
    "orig_img = to_img(images[index].cpu(), channels, width, height)\n",
    "orig_img = orig_img.data.numpy().transpose((1, 2, 0))\n",
    "\n",
    "noisy_img = to_img(noisy_images[index].cpu(), channels, width, height)\n",
    "noisy_img = noisy_img.data.numpy().transpose((1, 2, 0))\n",
    "\n",
    "output_img = to_img(outputs[index].cpu(), channels, width, height)\n",
    "output_img = output_img.data.numpy().transpose((1, 2, 0))\n",
    "\n",
    "label = classes[labels[index]]\n",
    "\n",
    "plt.title('Original Image: ' + label)\n",
    "plt.imshow(orig_img)\n",
    "plt.show()\n",
    "\n",
    "plt.title('Noisy Image: ' + label)\n",
    "plt.imshow(noisy_img)\n",
    "plt.show()\n",
    "\n",
    "plt.title('Restored Image: ' + label)\n",
    "plt.imshow(output_img)\n",
    "plt.show()"
   ]
  },
  {
   "cell_type": "markdown",
   "metadata": {},
   "source": [
    "### CIFAR 10 Classification with Latent Space Representations"
   ]
  },
  {
   "cell_type": "markdown",
   "metadata": {},
   "source": [
    "<ol>\n",
    "    <li>Convert all training set to latent space representations  using Encoder.</li>\n",
    "    <li>Convert all test set to latent space representations using Encoder.</li>\n",
    "    <li>Train a classifier on training latent space representations set.</li>\n",
    "    <li>Test a classifier on test latent space representations set.</li>\n",
    "</ol>"
   ]
  },
  {
   "cell_type": "code",
   "execution_count": 9,
   "metadata": {},
   "outputs": [],
   "source": [
    "def to_latent_space(x, channels, width, height, encoder, device):\n",
    "    with torch.no_grad():\n",
    "        x = x.view(1, channels, width, height).to(device)\n",
    "        lx = encoder(x)   \n",
    "    return lx.view(lx.shape[1:])"
   ]
  },
  {
   "cell_type": "code",
   "execution_count": 10,
   "metadata": {},
   "outputs": [],
   "source": [
    "latent_train = []\n",
    "latent_test = []\n",
    "\n",
    "with torch.no_grad():\n",
    "    for images, labels in trainloader:\n",
    "        images = images.to(device)\n",
    "        outputs = encoder(images)\n",
    "        latent_train.append((outputs, labels))\n",
    "\n",
    "with torch.no_grad():\n",
    "    for images, labels in testloader:\n",
    "        images = images.to(device)\n",
    "        outputs = encoder(images)\n",
    "        latent_test.append((outputs, labels))"
   ]
  },
  {
   "cell_type": "code",
   "execution_count": 11,
   "metadata": {},
   "outputs": [],
   "source": [
    "# bactch x 256 x 8 x 8\n",
    "class CNNClassifier(nn.Module):\n",
    "    def __init__(self):\n",
    "        super().__init__()\n",
    "        \n",
    "        self.conv = nn.Sequential(\n",
    "            nn.Conv2d(256, 256, 3, stride=1, padding=1), # batch x 256 x 8 x 8\n",
    "            nn.ReLU(),\n",
    "            nn.BatchNorm2d(256),\n",
    "            nn.Conv2d(256, 256, 3, stride=1, padding=1), # batch x 256 x 8 x 8\n",
    "            nn.ReLU(),\n",
    "            nn.BatchNorm2d(256),\n",
    "            nn.Conv2d(256, 256, 3, stride=1, padding=0), # batch x 256 x 6 x 6\n",
    "            nn.ReLU(),\n",
    "            nn.BatchNorm2d(256),\n",
    "            nn.Conv2d(256, 128, 3, stride=1, padding=1), # batch x 128 x 6 x 6\n",
    "            nn.MaxPool2d(2, stride=1) # batch x 128 x 5 x 5\n",
    "        ) \n",
    "        \n",
    "        self.fc = nn.Sequential(\n",
    "            nn.Linear(128 * 5 * 5, 10),\n",
    "            nn.ReLU(),\n",
    "            nn.Linear(10, 10)\n",
    "        )\n",
    "    \n",
    "    def forward(self, x):\n",
    "        out = self.conv(x),\n",
    "        out = out[0].view(out[0].size(0), -1)\n",
    "        out = self.fc(out)\n",
    "        return out"
   ]
  },
  {
   "cell_type": "markdown",
   "metadata": {},
   "source": [
    "### Helper functions"
   ]
  },
  {
   "cell_type": "code",
   "execution_count": 12,
   "metadata": {},
   "outputs": [],
   "source": [
    "def train(trainloader, model, optimizer, criterion, device, epochs,\n",
    "          validloader=None, l1_reg=0, l2_reg=0):\n",
    "    \"\"\"Trains model on a given trainloader.\"\"\"\n",
    "    model.train()\n",
    "    model.to(device)\n",
    "\n",
    "    train_epoch_losses = []\n",
    "    valid_epoch_losses = []\n",
    "    train_iter_losses = []\n",
    "\n",
    "    valid_epoch_accs = []\n",
    "    \n",
    "    for epoch in range(epochs):\n",
    "\n",
    "        tic = time.time()\n",
    "        loss_sum = 0.0\n",
    "\n",
    "        for i, (images, labels) in enumerate(trainloader):\n",
    "\n",
    "            # prepare inputs\n",
    "            images, labels = images.to(device), labels.to(device)\n",
    "\n",
    "            # forward\n",
    "            optimizer.zero_grad()\n",
    "            outputs = model(images)\n",
    "            loss = criterion(outputs, labels)\n",
    "\n",
    "            # record losses before regularization\n",
    "            loss_sum += loss.item()\n",
    "            train_iter_losses.append(loss.item())\n",
    "\n",
    "            # add regularization loss, initialize to None for autograd\n",
    "            l1_reg_loss = None\n",
    "            l2_reg_loss = None\n",
    "            for param in model.parameters():\n",
    "\n",
    "                # add L1 regularization\n",
    "                if l1_reg_loss is None:\n",
    "                    l1_reg_loss = torch.sum(torch.abs(param))\n",
    "                else:\n",
    "                    l1_reg_loss = l1_reg_loss + torch.sum(torch.abs(param))\n",
    "\n",
    "                # add L2 regularization\n",
    "                if l2_reg_loss is None:\n",
    "                    l2_reg_loss = 0.5 * param.norm(2) ** 2\n",
    "                else:\n",
    "                    l2_reg_loss = l2_reg_loss + 0.5 * param.norm(2) ** 2\n",
    "\n",
    "            loss += l1_reg * l1_reg_loss\n",
    "            loss += l2_reg * l2_reg_loss\n",
    "\n",
    "            # backward\n",
    "            loss.backward()\n",
    "            optimizer.step()\n",
    "\n",
    "        train_loss = loss_sum / (i + 1)\n",
    "        train_epoch_losses.append(train_loss)\n",
    "\n",
    "        # record validation accuracy per epoch if necessary\n",
    "        if validloader is not None:\n",
    "            valid_acc, valid_loss = test(validloader, model, criterion, device)\n",
    "            valid_epoch_losses.append(valid_loss)\n",
    "            valid_epoch_accs.append(valid_acc)\n",
    "\n",
    "        print('Epoch: [{}/{}], total iters: {}, loss: {:.5f}, time: {:.5f} sec.'.format(epoch + 1,\n",
    "                                                                                        epochs,\n",
    "                                                                                        (epoch + 1) * (i + 1),\n",
    "                                                                                        train_loss,\n",
    "                                                                                        time.time() - tic))\n",
    "\n",
    "    return train_epoch_losses, train_iter_losses, valid_epoch_losses, valid_epoch_accs\n",
    "\n",
    "\n",
    "def test(testloader, model, criterion, device):\n",
    "    \"\"\"Tests the model on a given testset and returns all true and predicted labels.\"\"\"\n",
    "    model.eval()\n",
    "    model.to(device)\n",
    "\n",
    "    correct = 0\n",
    "    total = 0\n",
    "    loss = 0.0\n",
    "    with torch.no_grad():\n",
    "        for i, (images, labels) in enumerate(testloader):\n",
    "            images, labels = images.to(device), labels.to(device)\n",
    "            outputs = model(images)\n",
    "\n",
    "            probs, pred_labels = torch.max(outputs.data, 1)\n",
    "            correct += (pred_labels == labels).sum().item()\n",
    "            total += labels.size(0)\n",
    "            loss += criterion(outputs, labels).item()\n",
    "\n",
    "    return 100 * correct / total, loss / (i + 1)"
   ]
  },
  {
   "cell_type": "code",
   "execution_count": 13,
   "metadata": {},
   "outputs": [
    {
     "name": "stdout",
     "output_type": "stream",
     "text": [
      "Epoch: [1/10], total iters: 500, loss: 1.44299, time: 17.22142 sec.\n",
      "Epoch: [2/10], total iters: 1000, loss: 0.96114, time: 17.23578 sec.\n",
      "Epoch: [3/10], total iters: 1500, loss: 0.77654, time: 17.14954 sec.\n",
      "Epoch: [4/10], total iters: 2000, loss: 0.64100, time: 17.15781 sec.\n",
      "Epoch: [5/10], total iters: 2500, loss: 0.52296, time: 17.28324 sec.\n",
      "Epoch: [6/10], total iters: 3000, loss: 0.40624, time: 17.24503 sec.\n",
      "Epoch: [7/10], total iters: 3500, loss: 0.30905, time: 17.12582 sec.\n",
      "Epoch: [8/10], total iters: 4000, loss: 0.23297, time: 17.18991 sec.\n",
      "Epoch: [9/10], total iters: 4500, loss: 0.18332, time: 17.27324 sec.\n",
      "Epoch: [10/10], total iters: 5000, loss: 0.14616, time: 17.17310 sec.\n",
      "Training accuracy: 88.8120, test accuracy: 71.9400\n"
     ]
    }
   ],
   "source": [
    "classifier = CNNClassifier()\n",
    "classifier.to(device)\n",
    "\n",
    "lr = 1e-4\n",
    "epochs = 10\n",
    "\n",
    "optimizer = torch.optim.Adam(classifier.parameters(), lr=1e-4)\n",
    "criterion = nn.CrossEntropyLoss()\n",
    "\n",
    "train(latent_train, classifier, optimizer, criterion, device, epochs, l2_reg=0)\n",
    "\n",
    "train_acc = test(latent_train, classifier, criterion, device)[0]\n",
    "test_acc = test(latent_test, classifier, criterion, device)[0]\n",
    "print(\"Training accuracy: {:.4f}, test accuracy: {:.4f}\".format(train_acc, test_acc))"
   ]
  },
  {
   "cell_type": "code",
   "execution_count": null,
   "metadata": {},
   "outputs": [],
   "source": []
  }
 ],
 "metadata": {
  "kernelspec": {
   "display_name": "Python 3",
   "language": "python",
   "name": "python3"
  },
  "language_info": {
   "codemirror_mode": {
    "name": "ipython",
    "version": 3
   },
   "file_extension": ".py",
   "mimetype": "text/x-python",
   "name": "python",
   "nbconvert_exporter": "python",
   "pygments_lexer": "ipython3",
   "version": "3.7.0"
  }
 },
 "nbformat": 4,
 "nbformat_minor": 2
}
