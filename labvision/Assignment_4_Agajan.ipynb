{
 "cells": [
  {
   "cell_type": "code",
   "execution_count": 0,
   "metadata": {
    "colab": {},
    "colab_type": "code",
    "id": "FI_yE8d8tS5V"
   },
   "outputs": [],
   "source": [
    "from time import time\n",
    "import torch\n",
    "import torch.nn as nn\n",
    "from torch.utils.data import SubsetRandomSampler\n",
    "import numpy as np\n",
    "import matplotlib.pyplot as plt\n",
    "%matplotlib inline\n",
    "import torchvision.datasets as dsets\n",
    "import torchvision.transforms as transforms"
   ]
  },
  {
   "cell_type": "code",
   "execution_count": 3,
   "metadata": {
    "colab": {
     "base_uri": "https://localhost:8080/",
     "height": 54
    },
    "colab_type": "code",
    "id": "v-e8NGABgnwZ",
    "outputId": "8f0ac015-b9a6-4a01-f864-993111452f84"
   },
   "outputs": [
    {
     "name": "stdout",
     "output_type": "stream",
     "text": [
      "tcmalloc: large alloc 1073750016 bytes == 0x5797a000 @  0x7fed455512a4 0x591a07 0x5b5d56 0x502e9a 0x506859 0x502209 0x502f3d 0x506859 0x504c28 0x502540 0x502f3d 0x506859 0x504c28 0x502540 0x502f3d 0x506859 0x504c28 0x502540 0x502f3d 0x507641 0x502209 0x502f3d 0x506859 0x504c28 0x502540 0x502f3d 0x507641 0x504c28 0x502540 0x502f3d 0x507641\n"
     ]
    }
   ],
   "source": [
    "# http://pytorch.org/\n",
    "from os.path import exists\n",
    "from wheel.pep425tags import get_abbr_impl, get_impl_ver, get_abi_tag\n",
    "platform = '{}{}-{}'.format(get_abbr_impl(), get_impl_ver(), get_abi_tag())\n",
    "cuda_output = !ldconfig -p|grep cudart.so|sed -e 's/.*\\.\\([0-9]*\\)\\.\\([0-9]*\\)$/cu\\1\\2/'\n",
    "accelerator = cuda_output[0] if exists('/dev/nvidia0') else 'cpu'\n",
    "\n",
    "!pip install -q http://download.pytorch.org/whl/{accelerator}/torch-0.4.1-{platform}-linux_x86_64.whl torchvision\n",
    "import torch"
   ]
  },
  {
   "cell_type": "code",
   "execution_count": 5,
   "metadata": {
    "colab": {
     "base_uri": "https://localhost:8080/",
     "height": 34
    },
    "colab_type": "code",
    "id": "lpDvemH2tiVE",
    "outputId": "73d2bb68-6d4c-44d1-9476-6fe48ee17f14"
   },
   "outputs": [
    {
     "data": {
      "text/plain": [
       "True"
      ]
     },
     "execution_count": 5,
     "metadata": {
      "tags": []
     },
     "output_type": "execute_result"
    }
   ],
   "source": [
    "torch.cuda.is_available()"
   ]
  },
  {
   "cell_type": "code",
   "execution_count": 0,
   "metadata": {
    "colab": {},
    "colab_type": "code",
    "id": "vFGBHJvbtS5z"
   },
   "outputs": [],
   "source": [
    "def get_train_test_loader(trainset, testset, batch_size):\n",
    "\n",
    "    # Making dataset iterable\n",
    "    train_loader = torch.utils.data.DataLoader(dataset=trainset,\n",
    "                                               batch_size=batch_size,\n",
    "                                               shuffle=True)\n",
    "    test_loader = torch.utils.data.DataLoader(dataset=testset,\n",
    "                                              batch_size=batch_size,\n",
    "                                              shuffle=False)\n",
    "\n",
    "    return train_loader, test_loader"
   ]
  },
  {
   "cell_type": "code",
   "execution_count": 0,
   "metadata": {
    "colab": {},
    "colab_type": "code",
    "id": "YHe1pqj5tS6E"
   },
   "outputs": [],
   "source": [
    "'''\n",
    "    Parameters:\n",
    "    - k, number of folds\n",
    "    - trainset, the training set\n",
    "    - batch size\n",
    "'''\n",
    "def split_data_in_k_folds(k, trainset, batch_size):\n",
    "    patterns_per_fold = len(trainset) / k\n",
    "\n",
    "    samplers = []\n",
    "    for i in range(k):\n",
    "        samplers.append(SubsetRandomSampler(np.arange(i * patterns_per_fold, (i + 1) * patterns_per_fold, dtype=np.int32)))\n",
    "\n",
    "    all_data_folds = []\n",
    "\n",
    "    for sampler in samplers:\n",
    "        all_data_folds.append(\n",
    "            torch.utils.data.DataLoader(dataset=trainset,\n",
    "                                        batch_size=batch_size,\n",
    "                                        sampler=sampler,\n",
    "                                        shuffle=False)\n",
    "        )\n",
    "\n",
    "    return all_data_folds"
   ]
  },
  {
   "cell_type": "code",
   "execution_count": 0,
   "metadata": {
    "colab": {},
    "colab_type": "code",
    "id": "BnaaG6d6tS6Y"
   },
   "outputs": [],
   "source": [
    "# TODO: Check with Agajan how many layers we can do here...\n",
    "# TODO: Change the CNN model to return also the intermadiate outputs for vizualization\n",
    "'''\n",
    "Explain the parameters here. \n",
    "in_dim -> cifar case 32x32. I am supposing those are square matrix.\n",
    "d -> stands for depth.\n",
    "f -> kernel size\n",
    "s -> stride\n",
    "p -> padding size\n",
    "'''\n",
    "class CNNModel(nn.Module):\n",
    "    def __init__(self, **params):\n",
    "        super(CNNModel, self).__init__()\n",
    "        # Convolution 1\n",
    "        self.cnn1 = nn.Conv2d(in_channels=params['d1'], out_channels=params['d2'], kernel_size=params['f1'],\n",
    "                              stride=params['s1'], padding=params['p1'])\n",
    "        # Activation 1\n",
    "        self.relu1 = nn.ReLU()\n",
    "        \n",
    "        # Convolution 2\n",
    "        self.cnn2 =  nn.Conv2d(in_channels=params['d2'], out_channels=params['d3'], kernel_size=params['f2'],\n",
    "                              stride=params['s2'], padding=params['p2'])\n",
    "        # Activation 2\n",
    "        self.relu2 = nn.ReLU()\n",
    "        \n",
    "        # Max pooling 1\n",
    "        self.maxpool1 = nn.MaxPool2d(kernel_size=2)\n",
    "\n",
    "        self.W2 = (params['in_dim'] - params['f1'] + 2*params['p1'])/params['s1'] + 1\n",
    "        \n",
    "        self.W3 = (self.W2 - params['f2'] + 2*params['p2'])/params['s2'] + 1\n",
    "\n",
    "        self.out_dim = params['d3'] * ((self.W3/2) ** 2)\n",
    "        print(\"For debugging, W2={}, self.W3={} out {}\"\n",
    "              .format(self.W2,self.W3, self.out_dim))\n",
    "\n",
    "        # Fully connected layer\n",
    "        self.fc1 = nn.Linear(int(self.out_dim), params['h1'])\n",
    "        self.fc1_Relu = nn.ReLU()\n",
    "        self.fc2 = nn.Linear(params['h1'], 10)\n",
    "\n",
    "    def forward(self, x):\n",
    "        # Convolution and activation 1\n",
    "        out = self.cnn1(x)\n",
    "        out = self.relu1(out)\n",
    "\n",
    "        # Convolution and activation 1\n",
    "        out = self.cnn2(out)\n",
    "        out = self.relu2(out)\n",
    "\n",
    "        # Max pooling 2\n",
    "        out = self.maxpool1(out)\n",
    "\n",
    "        # Reshaping to pass it to fc1\n",
    "        out = out.view(out.size(0), -1)\n",
    "        # Fully connected layer\n",
    "        out = self.fc1(out)\n",
    "        out = self.fc1_Relu(out)\n",
    "        out = self.fc2(out)\n",
    "        \n",
    "        return out"
   ]
  },
  {
   "cell_type": "code",
   "execution_count": 0,
   "metadata": {
    "colab": {},
    "colab_type": "code",
    "id": "Xzc22EsttS6l"
   },
   "outputs": [],
   "source": [
    "'''\n",
    "    Parameters:\n",
    "        - criterion, loss function\n",
    "        - input dimension\n",
    "        - a numpy array which will save the loss for every epoch\n",
    "        - the model\n",
    "        - number of epochs\n",
    "        - an optimizer\n",
    "        - and the train loader to iterate through the patterns     \n",
    "'''\n",
    "def train(criterion, model, num_epochs, optimizer, train_loader):\n",
    "    model.train()\n",
    "    loss_per_iter = []\n",
    "    loss_per_epoch = []\n",
    "\n",
    "    for epoch in range(num_epochs):\n",
    "        tic = time()\n",
    "        loss_acc_per_epoch = 0\n",
    "        \n",
    "        for i, (images, labels) in enumerate(train_loader):\n",
    "            \n",
    "            # send to device\n",
    "            images, labels = images.to(device), labels.to(device)\n",
    "\n",
    "            # Clearing the gradients.\n",
    "            optimizer.zero_grad()\n",
    "            \n",
    "            # Forward pass\n",
    "            outputs = model(images)\n",
    "\n",
    "            # Here the loss function is applied.\n",
    "            loss = criterion(outputs, labels)\n",
    "\n",
    "            # We accumulate the loss till the end of the epoch\n",
    "            loss_acc_per_epoch += loss\n",
    "            loss_per_iter.append(loss)\n",
    "\n",
    "            loss.backward()\n",
    "\n",
    "            optimizer.step()\n",
    "        loss_per_epoch.append(loss_acc_per_epoch/i)\n",
    "        #print(\"Finished epoch {:d}/{:d}  in {:f} sec. Loss is {:f}\".format(epoch+1, num_epochs, time() - tic, loss_acc_per_epoch/i))\n",
    "        \n",
    "    return loss_per_epoch, loss_per_iter"
   ]
  },
  {
   "cell_type": "code",
   "execution_count": 0,
   "metadata": {
    "colab": {},
    "colab_type": "code",
    "id": "1dl4IiOXtS6z"
   },
   "outputs": [],
   "source": [
    "def test(model, test_loader):\n",
    "    model.eval()\n",
    "    # Calculate Accuracy\n",
    "    correct = 0\n",
    "    total = 0\n",
    "    # Iterate through test dataset\n",
    "    with torch.no_grad():\n",
    "        for images, labels in test_loader:\n",
    "\n",
    "            images, labels = images.to(device), labels.to(device)\n",
    "            # Forward pass only to get logits/output\n",
    "            outputs = model(images)\n",
    "            # Get predictions from the maximum value\n",
    "            # it returns the values and the indices of max values per row. Pretty cool.\n",
    "            _, predicted = torch.max(outputs.data, 1)\n",
    "\n",
    "            # Total number of labels\n",
    "            total += labels.size(0)\n",
    "\n",
    "            # Total correct predictions\n",
    "            correct += (predicted.cpu() == labels.cpu()).sum()\n",
    "\n",
    "    accuracy = 100 * correct / total\n",
    "\n",
    "    #print('Accuracy: {}'.format(accuracy))\n",
    "    return accuracy.item()"
   ]
  },
  {
   "cell_type": "code",
   "execution_count": 0,
   "metadata": {
    "colab": {},
    "colab_type": "code",
    "id": "P2Ih6D3FcJa9"
   },
   "outputs": [],
   "source": [
    "def weight_init(m):\n",
    "    if isinstance(m, nn.Conv2d):\n",
    "        torch.nn.init.xavier_uniform_(m.weight.data)"
   ]
  },
  {
   "cell_type": "code",
   "execution_count": 13,
   "metadata": {
    "colab": {
     "base_uri": "https://localhost:8080/",
     "height": 51
    },
    "colab_type": "code",
    "id": "JhxCxnhZtS7E",
    "outputId": "16bab3b3-fc9e-4885-be5b-61649719ef97"
   },
   "outputs": [
    {
     "name": "stdout",
     "output_type": "stream",
     "text": [
      "Downloading https://www.cs.toronto.edu/~kriz/cifar-10-python.tar.gz to ./data/cifar-10-python.tar.gz\n",
      "Files already downloaded and verified\n"
     ]
    }
   ],
   "source": [
    "''' Loading the dataset '''\n",
    "trainset = dsets.CIFAR10('./data', train=True, download=True, transform=transforms.ToTensor())\n",
    "testset = dsets.CIFAR10('./data', train=False, download=True, transform=transforms.ToTensor())\n",
    "\n",
    "''' Defining batch size and number of iterations and number of epochs based on those'''\n",
    "batch_size = 100\n",
    "num_epochs = 10\n",
    "\n",
    "# setting the seed\n",
    "torch.manual_seed(1)\n",
    "\n",
    "# setting input and output dimensions\n",
    "CLASSES = ('plane', 'car', 'bird', 'cat', 'deer', 'dog', 'frog', 'horse', 'ship', 'truck')\n",
    "input_dim = 3 * 32 * 32\n",
    "output_dim = len(CLASSES)"
   ]
  },
  {
   "cell_type": "markdown",
   "metadata": {
    "colab_type": "text",
    "id": "iEN5TxQ8tS7a"
   },
   "source": [
    "## Just for a single run try with default parameters"
   ]
  },
  {
   "cell_type": "code",
   "execution_count": 16,
   "metadata": {
    "colab": {
     "base_uri": "https://localhost:8080/",
     "height": 238
    },
    "colab_type": "code",
    "id": "iPfoa7a7tS7f",
    "outputId": "664dd6fd-5604-4e12-a2d8-d4fd6b062440"
   },
   "outputs": [
    {
     "name": "stdout",
     "output_type": "stream",
     "text": [
      "For debugging, W2=28.0, self.W3=28.0 out 6272.0\n",
      "CNNModel(\n",
      "  (cnn1): Conv2d(3, 16, kernel_size=(5, 5), stride=(1, 1))\n",
      "  (relu1): ReLU()\n",
      "  (cnn2): Conv2d(16, 32, kernel_size=(5, 5), stride=(1, 1), padding=(2, 2))\n",
      "  (relu2): ReLU()\n",
      "  (maxpool1): MaxPool2d(kernel_size=2, stride=2, padding=0, dilation=1, ceil_mode=False)\n",
      "  (fc1): Linear(in_features=6272, out_features=500, bias=True)\n",
      "  (fc1_Relu): ReLU()\n",
      "  (fc2): Linear(in_features=500, out_features=10, bias=True)\n",
      ")\n",
      "Accuracy: 55\n"
     ]
    },
    {
     "data": {
      "text/plain": [
       "55"
      ]
     },
     "execution_count": 16,
     "metadata": {
      "tags": []
     },
     "output_type": "execute_result"
    }
   ],
   "source": [
    "trainloader, testloader = get_train_test_loader(trainset, testset, batch_size)\n",
    "\n",
    "parameters = {\n",
    "    'in_dim': 32, \n",
    "    'd1' : 3,\n",
    "    'd2' : 16,\n",
    "    'f1' : 5,\n",
    "    's1' : 1,\n",
    "    'p1' : 0,\n",
    "    'd3' : 32,\n",
    "    'f2' : 5,\n",
    "    's2' : 1,\n",
    "    'p2' : 2,\n",
    "    'h1' : 500\n",
    "}\n",
    "device = torch.device(\"cuda:0\" if torch.cuda.is_available() else \"cpu\")\n",
    "model = CNNModel(**parameters)\n",
    "model.to(device)\n",
    "print(model)\n",
    "\n",
    "criterion = nn.CrossEntropyLoss()\n",
    "model.apply(weight_init)\n",
    "optimizer = torch.optim.SGD(model.parameters(), lr=0.01,weight_decay=0 )\n",
    "\n",
    "train(criterion, model, 10, optimizer, trainloader)\n",
    "test(model, testloader)"
   ]
  },
  {
   "cell_type": "markdown",
   "metadata": {
    "colab_type": "text",
    "id": "sG9p0S6EcWr3"
   },
   "source": [
    "# Cross Validation "
   ]
  },
  {
   "cell_type": "code",
   "execution_count": 0,
   "metadata": {
    "colab": {},
    "colab_type": "code",
    "id": "KmrUQeVgykPp"
   },
   "outputs": [],
   "source": [
    "# choose default parameters\n",
    "hyperparameter_ranges = {\n",
    "    'wd' : [1e-3, 1e-5, 0],\n",
    "    #'lr' : [0.05, 0.01, 0.005, 0.001],\n",
    "    'lr' : [0.05],\n",
    "    'd2' : [16,24,32],\n",
    "    'd3' : [32, 38, 44, 50],\n",
    "    'p2' : [0, 1],\n",
    "    'h1' : [500, 1000, 1500]\n",
    "}\n",
    "\n",
    "parameters = {\n",
    "    'in_dim': 32, \n",
    "    'd1' : 3,\n",
    "    'f1' : 3,\n",
    "    's1' : 1,\n",
    "    'p1' : 0,\n",
    "    'f2' : 3,\n",
    "    's2' : 1,\n",
    "}\n",
    "best_values = {'d2':0, 'd3':0, 'f2':0, 's2':0, 'p2':0, 'h1':0}\n"
   ]
  },
  {
   "cell_type": "code",
   "execution_count": 21,
   "metadata": {
    "colab": {
     "base_uri": "https://localhost:8080/",
     "height": 1269
    },
    "colab_type": "code",
    "id": "dy0MjjS40wp2",
    "outputId": "03613871-faf7-4756-c31a-0c3f1df07a57"
   },
   "outputs": [
    {
     "name": "stdout",
     "output_type": "stream",
     "text": [
      "For debugging, W2=30.0, self.W3=28.0 out 3136.0\n",
      "Acc: 9.4. Parameter combination 0.001, 0.1, 16, 16, 0, 500\n",
      "For debugging, W2=30.0, self.W3=28.0 out 3136.0\n",
      "Acc: 18.6. Parameter combination 0.001, 0.1, 16, 16, 0, 1000\n",
      "For debugging, W2=30.0, self.W3=28.0 out 3136.0\n",
      "Acc: 37.4. Parameter combination 0.001, 0.1, 16, 16, 0, 1500\n",
      "For debugging, W2=30.0, self.W3=30.0 out 3600.0\n",
      "Acc: 9.4. Parameter combination 0.001, 0.1, 16, 16, 1, 500\n",
      "For debugging, W2=30.0, self.W3=30.0 out 3600.0\n",
      "Acc: 37.0. Parameter combination 0.001, 0.1, 16, 16, 1, 1000\n",
      "For debugging, W2=30.0, self.W3=30.0 out 3600.0\n",
      "Acc: 36.0. Parameter combination 0.001, 0.1, 16, 16, 1, 1500\n",
      "For debugging, W2=30.0, self.W3=28.0 out 6272.0\n",
      "Acc: 19.6. Parameter combination 0.001, 0.1, 16, 32, 0, 500\n",
      "For debugging, W2=30.0, self.W3=28.0 out 6272.0\n",
      "Acc: 9.2. Parameter combination 0.001, 0.1, 16, 32, 0, 1000\n",
      "For debugging, W2=30.0, self.W3=28.0 out 6272.0\n",
      "Acc: 37.6. Parameter combination 0.001, 0.1, 16, 32, 0, 1500\n",
      "For debugging, W2=30.0, self.W3=30.0 out 7200.0\n"
     ]
    },
    {
     "ename": "KeyboardInterrupt",
     "evalue": "ignored",
     "output_type": "error",
     "traceback": [
      "\u001b[0;31m---------------------------------------------------------------------------\u001b[0m",
      "\u001b[0;31mKeyboardInterrupt\u001b[0m                         Traceback (most recent call last)",
      "\u001b[0;32m<ipython-input-21-14c2fae4fd4f>\u001b[0m in \u001b[0;36m<module>\u001b[0;34m()\u001b[0m\n\u001b[1;32m     44\u001b[0m                                     \u001b[0;31m# training\u001b[0m\u001b[0;34m\u001b[0m\u001b[0;34m\u001b[0m\u001b[0;34m\u001b[0m\u001b[0m\n\u001b[1;32m     45\u001b[0m                                     train(criterion, model, 10, optimizer,\n\u001b[0;32m---> 46\u001b[0;31m                                                   train_loader)\n\u001b[0m\u001b[1;32m     47\u001b[0m \u001b[0;34m\u001b[0m\u001b[0m\n\u001b[1;32m     48\u001b[0m                             \u001b[0;31m# validating over the validation fold\u001b[0m\u001b[0;34m\u001b[0m\u001b[0;34m\u001b[0m\u001b[0;34m\u001b[0m\u001b[0m\n",
      "\u001b[0;32m<ipython-input-10-119cbec58cdf>\u001b[0m in \u001b[0;36mtrain\u001b[0;34m(criterion, model, num_epochs, optimizer, train_loader)\u001b[0m\n\u001b[1;32m     18\u001b[0m         \u001b[0mloss_acc_per_epoch\u001b[0m \u001b[0;34m=\u001b[0m \u001b[0;36m0\u001b[0m\u001b[0;34m\u001b[0m\u001b[0;34m\u001b[0m\u001b[0m\n\u001b[1;32m     19\u001b[0m \u001b[0;34m\u001b[0m\u001b[0m\n\u001b[0;32m---> 20\u001b[0;31m         \u001b[0;32mfor\u001b[0m \u001b[0mi\u001b[0m\u001b[0;34m,\u001b[0m \u001b[0;34m(\u001b[0m\u001b[0mimages\u001b[0m\u001b[0;34m,\u001b[0m \u001b[0mlabels\u001b[0m\u001b[0;34m)\u001b[0m \u001b[0;32min\u001b[0m \u001b[0menumerate\u001b[0m\u001b[0;34m(\u001b[0m\u001b[0mtrain_loader\u001b[0m\u001b[0;34m)\u001b[0m\u001b[0;34m:\u001b[0m\u001b[0;34m\u001b[0m\u001b[0;34m\u001b[0m\u001b[0m\n\u001b[0m\u001b[1;32m     21\u001b[0m \u001b[0;34m\u001b[0m\u001b[0m\n\u001b[1;32m     22\u001b[0m             \u001b[0;31m# send to device\u001b[0m\u001b[0;34m\u001b[0m\u001b[0;34m\u001b[0m\u001b[0;34m\u001b[0m\u001b[0m\n",
      "\u001b[0;32m/usr/local/lib/python3.6/dist-packages/torch/utils/data/dataloader.py\u001b[0m in \u001b[0;36m__next__\u001b[0;34m(self)\u001b[0m\n\u001b[1;32m    312\u001b[0m         \u001b[0;32mif\u001b[0m \u001b[0mself\u001b[0m\u001b[0;34m.\u001b[0m\u001b[0mnum_workers\u001b[0m \u001b[0;34m==\u001b[0m \u001b[0;36m0\u001b[0m\u001b[0;34m:\u001b[0m  \u001b[0;31m# same-process loading\u001b[0m\u001b[0;34m\u001b[0m\u001b[0;34m\u001b[0m\u001b[0m\n\u001b[1;32m    313\u001b[0m             \u001b[0mindices\u001b[0m \u001b[0;34m=\u001b[0m \u001b[0mnext\u001b[0m\u001b[0;34m(\u001b[0m\u001b[0mself\u001b[0m\u001b[0;34m.\u001b[0m\u001b[0msample_iter\u001b[0m\u001b[0;34m)\u001b[0m  \u001b[0;31m# may raise StopIteration\u001b[0m\u001b[0;34m\u001b[0m\u001b[0;34m\u001b[0m\u001b[0m\n\u001b[0;32m--> 314\u001b[0;31m             \u001b[0mbatch\u001b[0m \u001b[0;34m=\u001b[0m \u001b[0mself\u001b[0m\u001b[0;34m.\u001b[0m\u001b[0mcollate_fn\u001b[0m\u001b[0;34m(\u001b[0m\u001b[0;34m[\u001b[0m\u001b[0mself\u001b[0m\u001b[0;34m.\u001b[0m\u001b[0mdataset\u001b[0m\u001b[0;34m[\u001b[0m\u001b[0mi\u001b[0m\u001b[0;34m]\u001b[0m \u001b[0;32mfor\u001b[0m \u001b[0mi\u001b[0m \u001b[0;32min\u001b[0m \u001b[0mindices\u001b[0m\u001b[0;34m]\u001b[0m\u001b[0;34m)\u001b[0m\u001b[0;34m\u001b[0m\u001b[0;34m\u001b[0m\u001b[0m\n\u001b[0m\u001b[1;32m    315\u001b[0m             \u001b[0;32mif\u001b[0m \u001b[0mself\u001b[0m\u001b[0;34m.\u001b[0m\u001b[0mpin_memory\u001b[0m\u001b[0;34m:\u001b[0m\u001b[0;34m\u001b[0m\u001b[0;34m\u001b[0m\u001b[0m\n\u001b[1;32m    316\u001b[0m                 \u001b[0mbatch\u001b[0m \u001b[0;34m=\u001b[0m \u001b[0mpin_memory_batch\u001b[0m\u001b[0;34m(\u001b[0m\u001b[0mbatch\u001b[0m\u001b[0;34m)\u001b[0m\u001b[0;34m\u001b[0m\u001b[0;34m\u001b[0m\u001b[0m\n",
      "\u001b[0;32m/usr/local/lib/python3.6/dist-packages/torch/utils/data/dataloader.py\u001b[0m in \u001b[0;36m<listcomp>\u001b[0;34m(.0)\u001b[0m\n\u001b[1;32m    312\u001b[0m         \u001b[0;32mif\u001b[0m \u001b[0mself\u001b[0m\u001b[0;34m.\u001b[0m\u001b[0mnum_workers\u001b[0m \u001b[0;34m==\u001b[0m \u001b[0;36m0\u001b[0m\u001b[0;34m:\u001b[0m  \u001b[0;31m# same-process loading\u001b[0m\u001b[0;34m\u001b[0m\u001b[0;34m\u001b[0m\u001b[0m\n\u001b[1;32m    313\u001b[0m             \u001b[0mindices\u001b[0m \u001b[0;34m=\u001b[0m \u001b[0mnext\u001b[0m\u001b[0;34m(\u001b[0m\u001b[0mself\u001b[0m\u001b[0;34m.\u001b[0m\u001b[0msample_iter\u001b[0m\u001b[0;34m)\u001b[0m  \u001b[0;31m# may raise StopIteration\u001b[0m\u001b[0;34m\u001b[0m\u001b[0;34m\u001b[0m\u001b[0m\n\u001b[0;32m--> 314\u001b[0;31m             \u001b[0mbatch\u001b[0m \u001b[0;34m=\u001b[0m \u001b[0mself\u001b[0m\u001b[0;34m.\u001b[0m\u001b[0mcollate_fn\u001b[0m\u001b[0;34m(\u001b[0m\u001b[0;34m[\u001b[0m\u001b[0mself\u001b[0m\u001b[0;34m.\u001b[0m\u001b[0mdataset\u001b[0m\u001b[0;34m[\u001b[0m\u001b[0mi\u001b[0m\u001b[0;34m]\u001b[0m \u001b[0;32mfor\u001b[0m \u001b[0mi\u001b[0m \u001b[0;32min\u001b[0m \u001b[0mindices\u001b[0m\u001b[0;34m]\u001b[0m\u001b[0;34m)\u001b[0m\u001b[0;34m\u001b[0m\u001b[0;34m\u001b[0m\u001b[0m\n\u001b[0m\u001b[1;32m    315\u001b[0m             \u001b[0;32mif\u001b[0m \u001b[0mself\u001b[0m\u001b[0;34m.\u001b[0m\u001b[0mpin_memory\u001b[0m\u001b[0;34m:\u001b[0m\u001b[0;34m\u001b[0m\u001b[0;34m\u001b[0m\u001b[0m\n\u001b[1;32m    316\u001b[0m                 \u001b[0mbatch\u001b[0m \u001b[0;34m=\u001b[0m \u001b[0mpin_memory_batch\u001b[0m\u001b[0;34m(\u001b[0m\u001b[0mbatch\u001b[0m\u001b[0;34m)\u001b[0m\u001b[0;34m\u001b[0m\u001b[0;34m\u001b[0m\u001b[0m\n",
      "\u001b[0;32m/usr/local/lib/python3.6/dist-packages/torchvision/datasets/cifar.py\u001b[0m in \u001b[0;36m__getitem__\u001b[0;34m(self, index)\u001b[0m\n\u001b[1;32m    119\u001b[0m \u001b[0;34m\u001b[0m\u001b[0m\n\u001b[1;32m    120\u001b[0m         \u001b[0;32mif\u001b[0m \u001b[0mself\u001b[0m\u001b[0;34m.\u001b[0m\u001b[0mtransform\u001b[0m \u001b[0;32mis\u001b[0m \u001b[0;32mnot\u001b[0m \u001b[0;32mNone\u001b[0m\u001b[0;34m:\u001b[0m\u001b[0;34m\u001b[0m\u001b[0;34m\u001b[0m\u001b[0m\n\u001b[0;32m--> 121\u001b[0;31m             \u001b[0mimg\u001b[0m \u001b[0;34m=\u001b[0m \u001b[0mself\u001b[0m\u001b[0;34m.\u001b[0m\u001b[0mtransform\u001b[0m\u001b[0;34m(\u001b[0m\u001b[0mimg\u001b[0m\u001b[0;34m)\u001b[0m\u001b[0;34m\u001b[0m\u001b[0;34m\u001b[0m\u001b[0m\n\u001b[0m\u001b[1;32m    122\u001b[0m \u001b[0;34m\u001b[0m\u001b[0m\n\u001b[1;32m    123\u001b[0m         \u001b[0;32mif\u001b[0m \u001b[0mself\u001b[0m\u001b[0;34m.\u001b[0m\u001b[0mtarget_transform\u001b[0m \u001b[0;32mis\u001b[0m \u001b[0;32mnot\u001b[0m \u001b[0;32mNone\u001b[0m\u001b[0;34m:\u001b[0m\u001b[0;34m\u001b[0m\u001b[0;34m\u001b[0m\u001b[0m\n",
      "\u001b[0;32m/usr/local/lib/python3.6/dist-packages/torchvision/transforms/transforms.py\u001b[0m in \u001b[0;36m__call__\u001b[0;34m(self, pic)\u001b[0m\n\u001b[1;32m     74\u001b[0m             \u001b[0mTensor\u001b[0m\u001b[0;34m:\u001b[0m \u001b[0mConverted\u001b[0m \u001b[0mimage\u001b[0m\u001b[0;34m.\u001b[0m\u001b[0;34m\u001b[0m\u001b[0;34m\u001b[0m\u001b[0m\n\u001b[1;32m     75\u001b[0m         \"\"\"\n\u001b[0;32m---> 76\u001b[0;31m         \u001b[0;32mreturn\u001b[0m \u001b[0mF\u001b[0m\u001b[0;34m.\u001b[0m\u001b[0mto_tensor\u001b[0m\u001b[0;34m(\u001b[0m\u001b[0mpic\u001b[0m\u001b[0;34m)\u001b[0m\u001b[0;34m\u001b[0m\u001b[0;34m\u001b[0m\u001b[0m\n\u001b[0m\u001b[1;32m     77\u001b[0m \u001b[0;34m\u001b[0m\u001b[0m\n\u001b[1;32m     78\u001b[0m     \u001b[0;32mdef\u001b[0m \u001b[0m__repr__\u001b[0m\u001b[0;34m(\u001b[0m\u001b[0mself\u001b[0m\u001b[0;34m)\u001b[0m\u001b[0;34m:\u001b[0m\u001b[0;34m\u001b[0m\u001b[0;34m\u001b[0m\u001b[0m\n",
      "\u001b[0;32m/usr/local/lib/python3.6/dist-packages/torchvision/transforms/functional.py\u001b[0m in \u001b[0;36mto_tensor\u001b[0;34m(pic)\u001b[0m\n\u001b[1;32m     81\u001b[0m     \u001b[0mimg\u001b[0m \u001b[0;34m=\u001b[0m \u001b[0mimg\u001b[0m\u001b[0;34m.\u001b[0m\u001b[0mtranspose\u001b[0m\u001b[0;34m(\u001b[0m\u001b[0;36m0\u001b[0m\u001b[0;34m,\u001b[0m \u001b[0;36m1\u001b[0m\u001b[0;34m)\u001b[0m\u001b[0;34m.\u001b[0m\u001b[0mtranspose\u001b[0m\u001b[0;34m(\u001b[0m\u001b[0;36m0\u001b[0m\u001b[0;34m,\u001b[0m \u001b[0;36m2\u001b[0m\u001b[0;34m)\u001b[0m\u001b[0;34m.\u001b[0m\u001b[0mcontiguous\u001b[0m\u001b[0;34m(\u001b[0m\u001b[0;34m)\u001b[0m\u001b[0;34m\u001b[0m\u001b[0;34m\u001b[0m\u001b[0m\n\u001b[1;32m     82\u001b[0m     \u001b[0;32mif\u001b[0m \u001b[0misinstance\u001b[0m\u001b[0;34m(\u001b[0m\u001b[0mimg\u001b[0m\u001b[0;34m,\u001b[0m \u001b[0mtorch\u001b[0m\u001b[0;34m.\u001b[0m\u001b[0mByteTensor\u001b[0m\u001b[0;34m)\u001b[0m\u001b[0;34m:\u001b[0m\u001b[0;34m\u001b[0m\u001b[0;34m\u001b[0m\u001b[0m\n\u001b[0;32m---> 83\u001b[0;31m         \u001b[0;32mreturn\u001b[0m \u001b[0mimg\u001b[0m\u001b[0;34m.\u001b[0m\u001b[0mfloat\u001b[0m\u001b[0;34m(\u001b[0m\u001b[0;34m)\u001b[0m\u001b[0;34m.\u001b[0m\u001b[0mdiv\u001b[0m\u001b[0;34m(\u001b[0m\u001b[0;36m255\u001b[0m\u001b[0;34m)\u001b[0m\u001b[0;34m\u001b[0m\u001b[0;34m\u001b[0m\u001b[0m\n\u001b[0m\u001b[1;32m     84\u001b[0m     \u001b[0;32melse\u001b[0m\u001b[0;34m:\u001b[0m\u001b[0;34m\u001b[0m\u001b[0;34m\u001b[0m\u001b[0m\n\u001b[1;32m     85\u001b[0m         \u001b[0;32mreturn\u001b[0m \u001b[0mimg\u001b[0m\u001b[0;34m\u001b[0m\u001b[0;34m\u001b[0m\u001b[0m\n",
      "\u001b[0;31mKeyboardInterrupt\u001b[0m: "
     ]
    }
   ],
   "source": [
    "# get all data folds\n",
    "all_data_folds = split_data_in_k_folds(5, trainset, 100) # minibatch size 100\n",
    "\n",
    "best_acc = 0\n",
    "\n",
    "# setting seed to have the same initialization\n",
    "torch.manual_seed(1) \n",
    "\n",
    "# Outer loop through hyperparameters. \n",
    "for wd in hyperparameter_ranges['wd']:\n",
    "    for d2 in  hyperparameter_ranges['d2']:\n",
    "        for d3 in  hyperparameter_ranges['d3']:\n",
    "            for p2 in  hyperparameter_ranges['p2']:\n",
    "                for h1 in  hyperparameter_ranges['h1']:\n",
    "                    for lr in  hyperparameter_ranges['lr']:\n",
    "\n",
    "                        parameters['d2'] = d2\n",
    "                        parameters['d3'] = d3\n",
    "                        parameters['p2'] = p2\n",
    "                        parameters['h1'] = h1\n",
    "                        \n",
    "                        model = CNNModel(**parameters)\n",
    "                        model.to(device)\n",
    "                        \n",
    "                        # initializing the array for accuracies for each fold. \n",
    "                        accuracies_per_validation = np.zeros(5)\n",
    "                        \n",
    "                        # every fold will serve once as a validation fold.\n",
    "                        for idx_val_fold in range(len(all_data_folds)):\n",
    "                            \n",
    "                            #resetting the weights for each validation\n",
    "                            model.apply(weight_init)\n",
    "                            \n",
    "                            # loading the validation data fold\n",
    "                            validation_loader = all_data_folds[idx_val_fold]\n",
    "                            \n",
    "                            # optimizer\n",
    "                            optimizer = torch.optim.SGD(model.parameters(), lr=lr,weight_decay=wd )\n",
    "                            \n",
    "                            for idx_training_fold in range(len(all_data_folds)):\n",
    "                                \n",
    "                                # just to avoid using the current fold for training \n",
    "                                if idx_training_fold != idx_val_fold: \n",
    "                                    \n",
    "                                    # loading the data for the current training fold \n",
    "                                    train_loader = all_data_folds[idx_training_fold]\n",
    "                                    # training\n",
    "                                    train(criterion, model, 5, optimizer,\n",
    "                                                  train_loader)\n",
    "                            \n",
    "                            # validating over the validation fold\n",
    "                            temp_acc = test(model, validation_loader)\n",
    "                            accuracies_per_validation[idx_val_fold] = temp_acc\n",
    "                        \n",
    "                        accuracies_mean = accuracies_per_validation.mean()\n",
    "                        \n",
    "                        print(\"Acc: {}. Parameter combination {}, {}, {}, {}, {}, {}\".format(\n",
    "                            accuracies_mean, wd, lr, d2, d3, p2, h1))\n",
    "                        \n",
    "                        # save hyperparameter values if accuracy is better than the current best\n",
    "                        if accuracies_mean > best_acc:\n",
    "                            best_values['d2'] = d2\n",
    "                            best_values['d3'] = d3\n",
    "                            best_values['p2'] = p2\n",
    "                            best_values['h1'] = h1\n",
    "                            best_values['lr'] = lr\n",
    "                            best_values['wd'] = wd\n",
    "print(best_values)"
   ]
  },
  {
   "cell_type": "markdown",
   "metadata": {
    "colab_type": "text",
    "id": "ubekQr0rcvob"
   },
   "source": [
    "### Vizualizing kernel weights"
   ]
  },
  {
   "cell_type": "code",
   "execution_count": 0,
   "metadata": {
    "colab": {
     "base_uri": "https://localhost:8080/",
     "height": 515
    },
    "colab_type": "code",
    "id": "nVeLdVPn1em_",
    "outputId": "fa37ac11-e7c7-4c16-ef0a-72666b7c90da"
   },
   "outputs": [
    {
     "data": {
      "image/png": "[encoded data removed]",
      "text/plain": [
       "<Figure size 1080x288 with 16 Axes>"
      ]
     },
     "metadata": {
      "needs_background": "light",
      "tags": []
     },
     "output_type": "display_data"
    },
    {
     "data": {
      "image/png": "[encoded data removed]",
      "text/plain": [
       "<Figure size 1080x288 with 32 Axes>"
      ]
     },
     "metadata": {
      "needs_background": "light",
      "tags": []
     },
     "output_type": "display_data"
    }
   ],
   "source": [
    "# for the moment only vizualizing the learn kernels. \n",
    "with torch.no_grad():\n",
    "    for param in model.named_parameters():\n",
    "        if('cnn' in param[0] and 'weight' in param[0]):\n",
    "            kernels = param[1]\n",
    "            nr_kern = kernels.size(0)\n",
    "            figure, axes = plt.subplots(int(nr_kern/4),4)\n",
    "            figure.set_figwidth(15)\n",
    "            for i in range(kernels.size(0)):\n",
    "                _to_pil = transforms.ToPILImage()\n",
    "                axes[int(i/4), i%4].imshow(_to_pil(kernels[i].detach().cpu()))\n",
    "                \n",
    "            plt.show()\n",
    "            "
   ]
  },
  {
   "cell_type": "markdown",
   "metadata": {
    "colab_type": "text",
    "id": "ZNNI0k0HUZfY"
   },
   "source": [
    "# List of hyperparameters that we might test... (REMOVE AFTER)\n",
    "- learning rate -> YES\n",
    "- weight decay -> YES\n",
    "- momentum \n",
    "- different optimization functions ***SGD***\n",
    "#### parameters \n",
    "-    'in_dim': 32,  -> ***fixed***\n",
    "-    'd1' : 3, -> ***fixed***\n",
    "-    'd2' : 16, -> [16, 24, 32]\n",
    "-    'f1' : 3, -> ***fixed***\n",
    "-    's1' : 1, -> ***fixed***\n",
    "-    'p1' : 0, -> ***fixed***\n",
    "-    'd3' : 32, -> [16, 32, 38, 44, 50]\n",
    "-    'f2' : 3, -> ***fixed***\n",
    "-    'p2' : [0, 1]\n",
    "-    'h1' : 500 -> [500, 1000, 1500]\n",
    "-    'wd' : 0 -> [1e-3, 1e-4, 1e-5, 0]\n",
    "-    'lr': [0.1, 0.05, 0.01, 0.005, 0.001]\n",
    "\n",
    "TODO: \n",
    "\n",
    "- to decide the hyperparameter range for testing\n",
    "- showing the output image of convolution. For this one I have a TODO in cnn class"
   ]
  },
  {
   "cell_type": "code",
   "execution_count": 0,
   "metadata": {
    "colab": {},
    "colab_type": "code",
    "id": "0TKy8FWuUZfb"
   },
   "outputs": [],
   "source": []
  },
  {
   "cell_type": "markdown",
   "metadata": {
    "colab_type": "text",
    "id": "b70-po6OxJzL"
   },
   "source": [
    "# Assignment4\n",
    "- Train a CNN for CIFAR-10 with the best hyperparameters (Highest accuracy among you will get extra points)\n",
    "- Visualize output image of each Conv filter\n",
    "- Visualize kernel of each Conv filter\n",
    "- Which one is working better in CIFAR-10, MaxPooling or AvgPooling"
   ]
  },
  {
   "cell_type": "code",
   "execution_count": 0,
   "metadata": {
    "colab": {},
    "colab_type": "code",
    "id": "iRnb_lQ7xKhO"
   },
   "outputs": [],
   "source": []
  }
 ],
 "metadata": {
  "accelerator": "GPU",
  "colab": {
   "collapsed_sections": [],
   "name": "Assignment_4.ipynb",
   "provenance": [],
   "version": "0.3.2"
  },
  "kernelspec": {
   "display_name": "Python 3",
   "language": "python",
   "name": "python3"
  },
  "language_info": {
   "codemirror_mode": {
    "name": "ipython",
    "version": 3
   },
   "file_extension": ".py",
   "mimetype": "text/x-python",
   "name": "python",
   "nbconvert_exporter": "python",
   "pygments_lexer": "ipython3",
   "version": "3.7.0"
  }
 },
 "nbformat": 4,
 "nbformat_minor": 1
}
