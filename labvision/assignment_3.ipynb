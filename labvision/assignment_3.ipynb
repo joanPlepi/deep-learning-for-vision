{
 "cells": [
  {
   "cell_type": "markdown",
   "metadata": {
    "hideCode": false,
    "hidePrompt": false
   },
   "source": [
    "### Assignment 3 by Agajan Torayev (matr.: 3067341)"
   ]
  },
  {
   "cell_type": "code",
   "execution_count": 1,
   "metadata": {
    "hideCode": false,
    "hidePrompt": false,
    "scrolled": true
   },
   "outputs": [],
   "source": [
    "import torch\n",
    "import torchvision\n",
    "import torchvision.transforms as transforms\n",
    "import torch.nn as nn\n",
    "import torch.nn.functional as F\n",
    "import torch.optim as optim\n",
    "import matplotlib.pyplot as plt\n",
    "import numpy as np\n",
    "import sklearn.metrics\n",
    "import itertools\n",
    "import time\n",
    "%matplotlib inline\n",
    "\n",
    "device = torch.device(\"cuda:0\" if torch.cuda.is_available() else \"cpu\")"
   ]
  },
  {
   "cell_type": "markdown",
   "metadata": {
    "hideCode": false,
    "hidePrompt": false
   },
   "source": [
    "### Setup"
   ]
  },
  {
   "cell_type": "code",
   "execution_count": 2,
   "metadata": {
    "hideCode": false,
    "hidePrompt": false,
    "scrolled": true
   },
   "outputs": [
    {
     "name": "stdout",
     "output_type": "stream",
     "text": [
      "Files already downloaded and verified\n",
      "Files already downloaded and verified\n",
      "Train set size: 40000, Valid set size: 10000, Test set size: 10000\n"
     ]
    }
   ],
   "source": [
    "# transformations for the image\n",
    "transform = transforms.Compose([\n",
    "    transforms.ToTensor(),\n",
    "    transforms.Normalize((0.5, 0.5, 0.5), (0.5, 0.5, 0.5))\n",
    "])\n",
    "\n",
    "trainset = torchvision.datasets.CIFAR10(root='./data', train=True,\n",
    "                                        download=True, transform=transform)\n",
    "testset = torchvision.datasets.CIFAR10(root='./data', train=False,\n",
    "                                       download=True, transform=transform)\n",
    "\n",
    "\n",
    "# split train set in 0.8/0.2 train/validation sets\n",
    "train_size = int(0.8 * len(trainset))\n",
    "valid_size = len(trainset) - train_size\n",
    "\n",
    "trainset, validset = torch.utils.data.random_split(trainset, [train_size, valid_size])\n",
    "\n",
    "classes = ('plane', 'car', 'bird', 'cat', 'deer',\n",
    "           'dog', 'frog', 'horse', 'ship', 'truck')\n",
    "\n",
    "input_dim = 3 * 32 * 32\n",
    "output_dim = 10\n",
    "\n",
    "print(\"Train set size: {}, Valid set size: {}, Test set size: {}\".format(\n",
    "        len(trainset), len(validset), len(testset)\n",
    "        ))"
   ]
  },
  {
   "cell_type": "markdown",
   "metadata": {
    "hideCode": false,
    "hidePrompt": false
   },
   "source": [
    "### Define functions"
   ]
  },
  {
   "cell_type": "code",
   "execution_count": 3,
   "metadata": {
    "hideCode": false,
    "hidePrompt": false
   },
   "outputs": [],
   "source": [
    "def plot_confusion_matrix(cm, classes,\n",
    "                          normalize=False,\n",
    "                          title='Confusion matrix',\n",
    "                          cmap=plt.cm.Blues):\n",
    "    \"\"\"\n",
    "    This function prints and plots the confusion matrix.\n",
    "    Normalization can be applied by setting `normalize=True`.\n",
    "    \n",
    "    Credits: https://scikit-learn.org/stable/auto_examples/model_selection/plot_confusion_matrix.html\n",
    "    \"\"\"\n",
    "    if normalize:\n",
    "        cm = cm.astype('float') / cm.sum(axis=1)[:, np.newaxis]\n",
    "        print(\"Normalized confusion matrix\")\n",
    "    else:\n",
    "        print('Confusion matrix, without normalization')\n",
    "    \n",
    "    plt.figure(figsize=(6,6))\n",
    "    plt.imshow(cm, interpolation='nearest', cmap=cmap)\n",
    "    plt.title(title)\n",
    "    plt.colorbar()\n",
    "    tick_marks = np.arange(len(classes))\n",
    "    plt.xticks(tick_marks, classes, rotation=45)\n",
    "    plt.yticks(tick_marks, classes)\n",
    "\n",
    "    fmt = '.2f' if normalize else 'd'\n",
    "    thresh = cm.max() / 2.\n",
    "    for i, j in itertools.product(range(cm.shape[0]), range(cm.shape[1])):\n",
    "        plt.text(j, i, format(cm[i, j], fmt),\n",
    "                 horizontalalignment=\"center\",\n",
    "                 color=\"white\" if cm[i, j] > thresh else \"black\")\n",
    "\n",
    "    plt.ylabel('True label')\n",
    "    plt.xlabel('Predicted label')\n",
    "    plt.tight_layout()\n",
    "    \n",
    "def train(model, trainset, optimizer, **params):\n",
    "    \"\"\"Trains model on a given trainset.\"\"\"\n",
    "    model.train()\n",
    "    \n",
    "    # create trainloader and testloader\n",
    "    trainloader = torch.utils.data.DataLoader(trainset, batch_size=params['batch_size'],\n",
    "                                      shuffle=True, num_workers=2)\n",
    "    \n",
    "    total_iters = 0\n",
    "    losses = []\n",
    "    for epoch in range(params['epochs']):\n",
    "        \n",
    "        loss_sum = 0.0\n",
    "        num_iters = 0\n",
    "        \n",
    "        for data in trainloader:\n",
    "            \n",
    "            # prepare inputs\n",
    "            images, labels = data\n",
    "            images, labels = images.to(params['device']), labels.to(params['device'])\n",
    "            inputs = images.view(-1, model.input_dim)\n",
    "            \n",
    "            # forward\n",
    "            optimizer.zero_grad()\n",
    "            outputs = model(inputs)\n",
    "            loss = F.nll_loss(outputs, labels)\n",
    "            \n",
    "            # add regularization, only for weights not for biases\n",
    "            regW = 0\n",
    "            for p in model.named_parameters():\n",
    "                if p[0].endswith('weight'):\n",
    "                    regW += torch.sum(p[1]**2)\n",
    "            loss += params['reg_strength'] * regW\n",
    "            \n",
    "            # backward\n",
    "            loss.backward()\n",
    "            optimizer.step()\n",
    "            \n",
    "            # record losses\n",
    "            loss_sum += loss.item()\n",
    "            num_iters += 1\n",
    "            \n",
    "        # print epoch loss\n",
    "        total_iters += num_iters\n",
    "        epoch_loss = loss_sum / num_iters\n",
    "        losses.append(epoch_loss)\n",
    "        print('Epoch: {}, total iters: {}, loss: {:.3f}'.format(epoch, total_iters, epoch_loss))\n",
    "        \n",
    "    # losses per iteration\n",
    "    return losses\n",
    "\n",
    "def test(model, testset, batch_size=64):\n",
    "    \"\"\"Tests the model on a given testset and returns all true and predicted labels.\"\"\"\n",
    "    model.eval()\n",
    "    \n",
    "    testloader = torch.utils.data.DataLoader(testset, batch_size=batch_size,\n",
    "                                             shuffle=False, num_workers=2)\n",
    "    total = len(testset)\n",
    "    correct = 0\n",
    "    \n",
    "    all_labels, all_preds = [], []\n",
    "    \n",
    "    with torch.no_grad():\n",
    "        for data in testloader:\n",
    "            images, labels = data\n",
    "            images, labels = images.to(device), labels.to(device)\n",
    "            \n",
    "            inputs = images.view(-1, model.input_dim)\n",
    "            outputs = model(inputs)\n",
    "            \n",
    "            probs, pred_labels = torch.max(outputs.data, 1)\n",
    "            correct += (pred_labels == labels).sum().item()\n",
    "            \n",
    "            all_labels.append(labels.cpu().numpy())\n",
    "            all_preds.append(pred_labels.cpu().numpy())\n",
    "    \n",
    "    all_labels = np.hstack(all_labels)\n",
    "    all_preds = np.hstack(all_preds)\n",
    "    \n",
    "    return (all_labels, all_preds)\n",
    "\n",
    "def train_and_test(model, optimizer, params, plot_loss=False):\n",
    "    \"\"\"Train and test model with given optimizer.\"\"\"\n",
    "    \n",
    "    # train\n",
    "    print(\"Training...\")\n",
    "    tic = time.time()\n",
    "    losses = train(model, trainset, optimizer, **params)\n",
    "    print(\"Training time: {:.5f} seconds.\".format(time.time()-tic))\n",
    "\n",
    "    print(\"Testing...\")\n",
    "    train_labels, train_preds = test(model, trainset)\n",
    "    valid_labels, valid_preds = test(model, validset)\n",
    "\n",
    "    train_acc = sklearn.metrics.accuracy_score(train_labels, train_preds) * 100\n",
    "    valid_acc = sklearn.metrics.accuracy_score(valid_labels, valid_preds) * 100\n",
    "\n",
    "    print(\"Train set accuracy: {:.2f}%, Valid. set accuracy: {:.2f}%\".format(train_acc, valid_acc))\n",
    "    \n",
    "    if plot_loss:\n",
    "        # plot losses\n",
    "        plt.title(\"Loss per Epoch\")\n",
    "        plt.xlabel(\"Epochs\")\n",
    "        plt.ylabel(\"Loss\")\n",
    "        plt.plot(losses)\n",
    "        plt.show()"
   ]
  },
  {
   "cell_type": "markdown",
   "metadata": {},
   "source": [
    "### Define a Model"
   ]
  },
  {
   "cell_type": "code",
   "execution_count": 4,
   "metadata": {},
   "outputs": [],
   "source": [
    "class LRModel(nn.Module):\n",
    "    \"\"\"Logistic regression model with single hidden layer.\"\"\"\n",
    "    \n",
    "    def __init__(self, input_dim, output_dim, hidden=300, dropout=0.2, activation=F.relu):\n",
    "        super(LRModel, self).__init__()\n",
    "        \n",
    "        self.input_dim = input_dim\n",
    "        self.output_dim = output_dim\n",
    "        self.activation = activation\n",
    "        \n",
    "        self.fc1 = nn.Linear(input_dim, hidden)\n",
    "        self.a1_dropout = nn.Dropout(dropout)\n",
    "        self.fc2 = nn.Linear(hidden, output_dim)\n",
    "    \n",
    "    def forward(self, x):\n",
    "        a1 = self.activation(self.fc1(x))\n",
    "        a1_drop = self.a1_dropout(a1)\n",
    "        out = self.fc2(a1_drop)\n",
    "        return F.log_softmax(out, dim=1)"
   ]
  },
  {
   "cell_type": "markdown",
   "metadata": {
    "hideCode": false,
    "hidePrompt": false
   },
   "source": [
    "### Train a model with a SGD + momentum"
   ]
  },
  {
   "cell_type": "code",
   "execution_count": 11,
   "metadata": {
    "hideCode": false,
    "hidePrompt": false,
    "scrolled": true
   },
   "outputs": [
    {
     "name": "stdout",
     "output_type": "stream",
     "text": [
      "Training...\n",
      "Epoch: 0, total iters: 625, loss: 2.140\n",
      "Epoch: 1, total iters: 1250, loss: 1.958\n",
      "Epoch: 2, total iters: 1875, loss: 1.885\n",
      "Epoch: 3, total iters: 2500, loss: 1.839\n",
      "Epoch: 4, total iters: 3125, loss: 1.809\n",
      "Training time: 32.54642 seconds.\n",
      "Testing...\n",
      "Train set accuracy: 47.56%, Valid. set accuracy: 45.65%\n"
     ]
    }
   ],
   "source": [
    "# parameters\n",
    "params = {\n",
    "    'device': torch.device(\"cuda:0\" if torch.cuda.is_available() else \"cpu\"),\n",
    "    'epochs': 5,\n",
    "    'batch_size': 64,\n",
    "    'reg_strength': 0.003\n",
    "}\n",
    "\n",
    "# model\n",
    "model = LRModel(input_dim, output_dim, hidden=300, dropout=0.55, activation=F.relu)\n",
    "# do this before optimizer\n",
    "model.to(params['device'])\n",
    "\n",
    "# optimizer\n",
    "optimizer = optim.SGD(model.parameters(), lr=1e-2, momentum=0.1)\n",
    "\n",
    "train_and_test(model, optimizer, params)"
   ]
  },
  {
   "cell_type": "markdown",
   "metadata": {},
   "source": [
    "### Statistics for the test set"
   ]
  },
  {
   "cell_type": "code",
   "execution_count": 6,
   "metadata": {
    "hideCode": false,
    "hidePrompt": false
   },
   "outputs": [
    {
     "name": "stdout",
     "output_type": "stream",
     "text": [
      "Test set accuracy: 44.92%\n",
      "Confusion matrix, without normalization\n"
     ]
    },
    {
     "data": {
      "image/png": "[encoded data removed]",
      "text/plain": [
       "<Figure size 432x432 with 2 Axes>"
      ]
     },
     "metadata": {
      "needs_background": "light"
     },
     "output_type": "display_data"
    }
   ],
   "source": [
    "test_labels, test_preds = test(model, testset)\n",
    "print(\"Test set accuracy: {:.2f}%\".format(sklearn.metrics.accuracy_score(test_labels, test_preds)*100))\n",
    "\n",
    "# confusion matrix\n",
    "cm = sklearn.metrics.confusion_matrix(test_labels, test_preds, labels=range(10))\n",
    "plot_confusion_matrix(cm, classes)"
   ]
  },
  {
   "cell_type": "markdown",
   "metadata": {},
   "source": [
    "### Different Optimizers"
   ]
  },
  {
   "cell_type": "code",
   "execution_count": 7,
   "metadata": {},
   "outputs": [
    {
     "name": "stdout",
     "output_type": "stream",
     "text": [
      "Training with optimizer: SGD\n",
      "Training...\n",
      "Epoch: 0, total iters: 625, loss: 2.866\n",
      "Epoch: 1, total iters: 1250, loss: 2.500\n",
      "Training time: 13.53901 seconds.\n",
      "Testing...\n",
      "Train set accuracy: 41.94%, Valid. set accuracy: 41.43%\n",
      "\n",
      "Training with optimizer: Adam\n",
      "Training...\n",
      "Epoch: 0, total iters: 625, loss: 2.103\n",
      "Epoch: 1, total iters: 1250, loss: 1.991\n",
      "Training time: 18.29930 seconds.\n",
      "Testing...\n",
      "Train set accuracy: 39.36%, Valid. set accuracy: 39.06%\n",
      "\n",
      "Training with optimizer: Adagrad\n",
      "Training...\n",
      "Epoch: 0, total iters: 625, loss: 2.099\n",
      "Epoch: 1, total iters: 1250, loss: 1.855\n",
      "Training time: 18.22748 seconds.\n",
      "Testing...\n",
      "Train set accuracy: 43.01%, Valid. set accuracy: 41.63%\n",
      "\n",
      "Training with optimizer: Adadelta\n",
      "Training...\n",
      "Epoch: 0, total iters: 625, loss: 2.175\n",
      "Epoch: 1, total iters: 1250, loss: 2.077\n",
      "Training time: 20.12206 seconds.\n",
      "Testing...\n",
      "Train set accuracy: 34.78%, Valid. set accuracy: 34.40%\n",
      "\n",
      "Training with optimizer: RMSprop\n",
      "Training...\n",
      "Epoch: 0, total iters: 625, loss: 12.030\n",
      "Epoch: 1, total iters: 1250, loss: 2.430\n",
      "Training time: 181.59882 seconds.\n",
      "Testing...\n",
      "Train set accuracy: 21.99%, Valid. set accuracy: 22.73%\n",
      "\n"
     ]
    }
   ],
   "source": [
    "# choose default parameters\n",
    "optims = {\n",
    "    'SGD': optim.SGD,\n",
    "    'Adam': optim.Adam,\n",
    "    'Adagrad': optim.Adagrad,\n",
    "    'Adadelta': optim.Adadelta,\n",
    "    'RMSprop': optim.RMSprop\n",
    "}\n",
    "\n",
    "# parameters\n",
    "params = {\n",
    "    'device': torch.device(\"cuda:0\" if torch.cuda.is_available() else \"cpu\"),\n",
    "    'epochs': 2,\n",
    "    'batch_size': 64,\n",
    "    'reg_strength': 0.01\n",
    "}\n",
    "\n",
    "for optim_name, optimObj in optims.items():\n",
    "\n",
    "    # new model for every optimizer\n",
    "    model = LRModel(input_dim, output_dim)\n",
    "    model.to(params['device']) ## do this before optimizer\n",
    "\n",
    "    # optimizer\n",
    "    if optim_name == 'SGD':\n",
    "        optimizer = optimObj(model.parameters(), lr=1e-2)\n",
    "    else:\n",
    "        optimizer = optimObj(model.parameters())\n",
    "    \n",
    "    print(\"Training with optimizer: {}\".format(optim_name))\n",
    "    train_and_test(model, optimizer, params)\n",
    "    print()\n",
    "    "
   ]
  },
  {
   "cell_type": "markdown",
   "metadata": {},
   "source": [
    "### Different activation functions"
   ]
  },
  {
   "cell_type": "code",
   "execution_count": 8,
   "metadata": {},
   "outputs": [
    {
     "name": "stdout",
     "output_type": "stream",
     "text": [
      "Training with activation function: ReLU\n",
      "Training...\n",
      "Epoch: 0, total iters: 625, loss: 2.542\n",
      "Epoch: 1, total iters: 1250, loss: 2.040\n",
      "Training time: 14.53643 seconds.\n",
      "Testing...\n",
      "Train set accuracy: 45.59%, Valid. set accuracy: 44.63%\n",
      "\n",
      "Training with activation function: tanh\n",
      "Training...\n",
      "Epoch: 0, total iters: 625, loss: 2.575\n",
      "Epoch: 1, total iters: 1250, loss: 2.119\n",
      "Training time: 15.90985 seconds.\n",
      "Testing...\n",
      "Train set accuracy: 40.88%, Valid. set accuracy: 40.12%\n",
      "\n",
      "Training with activation function: sigmoid\n",
      "Training...\n",
      "Epoch: 0, total iters: 625, loss: 2.766\n",
      "Epoch: 1, total iters: 1250, loss: 2.291\n",
      "Training time: 14.27122 seconds.\n",
      "Testing...\n",
      "Train set accuracy: 33.75%, Valid. set accuracy: 35.11%\n",
      "\n"
     ]
    }
   ],
   "source": [
    "# parameters\n",
    "params = {\n",
    "    'device': torch.device(\"cuda:0\" if torch.cuda.is_available() else \"cpu\"),\n",
    "    'epochs': 2,\n",
    "    'batch_size': 64,\n",
    "    'reg_strength': 0.01\n",
    "}\n",
    "\n",
    "activs = {\n",
    "    'ReLU': F.relu,\n",
    "    'tanh': torch.tanh,\n",
    "    'sigmoid': torch.sigmoid\n",
    "}\n",
    "\n",
    "for activ in activs:\n",
    "    # model\n",
    "    model = LRModel(input_dim, output_dim, hidden=300, dropout=0.2, activation=activs[activ])\n",
    "    # do this before optimizer\n",
    "    model.to(device)\n",
    "\n",
    "    # optimizer\n",
    "    optimizer = optim.SGD(model.parameters(), lr=1e-2, momentum=0.7)\n",
    "    \n",
    "    print(\"Training with activation function: {}\".format(activ))\n",
    "    train_and_test(model, optimizer, params)\n",
    "    print()"
   ]
  },
  {
   "cell_type": "markdown",
   "metadata": {},
   "source": [
    "### Softmax Loss and SVM Loss"
   ]
  },
  {
   "cell_type": "code",
   "execution_count": 9,
   "metadata": {},
   "outputs": [
    {
     "name": "stdout",
     "output_type": "stream",
     "text": [
      "Softmax Loss\n",
      "Custom implementation: 3.0683436393737793\n",
      "torch.nn implementation: 3.0683436393737793\n",
      "\n",
      "SVM Loss, custom implementation: 9.855130195617676\n"
     ]
    }
   ],
   "source": [
    "def softmax_loss(scores, targets):\n",
    "    \"\"\"Computes softmax loss.\n",
    "    \n",
    "    Args:\n",
    "        scores: `torch.tensor` of shape (num_examples, dimension)\n",
    "        targets: `torch.tensor` of size (num_examples)\n",
    "    Returns: Cross Entropy Loss\n",
    "    \"\"\"\n",
    "    N = scores.shape[0]\n",
    "    exp_scores = torch.exp(scores)\n",
    "    probs = exp_scores / torch.sum(exp_scores, 1, keepdim=True)\n",
    "    log_probs = torch.log(probs)\n",
    "    \n",
    "    loss = torch.sum(-log_probs[range(N), targets]) / N\n",
    "    return loss\n",
    "\n",
    "def svm_loss(scores, targets, margin=1):\n",
    "    \"\"\"Computes SVM loss.\n",
    "    \n",
    "    Args:\n",
    "        scores: `torch.tensor` of shape (num_examples, dimension)\n",
    "        targets: `torch.tensor` of size (num_examples)\n",
    "    \n",
    "    Returns: Cross SVM Loss\n",
    "    \"\"\"\n",
    "    N = scores.shape[0]\n",
    "    correct_scores = scores[range(N), targets].view(-1, 1)\n",
    "    margins = torch.clamp(scores - correct_scores + margin, min=0.0)\n",
    "    margins[range(N), targets] = 0\n",
    "    loss = torch.sum(margins) / N\n",
    "    \n",
    "    return loss\n",
    "    \n",
    "\n",
    "# test implementation\n",
    "scores = torch.randn(4, 6)\n",
    "targets = torch.tensor([0, 1, 0, 3])\n",
    "\n",
    "print(\"Softmax Loss\")\n",
    "print(\"Custom implementation: {}\".format(softmax_loss(scores, targets)))\n",
    "print(\"torch.nn implementation: {}\".format(F.nll_loss(F.log_softmax(scores, dim=1), targets)))\n",
    "\n",
    "print(\"\\nSVM Loss, custom implementation: {}\".format(svm_loss(scores, targets)))"
   ]
  }
 ],
 "metadata": {
  "hide_code_all_hidden": false,
  "kernelspec": {
   "display_name": "Python 3",
   "language": "python",
   "name": "python3"
  },
  "language_info": {
   "codemirror_mode": {
    "name": "ipython",
    "version": 3
   },
   "file_extension": ".py",
   "mimetype": "text/x-python",
   "name": "python",
   "nbconvert_exporter": "python",
   "pygments_lexer": "ipython3",
   "version": "3.7.0"
  },
  "toc": {
   "base_numbering": 1,
   "nav_menu": {},
   "number_sections": false,
   "sideBar": true,
   "skip_h1_title": false,
   "title_cell": "Table of Contents",
   "title_sidebar": "Contents",
   "toc_cell": false,
   "toc_position": {},
   "toc_section_display": true,
   "toc_window_display": false
  }
 },
 "nbformat": 4,
 "nbformat_minor": 2
}
