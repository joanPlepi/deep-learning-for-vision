{
 "cells": [
  {
   "cell_type": "markdown",
   "metadata": {},
   "source": [
    "### Assignment 4 by Joan Plepi (matr: 3056655) and Agajan Torayev (matr: 3067341)"
   ]
  },
  {
   "cell_type": "code",
   "execution_count": 0,
   "metadata": {
    "colab": {},
    "colab_type": "code",
    "id": "FI_yE8d8tS5V"
   },
   "outputs": [],
   "source": [
    "from time import time\n",
    "import torch\n",
    "import torch.nn as nn\n",
    "from torch.utils.data import SubsetRandomSampler\n",
    "import numpy as np\n",
    "import matplotlib.pyplot as plt\n",
    "%matplotlib inline\n",
    "import torchvision.datasets as dsets\n",
    "import torchvision.transforms as transforms"
   ]
  },
  {
   "cell_type": "code",
   "execution_count": 2,
   "metadata": {
    "colab": {
     "base_uri": "https://localhost:8080/",
     "height": 54
    },
    "colab_type": "code",
    "id": "v-e8NGABgnwZ",
    "outputId": "c1c4c953-55cc-478a-97a1-9c66a7e0ecf0"
   },
   "outputs": [
    {
     "name": "stdout",
     "output_type": "stream",
     "text": [
      "tcmalloc: large alloc 1073750016 bytes == 0x578cc000 @  0x7f68e63432a4 0x591a07 0x5b5d56 0x502e9a 0x506859 0x502209 0x502f3d 0x506859 0x504c28 0x502540 0x502f3d 0x506859 0x504c28 0x502540 0x502f3d 0x506859 0x504c28 0x502540 0x502f3d 0x507641 0x502209 0x502f3d 0x506859 0x504c28 0x502540 0x502f3d 0x507641 0x504c28 0x502540 0x502f3d 0x507641\n"
     ]
    }
   ],
   "source": [
    "# http://pytorch.org/\n",
    "from os.path import exists\n",
    "from wheel.pep425tags import get_abbr_impl, get_impl_ver, get_abi_tag\n",
    "platform = '{}{}-{}'.format(get_abbr_impl(), get_impl_ver(), get_abi_tag())\n",
    "cuda_output = !ldconfig -p|grep cudart.so|sed -e 's/.*\\.\\([0-9]*\\)\\.\\([0-9]*\\)$/cu\\1\\2/'\n",
    "accelerator = cuda_output[0] if exists('/dev/nvidia0') else 'cpu'\n",
    "\n",
    "!pip install -q http://download.pytorch.org/whl/{accelerator}/torch-0.4.1-{platform}-linux_x86_64.whl torchvision\n",
    "import torch"
   ]
  },
  {
   "cell_type": "code",
   "execution_count": 4,
   "metadata": {
    "colab": {
     "base_uri": "https://localhost:8080/",
     "height": 34
    },
    "colab_type": "code",
    "id": "lpDvemH2tiVE",
    "outputId": "55eb200b-ca61-4a93-d4e8-344df75bcde9"
   },
   "outputs": [
    {
     "data": {
      "text/plain": [
       "True"
      ]
     },
     "execution_count": 4,
     "metadata": {
      "tags": []
     },
     "output_type": "execute_result"
    }
   ],
   "source": [
    "torch.cuda.is_available()"
   ]
  },
  {
   "cell_type": "markdown",
   "metadata": {
    "colab_type": "text",
    "id": "Nsw6CEoSdmMx"
   },
   "source": [
    "### Gets the train and test loaders"
   ]
  },
  {
   "cell_type": "code",
   "execution_count": 0,
   "metadata": {
    "colab": {},
    "colab_type": "code",
    "id": "vFGBHJvbtS5z"
   },
   "outputs": [],
   "source": [
    "def get_train_test_loader(trainset, testset, batch_size):\n",
    "\n",
    "    # Making dataset iterable\n",
    "    train_loader = torch.utils.data.DataLoader(dataset=trainset,\n",
    "                                               batch_size=batch_size,\n",
    "                                               shuffle=True)\n",
    "    test_loader = torch.utils.data.DataLoader(dataset=testset,\n",
    "                                              batch_size=batch_size,\n",
    "                                              shuffle=False)\n",
    "\n",
    "    return train_loader, test_loader"
   ]
  },
  {
   "cell_type": "markdown",
   "metadata": {
    "colab_type": "text",
    "id": "369pjZhbdszT"
   },
   "source": [
    "### Utility function, splits data in k folds"
   ]
  },
  {
   "cell_type": "code",
   "execution_count": 0,
   "metadata": {
    "colab": {},
    "colab_type": "code",
    "id": "YHe1pqj5tS6E"
   },
   "outputs": [],
   "source": [
    "'''\n",
    "    Parameters:\n",
    "    - k, number of folds\n",
    "    - trainset, the training set\n",
    "    - batch size\n",
    "'''\n",
    "def split_data_in_k_folds(k, trainset, batch_size):\n",
    "    patterns_per_fold = len(trainset) / k\n",
    "\n",
    "    samplers = []\n",
    "    for i in range(k):\n",
    "        samplers.append(SubsetRandomSampler(np.arange(i * patterns_per_fold, (i + 1) * patterns_per_fold, dtype=np.int32)))\n",
    "\n",
    "    all_data_folds = []\n",
    "\n",
    "    for sampler in samplers:\n",
    "        all_data_folds.append(\n",
    "            torch.utils.data.DataLoader(dataset=trainset,\n",
    "                                        batch_size=batch_size,\n",
    "                                        sampler=sampler,\n",
    "                                        shuffle=False)\n",
    "        )\n",
    "\n",
    "    return all_data_folds"
   ]
  },
  {
   "cell_type": "markdown",
   "metadata": {
    "colab_type": "text",
    "id": "FiQcsfajdEKm"
   },
   "source": [
    "## Defining CNN model"
   ]
  },
  {
   "cell_type": "code",
   "execution_count": 0,
   "metadata": {
    "colab": {},
    "colab_type": "code",
    "id": "BnaaG6d6tS6Y"
   },
   "outputs": [],
   "source": [
    "'''\n",
    "in_dim -> cifar case 32x32. I am supposing those are square matrix.\n",
    "d -> stands for depth.\n",
    "f -> kernel size\n",
    "s -> stride\n",
    "p -> padding size\n",
    "'''\n",
    "class CNNModel(nn.Module):\n",
    "    def __init__(self, **params):\n",
    "        super(CNNModel, self).__init__()\n",
    "        # Convolution 1\n",
    "        self.cnn1 = nn.Conv2d(in_channels=params['d1'], out_channels=params['d2'], kernel_size=params['f1'],\n",
    "                              stride=params['s1'], padding=params['p1'])\n",
    "        # Activation 1\n",
    "        self.relu1 = nn.ReLU()\n",
    "        \n",
    "        # Convolution 2\n",
    "        self.cnn2 =  nn.Conv2d(in_channels=params['d2'], out_channels=params['d3'], kernel_size=params['f2'],\n",
    "                              stride=params['s2'], padding=params['p2'])\n",
    "        # Activation 2\n",
    "        self.relu2 = nn.ReLU()\n",
    "        \n",
    "        # Max pooling 1\n",
    "        self.maxpool1 = nn.MaxPool2d(kernel_size=2)\n",
    "        \n",
    "        # comment up and uncomment below to check the avg pooling. \n",
    "        #self.maxpool1 = nn.AvgPool2d(kernel_size=2)      \n",
    "        \n",
    "        self.W2 = (params['in_dim'] - params['f1'] + 2*params['p1'])/params['s1'] + 1\n",
    "        \n",
    "        self.W3 = (self.W2 - params['f2'] + 2*params['p2'])/params['s2'] + 1\n",
    "\n",
    "        self.out_dim = params['d3'] * ((self.W3/2) ** 2)\n",
    "        print(\"For debugging, W2={}, self.W3={} out {}\"\n",
    "              .format(self.W2,self.W3, self.out_dim))\n",
    "\n",
    "        # Fully connected layer\n",
    "        self.fc1 = nn.Linear(int(self.out_dim), params['h1'])\n",
    "        self.fc1_Relu = nn.ReLU()\n",
    "        self.fc2 = nn.Linear(params['h1'], 10)\n",
    "\n",
    "    def forward(self, x):\n",
    "        # Convolution and activation 1\n",
    "        out1 = self.cnn1(x)\n",
    "        out = self.relu1(out1)\n",
    "\n",
    "        # Convolution and activation 1\n",
    "        out2 = self.cnn2(out)\n",
    "        out = self.relu2(out2)\n",
    "\n",
    "        # Max pooling 2\n",
    "        out = self.maxpool1(out)\n",
    "\n",
    "        # Reshaping to pass it to fc1\n",
    "        out = out.view(out.size(0), -1)\n",
    "        # Fully connected layer\n",
    "        out = self.fc1(out)\n",
    "        out = self.fc1_Relu(out)\n",
    "        out = self.fc2(out)\n",
    "        \n",
    "        return out, out1, out2"
   ]
  },
  {
   "cell_type": "markdown",
   "metadata": {
    "colab_type": "text",
    "id": "ZgP-aN6rd3IY"
   },
   "source": [
    "## Train **function**"
   ]
  },
  {
   "cell_type": "code",
   "execution_count": 0,
   "metadata": {
    "colab": {},
    "colab_type": "code",
    "id": "Xzc22EsttS6l"
   },
   "outputs": [],
   "source": [
    "'''\n",
    "    Parameters:\n",
    "        - criterion, loss function\n",
    "        - input dimension\n",
    "        - a numpy array which will save the loss for every epoch\n",
    "        - the model\n",
    "        - number of epochs\n",
    "        - an optimizer\n",
    "        - and the train loader to iterate through the patterns     \n",
    "'''\n",
    "def train(criterion, model, num_epochs, optimizer, train_loader):\n",
    "    model.train()\n",
    "    loss_per_iter = []\n",
    "    loss_per_epoch = []\n",
    "\n",
    "    for epoch in range(num_epochs):\n",
    "        tic = time()\n",
    "        loss_acc_per_epoch = 0\n",
    "        \n",
    "        for i, (images, labels) in enumerate(train_loader):\n",
    "            \n",
    "            # send to device\n",
    "            images, labels = images.to(device), labels.to(device)\n",
    "\n",
    "            # Clearing the gradients.\n",
    "            optimizer.zero_grad()\n",
    "            \n",
    "            # Forward pass\n",
    "            outputs, outConv1, outConv2 = model(images)\n",
    "\n",
    "            # Here the loss function is applied.\n",
    "            loss = criterion(outputs, labels)\n",
    "\n",
    "            # We accumulate the loss till the end of the epoch\n",
    "            loss_acc_per_epoch += loss\n",
    "            loss_per_iter.append(loss)\n",
    "\n",
    "            loss.backward()\n",
    "\n",
    "            optimizer.step()\n",
    "        loss_per_epoch.append(loss_acc_per_epoch/i)\n",
    "        print(\"Finished epoch {:d}/{:d}  in {:f} sec. Loss is {:f}\".format(epoch+1, num_epochs, time() - tic, loss_acc_per_epoch/i))\n",
    "        \n",
    "    return loss_per_epoch, loss_per_iter, outConv1, outConv2"
   ]
  },
  {
   "cell_type": "markdown",
   "metadata": {
    "colab_type": "text",
    "id": "nGh4Hsb8d8cC"
   },
   "source": [
    "## Test function"
   ]
  },
  {
   "cell_type": "code",
   "execution_count": 0,
   "metadata": {
    "colab": {},
    "colab_type": "code",
    "id": "1dl4IiOXtS6z"
   },
   "outputs": [],
   "source": [
    "def test(model, test_loader):\n",
    "    model.eval()\n",
    "    # Calculate Accuracy\n",
    "    correct = 0\n",
    "    total = 0\n",
    "    # Iterate through test dataset\n",
    "    with torch.no_grad():\n",
    "        for images, labels in test_loader:\n",
    "\n",
    "            images, labels = images.to(device), labels.to(device)\n",
    "            # Forward pass only to get logits/output\n",
    "            outputs, _, _ = model(images)\n",
    "            # Get predictions from the maximum value\n",
    "            # it returns the values and the indices of max values per row.\n",
    "            _, predicted = torch.max(outputs.data, 1)\n",
    "\n",
    "            # Total number of labels\n",
    "            total += labels.size(0)\n",
    "\n",
    "            # Total correct predictions\n",
    "            correct += (predicted.cpu() == labels.cpu()).sum()\n",
    "\n",
    "    accuracy = 100 * correct / total\n",
    "\n",
    "    #print('Accuracy: {}'.format(accuracy))\n",
    "    return accuracy.item()"
   ]
  },
  {
   "cell_type": "markdown",
   "metadata": {
    "colab_type": "text",
    "id": "qZh9vvMbeBEt"
   },
   "source": [
    "## Weight initalizer"
   ]
  },
  {
   "cell_type": "code",
   "execution_count": 0,
   "metadata": {
    "colab": {},
    "colab_type": "code",
    "id": "P2Ih6D3FcJa9"
   },
   "outputs": [],
   "source": [
    "def weight_init(m):\n",
    "    if isinstance(m, nn.Conv2d):\n",
    "        torch.nn.init.xavier_uniform_(m.weight.data)"
   ]
  },
  {
   "cell_type": "markdown",
   "metadata": {
    "colab_type": "text",
    "id": "S3feRZrGeD9-"
   },
   "source": [
    "### Loading the data setting, setting batch size and seed"
   ]
  },
  {
   "cell_type": "code",
   "execution_count": 12,
   "metadata": {
    "colab": {
     "base_uri": "https://localhost:8080/",
     "height": 51
    },
    "colab_type": "code",
    "id": "JhxCxnhZtS7E",
    "outputId": "010bafef-7beb-4d8d-8bcf-101cec875c5d"
   },
   "outputs": [
    {
     "name": "stdout",
     "output_type": "stream",
     "text": [
      "Downloading https://www.cs.toronto.edu/~kriz/cifar-10-python.tar.gz to ./data/cifar-10-python.tar.gz\n",
      "Files already downloaded and verified\n"
     ]
    }
   ],
   "source": [
    "''' Loading the dataset '''\n",
    "trainset = dsets.CIFAR10('./data', train=True, download=True, transform=transforms.ToTensor())\n",
    "testset = dsets.CIFAR10('./data', train=False, download=True, transform=transforms.ToTensor())\n",
    "\n",
    "''' Defining batch size and number of iterations and number of epochs based on those'''\n",
    "batch_size = 100\n",
    "\n",
    "# setting the seed\n",
    "torch.manual_seed(1)\n",
    "\n",
    "# setting input and output dimensions\n",
    "CLASSES = ('plane', 'car', 'bird', 'cat', 'deer', 'dog', 'frog', 'horse', 'ship', 'truck')\n",
    "input_dim = 3 * 32 * 32\n",
    "output_dim = len(CLASSES)"
   ]
  },
  {
   "cell_type": "markdown",
   "metadata": {
    "colab_type": "text",
    "id": "sG9p0S6EcWr3"
   },
   "source": [
    "# Cross Validation "
   ]
  },
  {
   "cell_type": "code",
   "execution_count": 0,
   "metadata": {
    "colab": {},
    "colab_type": "code",
    "id": "KmrUQeVgykPp"
   },
   "outputs": [],
   "source": [
    "# choose default parameters\n",
    "hyperparameter_ranges = {\n",
    "    'momentum' : [0.4, 0.6, 0.8],\n",
    "    'wd' : [1e-4, 1e-3, 1e-5, 0],\n",
    "    'lr' : [0.05, 0.01, 0.005, 0.001],\n",
    "    'd2' : [16,24,32],\n",
    "    'd3' : [32, 38, 44, 50],\n",
    "    'p2' : [0, 1],\n",
    "    'h1' : [500, 1000, 1500]\n",
    "}\n",
    "\n",
    "parameters = {\n",
    "    'in_dim': 32, \n",
    "    'd1' : 3,\n",
    "    'f1' : 3,\n",
    "    's1' : 1,\n",
    "    'p1' : 0,\n",
    "    'f2' : 3,\n",
    "    's2' : 1,\n",
    "    'd2' : 32,\n",
    "    'd3' : 50,\n",
    "    'p2' : 1,\n",
    "    'h1' : 1000\n",
    "}\n",
    "\n",
    "                \n",
    "best_values = {'d2':0, 'd3':0, 'lr':0, 'p2':0, 'h1':0, 'wd':0, 'momentum' : 0}\n"
   ]
  },
  {
   "cell_type": "code",
   "execution_count": 0,
   "metadata": {
    "colab": {},
    "colab_type": "code",
    "id": "_aVIeYnQ13SY"
   },
   "outputs": [],
   "source": [
    "# get all data folds\n",
    "all_data_folds = split_data_in_k_folds(5, trainset, 100) # minibatch size 100\n",
    "\n",
    "best_acc = 0\n",
    "\n",
    "# setting seed to have the same initialization\n",
    "torch.manual_seed(1) \n",
    "\n",
    "# Outer loop through hyperparameters. \n",
    "for momentum in hyperparameter_ranges['momentum']:\n",
    "    for wd in hyperparameter_ranges['wd']:\n",
    "        for lr in  hyperparameter_ranges['lr']:\n",
    "            for d2 in  hyperparameter_ranges['d2']:\n",
    "                for d3 in  hyperparameter_ranges['d3']:\n",
    "                    for p2 in  hyperparameter_ranges['p2']:\n",
    "                        for h1 in  hyperparameter_ranges['h1']:\n",
    "\n",
    "                            parameters['d2'] = d2\n",
    "                            parameters['d3'] = d3\n",
    "                            parameters['p2'] = p2\n",
    "                            parameters['h1'] = h1\n",
    "\n",
    "                            model = CNNModel(**parameters)\n",
    "                            model.to(device)\n",
    "\n",
    "                            # initializing the array for accuracies for each fold. \n",
    "                            accuracies_per_validation = np.zeros(5)\n",
    "                            accuracies_mean = 0\n",
    "\n",
    "                            # every fold will serve once as a validation fold.\n",
    "                            for idx_val_fold in range(len(all_data_folds)):\n",
    "\n",
    "                                #resetting the weights for each validation\n",
    "                                model.apply(weight_init)\n",
    "\n",
    "                                # loading the validation data fold\n",
    "                                validation_loader = all_data_folds[idx_val_fold]\n",
    "\n",
    "                                # optimizer\n",
    "                                optimizer = torch.optim.SGD(model.parameters(), lr=lr,weight_decay=wd, momentum=momentum)\n",
    "\n",
    "                                for idx_training_fold in range(len(all_data_folds)):\n",
    "\n",
    "                                    # just to avoid using the current fold for training \n",
    "                                    if idx_training_fold != idx_val_fold: \n",
    "\n",
    "                                        # loading the data for the current training fold \n",
    "                                        train_loader = all_data_folds[idx_training_fold]\n",
    "                                        # training\n",
    "                                        train(criterion, model, 5, optimizer,\n",
    "                                                      train_loader)\n",
    "\n",
    "                                # validating over the validation fold\n",
    "                                temp_acc = test(model, validation_loader)\n",
    "                                accuracies_per_validation[idx_val_fold] = temp_acc\n",
    "\n",
    "                            accuracies_mean = accuracies_per_validation.mean()\n",
    "\n",
    "                            print(\"Acc: {}. Parameter combination {}, {}, {}, {}, {}, {}, {}\".format(\n",
    "                                accuracies_mean, momentum, wd, lr, d2, d3, p2, h1))\n",
    "\n",
    "                            # save hyperparameter values if accuracy is better than the current best\n",
    "                            if accuracies_mean > best_acc:\n",
    "                                best_acc = accuracies_mean\n",
    "                                best_values['d2'] = d2\n",
    "                                best_values['d3'] = d3\n",
    "                                best_values['p2'] = p2\n",
    "                                best_values['h1'] = h1\n",
    "                                best_values['lr'] = lr\n",
    "                                best_values['wd'] = wd\n",
    "                                best_values['momentum'] = momentum\n",
    "\n",
    "print(best_values)"
   ]
  },
  {
   "cell_type": "markdown",
   "metadata": {
    "colab_type": "text",
    "id": "GZntmSWZQJfd"
   },
   "source": [
    "## Running the model with best parameters"
   ]
  },
  {
   "cell_type": "code",
   "execution_count": 13,
   "metadata": {
    "colab": {
     "base_uri": "https://localhost:8080/",
     "height": 1921
    },
    "colab_type": "code",
    "id": "iPfoa7a7tS7f",
    "outputId": "7d4b8cff-2c71-4c52-fc10-cd40cc004dd9"
   },
   "outputs": [
    {
     "name": "stdout",
     "output_type": "stream",
     "text": [
      "For debugging, W2=30.0, self.W3=30.0 out 11250.0\n",
      "CNNModel(\n",
      "  (cnn1): Conv2d(3, 24, kernel_size=(3, 3), stride=(1, 1))\n",
      "  (relu1): ReLU()\n",
      "  (cnn2): Conv2d(24, 50, kernel_size=(3, 3), stride=(1, 1), padding=(1, 1))\n",
      "  (relu2): ReLU()\n",
      "  (maxpool1): MaxPool2d(kernel_size=2, stride=2, padding=0, dilation=1, ceil_mode=False)\n",
      "  (fc1): Linear(in_features=11250, out_features=1500, bias=True)\n",
      "  (fc1_Relu): ReLU()\n",
      "  (fc2): Linear(in_features=1500, out_features=10, bias=True)\n",
      ")\n",
      "Finished epoch 1/100  in 12.603351 sec. Loss is 1.987940\n",
      "Finished epoch 2/100  in 12.544680 sec. Loss is 1.646737\n",
      "Finished epoch 3/100  in 12.558317 sec. Loss is 1.446227\n",
      "Finished epoch 4/100  in 12.560386 sec. Loss is 1.313986\n",
      "Finished epoch 5/100  in 12.574932 sec. Loss is 1.215636\n",
      "Finished epoch 6/100  in 12.590665 sec. Loss is 1.126393\n",
      "Finished epoch 7/100  in 12.609762 sec. Loss is 1.044141\n",
      "Finished epoch 8/100  in 12.538857 sec. Loss is 0.962688\n",
      "Finished epoch 9/100  in 12.508159 sec. Loss is 0.874095\n",
      "Finished epoch 10/100  in 12.547986 sec. Loss is 0.789025\n",
      "Finished epoch 11/100  in 12.524713 sec. Loss is 0.696819\n",
      "Finished epoch 12/100  in 12.635405 sec. Loss is 0.605967\n",
      "Finished epoch 13/100  in 12.603951 sec. Loss is 0.514941\n",
      "Finished epoch 14/100  in 12.577968 sec. Loss is 0.419067\n",
      "Finished epoch 15/100  in 12.577972 sec. Loss is 0.330996\n",
      "Finished epoch 16/100  in 12.587118 sec. Loss is 0.245933\n",
      "Finished epoch 17/100  in 12.730115 sec. Loss is 0.176094\n",
      "Finished epoch 18/100  in 12.545839 sec. Loss is 0.120605\n",
      "Finished epoch 19/100  in 12.528659 sec. Loss is 0.081113\n",
      "Finished epoch 20/100  in 12.520057 sec. Loss is 0.049233\n",
      "Finished epoch 21/100  in 12.532794 sec. Loss is 0.032061\n",
      "Finished epoch 22/100  in 12.559304 sec. Loss is 0.022210\n",
      "Finished epoch 23/100  in 12.637982 sec. Loss is 0.016861\n",
      "Finished epoch 24/100  in 12.602291 sec. Loss is 0.014510\n",
      "Finished epoch 25/100  in 12.592864 sec. Loss is 0.012534\n",
      "Finished epoch 26/100  in 12.604089 sec. Loss is 0.012727\n",
      "Finished epoch 27/100  in 12.645148 sec. Loss is 0.011398\n",
      "Finished epoch 28/100  in 12.658423 sec. Loss is 0.010867\n",
      "Finished epoch 29/100  in 12.587675 sec. Loss is 0.011658\n",
      "Finished epoch 30/100  in 12.539715 sec. Loss is 0.010740\n",
      "Finished epoch 31/100  in 12.570684 sec. Loss is 0.009837\n",
      "Finished epoch 32/100  in 12.534843 sec. Loss is 0.010416\n",
      "Finished epoch 33/100  in 12.647220 sec. Loss is 0.009996\n",
      "Finished epoch 34/100  in 12.621220 sec. Loss is 0.009760\n",
      "Finished epoch 35/100  in 12.688481 sec. Loss is 0.009738\n",
      "Finished epoch 36/100  in 12.591685 sec. Loss is 0.009774\n",
      "Finished epoch 37/100  in 12.616973 sec. Loss is 0.009623\n",
      "Finished epoch 38/100  in 12.662672 sec. Loss is 0.009580\n",
      "Finished epoch 39/100  in 12.665430 sec. Loss is 0.009789\n",
      "Finished epoch 40/100  in 12.600880 sec. Loss is 0.010355\n",
      "Finished epoch 41/100  in 12.541978 sec. Loss is 0.009881\n",
      "Finished epoch 42/100  in 12.573323 sec. Loss is 0.009681\n",
      "Finished epoch 43/100  in 12.569148 sec. Loss is 0.010491\n",
      "Finished epoch 44/100  in 12.673766 sec. Loss is 0.010245\n",
      "Finished epoch 45/100  in 12.599621 sec. Loss is 0.009644\n",
      "Finished epoch 46/100  in 12.604532 sec. Loss is 0.009610\n",
      "Finished epoch 47/100  in 12.588893 sec. Loss is 0.009667\n",
      "Finished epoch 48/100  in 12.658727 sec. Loss is 0.009824\n",
      "Finished epoch 49/100  in 12.625463 sec. Loss is 0.264460\n",
      "Finished epoch 50/100  in 12.634836 sec. Loss is 0.114438\n",
      "Finished epoch 51/100  in 12.540745 sec. Loss is 0.038249\n",
      "Finished epoch 52/100  in 12.521292 sec. Loss is 0.013264\n",
      "Finished epoch 53/100  in 12.579922 sec. Loss is 0.008271\n",
      "Finished epoch 54/100  in 12.625130 sec. Loss is 0.007426\n",
      "Finished epoch 55/100  in 12.638037 sec. Loss is 0.007092\n",
      "Finished epoch 56/100  in 12.591030 sec. Loss is 0.007412\n",
      "Finished epoch 57/100  in 12.593734 sec. Loss is 0.007235\n",
      "Finished epoch 58/100  in 12.632697 sec. Loss is 0.007211\n",
      "Finished epoch 59/100  in 12.651486 sec. Loss is 0.007289\n",
      "Finished epoch 60/100  in 12.652927 sec. Loss is 0.008036\n",
      "Finished epoch 61/100  in 12.562446 sec. Loss is 0.007723\n",
      "Finished epoch 62/100  in 12.531767 sec. Loss is 0.007859\n",
      "Finished epoch 63/100  in 12.566683 sec. Loss is 0.007996\n",
      "Finished epoch 64/100  in 12.617944 sec. Loss is 0.008155\n",
      "Finished epoch 65/100  in 12.655327 sec. Loss is 0.008555\n",
      "Finished epoch 66/100  in 12.599491 sec. Loss is 0.008657\n",
      "Finished epoch 67/100  in 12.613391 sec. Loss is 0.008628\n",
      "Finished epoch 68/100  in 12.684640 sec. Loss is 0.008682\n",
      "Finished epoch 69/100  in 12.706676 sec. Loss is 0.008829\n",
      "Finished epoch 70/100  in 12.605228 sec. Loss is 0.009028\n",
      "Finished epoch 71/100  in 12.590174 sec. Loss is 0.009025\n",
      "Finished epoch 72/100  in 12.657051 sec. Loss is 0.008986\n",
      "Finished epoch 73/100  in 12.748368 sec. Loss is 0.008978\n",
      "Finished epoch 74/100  in 12.696016 sec. Loss is 0.009118\n",
      "Finished epoch 75/100  in 12.678885 sec. Loss is 0.009271\n",
      "Finished epoch 76/100  in 12.681433 sec. Loss is 0.009608\n",
      "Finished epoch 77/100  in 12.743152 sec. Loss is 0.009139\n",
      "Finished epoch 78/100  in 12.804162 sec. Loss is 0.009168\n",
      "Finished epoch 79/100  in 12.730837 sec. Loss is 0.009194\n",
      "Finished epoch 80/100  in 12.688652 sec. Loss is 0.009195\n",
      "Finished epoch 81/100  in 12.684495 sec. Loss is 0.009285\n",
      "Finished epoch 82/100  in 12.712961 sec. Loss is 0.009321\n",
      "Finished epoch 83/100  in 12.791466 sec. Loss is 0.009325\n",
      "Finished epoch 84/100  in 12.704693 sec. Loss is 0.009486\n",
      "Finished epoch 85/100  in 12.721471 sec. Loss is 0.009506\n",
      "Finished epoch 86/100  in 12.758359 sec. Loss is 0.009502\n",
      "Finished epoch 87/100  in 12.803718 sec. Loss is 0.009738\n",
      "Finished epoch 88/100  in 12.729412 sec. Loss is 0.009842\n",
      "Finished epoch 89/100  in 12.608634 sec. Loss is 0.328987\n",
      "Finished epoch 90/100  in 12.587867 sec. Loss is 0.288796\n",
      "Finished epoch 91/100  in 12.631475 sec. Loss is 0.123153\n",
      "Finished epoch 92/100  in 12.690809 sec. Loss is 0.047208\n",
      "Finished epoch 93/100  in 12.653102 sec. Loss is 0.017018\n",
      "Finished epoch 94/100  in 12.659607 sec. Loss is 0.009370\n",
      "Finished epoch 95/100  in 12.705496 sec. Loss is 0.007469\n",
      "Finished epoch 96/100  in 12.732136 sec. Loss is 0.007212\n",
      "Finished epoch 97/100  in 12.636210 sec. Loss is 0.007732\n",
      "Finished epoch 98/100  in 12.659357 sec. Loss is 0.007005\n",
      "Finished epoch 99/100  in 12.607615 sec. Loss is 0.007040\n",
      "Finished epoch 100/100  in 12.714852 sec. Loss is 0.007160\n"
     ]
    },
    {
     "data": {
      "text/plain": [
       "69"
      ]
     },
     "execution_count": 13,
     "metadata": {
      "tags": []
     },
     "output_type": "execute_result"
    }
   ],
   "source": [
    "trainloader, testloader = get_train_test_loader(trainset, testset, batch_size)\n",
    "\n",
    "# the final ones\n",
    "parameters = {\n",
    "    'in_dim': 32, \n",
    "    'd1' : 3,\n",
    "    'd2' : 24,\n",
    "    'f1' : 3,\n",
    "    's1' : 1,\n",
    "    'p1' : 0,\n",
    "    'd3' : 50,\n",
    "    'f2' : 3,\n",
    "    's2' : 1,\n",
    "    'p2' : 1,\n",
    "    'h1' : 1500\n",
    "}\n",
    "\n",
    "device = torch.device(\"cuda:0\" if torch.cuda.is_available() else \"cpu\")\n",
    "model = CNNModel(**parameters)\n",
    "model.to(device)\n",
    "print(model)\n",
    "\n",
    "criterion = nn.CrossEntropyLoss()\n",
    "torch.manual_seed(1)\n",
    "model.apply(weight_init)\n",
    "\n",
    "# learning rate 1e-2, weight decay 1e-3, momemtum term 0.6\n",
    "optimizer = torch.optim.SGD(model.parameters(), lr=0.01, weight_decay=0.001, momentum=0.6)\n",
    "\n",
    "loss_per_epoch, loss_per_iter, out1, out2 = train(criterion, model, 100, optimizer, trainloader)\n",
    "test(model, testloader)"
   ]
  },
  {
   "cell_type": "markdown",
   "metadata": {
    "colab_type": "text",
    "id": "ubekQr0rcvob"
   },
   "source": [
    "### Vizualizing kernel weights"
   ]
  },
  {
   "cell_type": "code",
   "execution_count": 30,
   "metadata": {
    "colab": {
     "base_uri": "https://localhost:8080/",
     "height": 1710
    },
    "colab_type": "code",
    "id": "nVeLdVPn1em_",
    "outputId": "7142fa40-e889-4eae-8b85-296840e61188"
   },
   "outputs": [
    {
     "data": {
      "image/png": "[encoded data removed]",
      "text/plain": [
       "<matplotlib.figure.Figure at 0x7f8c07a808d0>"
      ]
     },
     "metadata": {
      "tags": []
     },
     "output_type": "display_data"
    },
    {
     "data": {
      "image/png": "[encoded data removed]",
      "text/plain": [
       "<matplotlib.figure.Figure at 0x7f8c022ff8d0>"
      ]
     },
     "metadata": {
      "tags": []
     },
     "output_type": "display_data"
    }
   ],
   "source": [
    "# for the moment only vizualizing the learn kernels. \n",
    "with torch.no_grad():\n",
    "    for param in model.named_parameters():\n",
    "        if('cnn' in param[0] and 'weight' in param[0]):\n",
    "            kernels = param[1]\n",
    "            nr_kern = kernels.size(0)\n",
    "            if nr_kern%4==0 :\n",
    "                j = 4\n",
    "            else: \n",
    "                j = 5\n",
    "                \n",
    "            figure, axes = plt.subplots(int(nr_kern/j),j)\n",
    "            if nr_kern < 30:\n",
    "                fig_width = 20\n",
    "                fig_height = 10\n",
    "            else:\n",
    "                fig_width = 20\n",
    "                fig_height = 20\n",
    "            figure.set_figwidth(fig_width)\n",
    "            figure.set_figheight(fig_height)\n",
    "            for i in range(kernels.size(0)):\n",
    "                _to_pil = transforms.ToPILImage()\n",
    "                axes[int(i/j), i%j].imshow(_to_pil(kernels[i].detach().cpu()))\n",
    "\n",
    "            plt.show()"
   ]
  },
  {
   "cell_type": "markdown",
   "metadata": {
    "colab_type": "text",
    "id": "_uIK0rsP02un"
   },
   "source": [
    "### Vizualizing the output of both conv layers. At the moment only for one image of the last minibatch"
   ]
  },
  {
   "cell_type": "code",
   "execution_count": 34,
   "metadata": {
    "colab": {
     "base_uri": "https://localhost:8080/",
     "height": 555
    },
    "colab_type": "code",
    "id": "t_xw_qDKxWq-",
    "outputId": "a9887064-09ba-491a-c992-d129259c3c90"
   },
   "outputs": [
    {
     "data": {
      "image/png": "[encoded data removed]",
      "text/plain": [
       "<matplotlib.figure.Figure at 0x7f8c01c22358>"
      ]
     },
     "metadata": {
      "tags": []
     },
     "output_type": "display_data"
    }
   ],
   "source": [
    "# for the moment only vizualizing the learn kernels. \n",
    "with torch.no_grad():\n",
    "    i = 0 # here we can set up a loop for all the out images of the minibatch.\n",
    "    _to_pil = transforms.ToPILImage()\n",
    "    figure, axes = plt.subplots(1,2)\n",
    "    figure.set_figwidth(20)\n",
    "    figure.set_figheight(10)\n",
    "    axes[0].imshow(_to_pil(out1[i].detach().cpu()))\n",
    "    axes[1].imshow(_to_pil(out2[i].detach().cpu()))\n",
    "    plt.show()"
   ]
  },
  {
   "cell_type": "markdown",
   "metadata": {
    "colab_type": "text",
    "id": "b70-po6OxJzL"
   },
   "source": [
    "### The cell below is runned with average pooling. The accuracy is 65%, lower than with max pooling where we got accuracy 69% with the same parameters"
   ]
  },
  {
   "cell_type": "code",
   "execution_count": 17,
   "metadata": {
    "colab": {
     "base_uri": "https://localhost:8080/",
     "height": 1921
    },
    "colab_type": "code",
    "id": "-VoX34fldiDQ",
    "outputId": "042773bf-d68b-468f-e5e4-66357eca6bc6"
   },
   "outputs": [
    {
     "name": "stdout",
     "output_type": "stream",
     "text": [
      "For debugging, W2=30.0, self.W3=30.0 out 11250.0\n",
      "CNNModel(\n",
      "  (cnn1): Conv2d(3, 24, kernel_size=(3, 3), stride=(1, 1))\n",
      "  (relu1): ReLU()\n",
      "  (cnn2): Conv2d(24, 50, kernel_size=(3, 3), stride=(1, 1), padding=(1, 1))\n",
      "  (relu2): ReLU()\n",
      "  (maxpool1): AvgPool2d(kernel_size=2, stride=2, padding=0)\n",
      "  (fc1): Linear(in_features=11250, out_features=1500, bias=True)\n",
      "  (fc1_Relu): ReLU()\n",
      "  (fc2): Linear(in_features=1500, out_features=10, bias=True)\n",
      ")\n",
      "Finished epoch 1/100  in 12.816344 sec. Loss is 1.987581\n",
      "Finished epoch 2/100  in 12.836743 sec. Loss is 1.678896\n",
      "Finished epoch 3/100  in 12.836189 sec. Loss is 1.538298\n",
      "Finished epoch 4/100  in 12.781995 sec. Loss is 1.447716\n",
      "Finished epoch 5/100  in 12.718617 sec. Loss is 1.373834\n",
      "Finished epoch 6/100  in 12.745469 sec. Loss is 1.304545\n",
      "Finished epoch 7/100  in 12.767354 sec. Loss is 1.247801\n",
      "Finished epoch 8/100  in 12.848135 sec. Loss is 1.192057\n",
      "Finished epoch 9/100  in 12.758014 sec. Loss is 1.134864\n",
      "Finished epoch 10/100  in 12.770111 sec. Loss is 1.074408\n",
      "Finished epoch 11/100  in 12.812091 sec. Loss is 1.013569\n",
      "Finished epoch 12/100  in 12.844313 sec. Loss is 0.957602\n",
      "Finished epoch 13/100  in 12.833097 sec. Loss is 0.896446\n",
      "Finished epoch 14/100  in 12.719247 sec. Loss is 0.833763\n",
      "Finished epoch 15/100  in 12.744964 sec. Loss is 0.767320\n",
      "Finished epoch 16/100  in 12.752734 sec. Loss is 0.700812\n",
      "Finished epoch 17/100  in 12.847640 sec. Loss is 0.635483\n",
      "Finished epoch 18/100  in 12.761303 sec. Loss is 0.568191\n",
      "Finished epoch 19/100  in 12.767294 sec. Loss is 0.497989\n",
      "Finished epoch 20/100  in 12.830751 sec. Loss is 0.430806\n",
      "Finished epoch 21/100  in 12.836043 sec. Loss is 0.365487\n",
      "Finished epoch 22/100  in 12.761711 sec. Loss is 0.300913\n",
      "Finished epoch 23/100  in 12.723341 sec. Loss is 0.248837\n",
      "Finished epoch 24/100  in 12.754827 sec. Loss is 0.194678\n",
      "Finished epoch 25/100  in 12.873486 sec. Loss is 0.155687\n",
      "Finished epoch 26/100  in 12.774707 sec. Loss is 0.119856\n",
      "Finished epoch 27/100  in 12.762477 sec. Loss is 0.096336\n",
      "Finished epoch 28/100  in 12.844511 sec. Loss is 0.069619\n",
      "Finished epoch 29/100  in 12.818775 sec. Loss is 0.054387\n",
      "Finished epoch 30/100  in 12.774342 sec. Loss is 0.039846\n",
      "Finished epoch 31/100  in 12.786580 sec. Loss is 0.028190\n",
      "Finished epoch 32/100  in 12.845052 sec. Loss is 0.023488\n",
      "Finished epoch 33/100  in 12.761707 sec. Loss is 0.017753\n",
      "Finished epoch 34/100  in 12.772759 sec. Loss is 0.015950\n",
      "Finished epoch 35/100  in 12.861139 sec. Loss is 0.013857\n",
      "Finished epoch 36/100  in 12.829005 sec. Loss is 0.019557\n",
      "Finished epoch 37/100  in 12.743142 sec. Loss is 0.015586\n",
      "Finished epoch 38/100  in 12.783252 sec. Loss is 0.013362\n",
      "Finished epoch 39/100  in 12.848174 sec. Loss is 0.012437\n",
      "Finished epoch 40/100  in 12.787434 sec. Loss is 0.012586\n",
      "Finished epoch 41/100  in 12.765439 sec. Loss is 0.012849\n",
      "Finished epoch 42/100  in 12.858909 sec. Loss is 0.013642\n",
      "Finished epoch 43/100  in 12.814417 sec. Loss is 0.013273\n",
      "Finished epoch 44/100  in 12.752296 sec. Loss is 0.012151\n",
      "Finished epoch 45/100  in 12.768061 sec. Loss is 0.011663\n",
      "Finished epoch 46/100  in 12.865135 sec. Loss is 0.011654\n",
      "Finished epoch 47/100  in 12.784649 sec. Loss is 0.011886\n",
      "Finished epoch 48/100  in 12.790680 sec. Loss is 0.014037\n",
      "Finished epoch 49/100  in 12.835272 sec. Loss is 0.012636\n",
      "Finished epoch 50/100  in 12.894305 sec. Loss is 0.012031\n",
      "Finished epoch 51/100  in 12.755703 sec. Loss is 0.157706\n",
      "Finished epoch 52/100  in 12.741461 sec. Loss is 0.155180\n",
      "Finished epoch 53/100  in 12.745282 sec. Loss is 0.094421\n",
      "Finished epoch 54/100  in 12.833434 sec. Loss is 0.039275\n",
      "Finished epoch 55/100  in 12.785483 sec. Loss is 0.015999\n",
      "Finished epoch 56/100  in 12.754293 sec. Loss is 0.010292\n",
      "Finished epoch 57/100  in 12.818342 sec. Loss is 0.009928\n",
      "Finished epoch 58/100  in 12.833901 sec. Loss is 0.009343\n",
      "Finished epoch 59/100  in 12.786407 sec. Loss is 0.009573\n",
      "Finished epoch 60/100  in 12.765773 sec. Loss is 0.010243\n",
      "Finished epoch 61/100  in 12.762006 sec. Loss is 0.009222\n",
      "Finished epoch 62/100  in 12.805409 sec. Loss is 0.008930\n",
      "Finished epoch 63/100  in 12.816409 sec. Loss is 0.010036\n",
      "Finished epoch 64/100  in 12.786323 sec. Loss is 0.009601\n",
      "Finished epoch 65/100  in 12.818897 sec. Loss is 0.009730\n",
      "Finished epoch 66/100  in 12.845351 sec. Loss is 0.011767\n",
      "Finished epoch 67/100  in 12.852288 sec. Loss is 0.041250\n",
      "Finished epoch 68/100  in 12.735795 sec. Loss is 0.026907\n",
      "Finished epoch 69/100  in 12.750755 sec. Loss is 0.011724\n",
      "Finished epoch 70/100  in 12.924961 sec. Loss is 0.010395\n",
      "Finished epoch 71/100  in 12.825489 sec. Loss is 0.010611\n",
      "Finished epoch 72/100  in 12.796123 sec. Loss is 0.009849\n",
      "Finished epoch 73/100  in 12.793638 sec. Loss is 0.010076\n",
      "Finished epoch 74/100  in 12.846291 sec. Loss is 0.009904\n",
      "Finished epoch 75/100  in 12.874106 sec. Loss is 0.010169\n",
      "Finished epoch 76/100  in 12.783212 sec. Loss is 0.098550\n",
      "Finished epoch 77/100  in 12.720183 sec. Loss is 0.129049\n",
      "Finished epoch 78/100  in 12.744923 sec. Loss is 0.082425\n",
      "Finished epoch 79/100  in 12.850806 sec. Loss is 0.034854\n",
      "Finished epoch 80/100  in 12.859678 sec. Loss is 0.012307\n",
      "Finished epoch 81/100  in 12.776365 sec. Loss is 0.008595\n",
      "Finished epoch 82/100  in 12.781422 sec. Loss is 0.008032\n",
      "Finished epoch 83/100  in 12.839170 sec. Loss is 0.008109\n",
      "Finished epoch 84/100  in 12.875405 sec. Loss is 0.008512\n",
      "Finished epoch 85/100  in 12.838928 sec. Loss is 0.008307\n",
      "Finished epoch 86/100  in 12.750889 sec. Loss is 0.008030\n",
      "Finished epoch 87/100  in 12.788576 sec. Loss is 0.008292\n",
      "Finished epoch 88/100  in 12.840659 sec. Loss is 0.008607\n",
      "Finished epoch 89/100  in 12.837044 sec. Loss is 0.009469\n",
      "Finished epoch 90/100  in 12.775870 sec. Loss is 0.009238\n",
      "Finished epoch 91/100  in 12.803751 sec. Loss is 0.009549\n",
      "Finished epoch 92/100  in 12.878305 sec. Loss is 0.010041\n",
      "Finished epoch 93/100  in 12.898256 sec. Loss is 0.009891\n",
      "Finished epoch 94/100  in 12.801178 sec. Loss is 0.042609\n",
      "Finished epoch 95/100  in 12.730745 sec. Loss is 0.127825\n",
      "Finished epoch 96/100  in 12.773833 sec. Loss is 0.052503\n",
      "Finished epoch 97/100  in 12.793860 sec. Loss is 0.015604\n",
      "Finished epoch 98/100  in 12.865529 sec. Loss is 0.008821\n",
      "Finished epoch 99/100  in 12.790488 sec. Loss is 0.008081\n",
      "Finished epoch 100/100  in 12.784523 sec. Loss is 0.007921\n"
     ]
    },
    {
     "data": {
      "text/plain": [
       "65"
      ]
     },
     "execution_count": 17,
     "metadata": {
      "tags": []
     },
     "output_type": "execute_result"
    }
   ],
   "source": [
    "trainloader, testloader = get_train_test_loader(trainset, testset, batch_size)\n",
    "\n",
    "# the final ones\n",
    "parameters = {\n",
    "    'in_dim': 32, \n",
    "    'd1' : 3,\n",
    "    'd2' : 24,\n",
    "    'f1' : 3,\n",
    "    's1' : 1,\n",
    "    'p1' : 0,\n",
    "    'd3' : 50,\n",
    "    'f2' : 3,\n",
    "    's2' : 1,\n",
    "    'p2' : 1,\n",
    "    'h1' : 1500\n",
    "}\n",
    "\n",
    "device = torch.device(\"cuda:0\" if torch.cuda.is_available() else \"cpu\")\n",
    "model = CNNModel(**parameters)\n",
    "model.to(device)\n",
    "print(model)\n",
    "\n",
    "criterion = nn.CrossEntropyLoss()\n",
    "torch.manual_seed(1)\n",
    "model.apply(weight_init)\n",
    "\n",
    "# learning rate 1e-2, weight decay 1e-3, momemtum term 0.6\n",
    "optimizer = torch.optim.SGD(model.parameters(), lr=0.01, weight_decay=0.001, momentum=0.6)\n",
    "\n",
    "loss_per_epoch, loss_per_iter, out1, out2 = train(criterion, model, 100, optimizer, trainloader)\n",
    "test(model, testloader)"
   ]
  },
  {
   "cell_type": "code",
   "execution_count": 0,
   "metadata": {
    "colab": {},
    "colab_type": "code",
    "id": "OtzJy3erdi2h"
   },
   "outputs": [],
   "source": []
  }
 ],
 "metadata": {
  "accelerator": "GPU",
  "colab": {
   "collapsed_sections": [],
   "name": "Assignment_4.ipynb",
   "provenance": [],
   "version": "0.3.2"
  },
  "kernelspec": {
   "display_name": "Python 3",
   "language": "python",
   "name": "python3"
  },
  "language_info": {
   "codemirror_mode": {
    "name": "ipython",
    "version": 3
   },
   "file_extension": ".py",
   "mimetype": "text/x-python",
   "name": "python",
   "nbconvert_exporter": "python",
   "pygments_lexer": "ipython3",
   "version": "3.7.0"
  }
 },
 "nbformat": 4,
 "nbformat_minor": 1
}
