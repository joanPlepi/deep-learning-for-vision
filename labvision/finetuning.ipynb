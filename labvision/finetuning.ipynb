{
 "cells": [
  {
   "cell_type": "code",
   "execution_count": 0,
   "metadata": {
    "colab": {},
    "colab_type": "code",
    "id": "1IkNSaCQQQ7h"
   },
   "outputs": [],
   "source": [
    "from __future__ import print_function, division\n",
    "\n",
    "import torch\n",
    "import torch.nn as nn\n",
    "import torch.optim as optim\n",
    "from torch.optim import lr_scheduler\n",
    "import numpy as np\n",
    "import torchvision\n",
    "from torch.utils.data import Dataset, DataLoader\n",
    "from torchvision import datasets, models, transforms\n",
    "import matplotlib.pyplot as plt\n",
    "import time\n",
    "import os\n",
    "import copy\n",
    "from skimage import io, transform\n",
    "import numpy as np\n",
    "\n",
    "plt.ion()   # interactive mode"
   ]
  },
  {
   "cell_type": "code",
   "execution_count": 0,
   "metadata": {
    "colab": {},
    "colab_type": "code",
    "id": "Q116g7JnegMF"
   },
   "outputs": [],
   "source": [
    "# http://pytorch.org/\n",
    "from os.path import exists\n",
    "from wheel.pep425tags import get_abbr_impl, get_impl_ver, get_abi_tag\n",
    "platform = '{}{}-{}'.format(get_abbr_impl(), get_impl_ver(), get_abi_tag())\n",
    "cuda_output = !ldconfig -p|grep cudart.so|sed -e 's/.*\\.\\([0-9]*\\)\\.\\([0-9]*\\)$/cu\\1\\2/'\n",
    "accelerator = cuda_output[0] if exists('/dev/nvidia0') else 'cpu'\n",
    "\n",
    "!pip install -q http://download.pytorch.org/whl/{accelerator}/torch-0.4.1-{platform}-linux_x86_64.whl torchvision\n",
    "import torch"
   ]
  },
  {
   "cell_type": "code",
   "execution_count": 0,
   "metadata": {
    "colab": {},
    "colab_type": "code",
    "id": "JKJo7zU5Rz_K"
   },
   "outputs": [],
   "source": [
    "#!rm sample_data/*.jpg # I needed to remove some old images from current directory. Keep for now. "
   ]
  },
  {
   "cell_type": "code",
   "execution_count": 1,
   "metadata": {
    "colab": {},
    "colab_type": "code",
    "id": "mkSXf_UMSjkV"
   },
   "outputs": [],
   "source": [
    "# !mkdir data\n",
    "#mv *.jpg data/\n",
    "!mkdir data/train\n",
    "!mkdir data/val\n",
    "!mkdir data/train/soccer_ball\n",
    "!mkdir data/val/soccer_ball"
   ]
  },
  {
   "cell_type": "code",
   "execution_count": 4,
   "metadata": {
    "colab": {
     "base_uri": "https://localhost:8080/",
     "height": 17
    },
    "colab_type": "code",
    "id": "qB7qpkx7ohPR",
    "outputId": "45d445b2-f033-48ad-b9ab-83fe45ca2a0a"
   },
   "outputs": [],
   "source": [
    "# in google colab this shell script works with %%shell. In plain jupyter notebook works with %%bash.\n",
    "\n",
    "# %%bash\n",
    "%%shell\n",
    "#!/bin/bash  \n",
    "a=0\n",
    "for i in data/*.jpg; do\n",
    "  mv -- \"$i\" \"data/train/soccer_ball\"\n",
    "  let a=a+1\n",
    "  if [ $a -eq 350 ]; then\n",
    "    break\n",
    "  fi\n",
    "done"
   ]
  },
  {
   "cell_type": "code",
   "execution_count": 5,
   "metadata": {
    "colab": {
     "base_uri": "https://localhost:8080/",
     "height": 17
    },
    "colab_type": "code",
    "id": "2Q9TluaarqKS",
    "outputId": "8eed8dcc-4ae2-4468-c2d2-90ca9f28313b"
   },
   "outputs": [],
   "source": [
    "# %%bash\n",
    "%%shell\n",
    "#!/bin/bash  \n",
    "a=0\n",
    "for i in data/*.jpg; do\n",
    "  mv -- \"$i\" \"data/val/soccer_ball\"\n",
    "  let a=a+1\n",
    "  if [ $a -eq 100 ]; then\n",
    "    break\n",
    "  fi\n",
    "done"
   ]
  },
  {
   "cell_type": "code",
   "execution_count": 0,
   "metadata": {
    "colab": {},
    "colab_type": "code",
    "id": "WHbrFcCf9yD2"
   },
   "outputs": [],
   "source": [
    "!pip install --no-cache-dir -I pillow\n",
    "%reload_ext autoreload   \n",
    "%autoreload 0  \n",
    "\n",
    "!pip install Pillow==4.0.0\n",
    "!pip install PIL\n",
    "!pip install image"
   ]
  },
  {
   "cell_type": "code",
   "execution_count": 138,
   "metadata": {
    "colab": {
     "base_uri": "https://localhost:8080/",
     "height": 34
    },
    "colab_type": "code",
    "id": "tHE2Fda50Bkw",
    "outputId": "8e5602f9-a40c-44b9-ebb3-8e6dfc6e1ff5"
   },
   "outputs": [
    {
     "data": {
      "text/plain": [
       "True"
      ]
     },
     "execution_count": 138,
     "metadata": {
      "tags": []
     },
     "output_type": "execute_result"
    }
   ],
   "source": [
    "torch.cuda.is_available()"
   ]
  },
  {
   "cell_type": "code",
   "execution_count": 0,
   "metadata": {
    "colab": {},
    "colab_type": "code",
    "id": "ynDoKLASee_6"
   },
   "outputs": [],
   "source": [
    "class FifaBallDataset(Dataset):\n",
    "    \"\"\"Face Landmarks dataset.\"\"\"\n",
    "\n",
    "    def __init__(self, list_IDs, labels, transform=None):\n",
    "        self.list_IDs = list_IDs\n",
    "        self.labels = labels\n",
    "        self.transform = transform\n",
    "\n",
    "    def __len__(self):\n",
    "        return len(self.list_IDs)\n",
    "\n",
    "    def __getitem__(self, idx):\n",
    "        id = self.list_IDs[idx]\n",
    "        img_name =  os.path.join('data/' , str(id) + '.jpg')\n",
    "        image = io.imread(img_name)\n",
    "\n",
    "        y = self.labels[idx] ### It does not matter in our case, all labels are 1\n",
    "        \n",
    "        if self.transform:\n",
    "            image = self.transform(image)\n",
    "       \n",
    "        return image, y"
   ]
  },
  {
   "cell_type": "code",
   "execution_count": 0,
   "metadata": {
    "colab": {},
    "colab_type": "code",
    "id": "8-dwBWLExIxu"
   },
   "outputs": [],
   "source": [
    "device = torch.device(\"cuda:0\" if torch.cuda.is_available() else \"cpu\")"
   ]
  },
  {
   "cell_type": "markdown",
   "metadata": {},
   "source": [
    "### Comment the cell below "
   ]
  },
  {
   "cell_type": "code",
   "execution_count": 0,
   "metadata": {
    "colab": {},
    "colab_type": "code",
    "id": "zrs-OAzB0DNH"
   },
   "outputs": [],
   "source": [
    "##### comment below ########\n",
    "np.random.seed(1)\n",
    "dataset_size = 450\n",
    "ids = np.arange(1,dataset_size+1)\n",
    "np.random.shuffle(ids)\n",
    "\n",
    "# Parameters\n",
    "params = {'batch_size': 50,\n",
    "          'shuffle': True,\n",
    "          'num_workers': 4, }\n",
    "\n",
    "train_size = 350 \n",
    "valid_size = 100\n",
    "\n",
    "\n",
    "training_set = FifaBallDataset(ids[:train_size], np.zeros(train_size),\n",
    "                                           transform=transforms.Compose([\n",
    "                                            transforms.ToPILImage(),\n",
    "                                            transforms.Resize(256),\n",
    "                                            transforms.RandomResizedCrop(224),\n",
    "                                            transforms.RandomHorizontalFlip(),\n",
    "                                            transforms.ToTensor()\n",
    "                                           ]))\n",
    "\n",
    "trainloader = DataLoader(training_set, **params)\n",
    "\n",
    "validation_set = FifaBallDataset(ids[train_size:train_size+valid_size], np.zeros(valid_size),\n",
    "                                           transform=transforms.Compose([\n",
    "                                        transforms.ToPILImage(),\n",
    "                                            transforms.Resize(256),\n",
    "                                            transforms.RandomResizedCrop(224),\n",
    "                                            transforms.RandomHorizontalFlip(),\n",
    "                                            transforms.ToTensor()\n",
    "                                           ]))\n",
    "\n",
    "validloader = DataLoader(validation_set, **params)"
   ]
  },
  {
   "cell_type": "code",
   "execution_count": 0,
   "metadata": {
    "colab": {},
    "colab_type": "code",
    "id": "Rz-OU-8X72Ux"
   },
   "outputs": [],
   "source": [
    "# Data augmentation and normalization for training\n",
    "# Just normalization for validation\n",
    "data_transforms = {\n",
    "    'train': transforms.Compose([\n",
    "        transforms.Resize(256),\n",
    "        transforms.RandomResizedCrop(224),\n",
    "        transforms.RandomHorizontalFlip(),\n",
    "        transforms.ToTensor()\n",
    "    ]),\n",
    "    'val': transforms.Compose([\n",
    "        transforms.Resize(256),\n",
    "        transforms.RandomResizedCrop(224),\n",
    "        transforms.ToTensor(),\n",
    "    ]),\n",
    "}\n",
    "\n",
    "data_dir = 'data'\n",
    "image_datasets = {x: datasets.ImageFolder(os.path.join(data_dir, x),\n",
    "                                          data_transforms[x])\n",
    "                  for x in ['train', 'val']}\n",
    "dataloaders = {x: torch.utils.data.DataLoader(image_datasets[x], batch_size=4,\n",
    "                                             shuffle=True, num_workers=4)\n",
    "              for x in ['train', 'val']}\n",
    "dataset_sizes = {x: len(image_datasets[x]) for x in ['train', 'val']}\n",
    "class_names = image_datasets['train'].classes"
   ]
  },
  {
   "cell_type": "code",
   "execution_count": 170,
   "metadata": {
    "colab": {
     "base_uri": "https://localhost:8080/",
     "height": 34
    },
    "colab_type": "code",
    "id": "TCmib8lvpYsS",
    "outputId": "7d4db028-0f88-47d0-d809-cc5c0e8b9ffd"
   },
   "outputs": [
    {
     "data": {
      "text/plain": [
       "350"
      ]
     },
     "execution_count": 170,
     "metadata": {
      "tags": []
     },
     "output_type": "execute_result"
    }
   ],
   "source": [
    "len(image_datasets['train'])"
   ]
  },
  {
   "cell_type": "code",
   "execution_count": 0,
   "metadata": {
    "colab": {},
    "colab_type": "code",
    "id": "JGTM2t14tklU"
   },
   "outputs": [],
   "source": []
  }
 ],
 "metadata": {
  "accelerator": "GPU",
  "colab": {
   "collapsed_sections": [],
   "name": "finetuning.ipynb",
   "provenance": [],
   "toc_visible": true,
   "version": "0.3.2"
  },
  "kernelspec": {
   "display_name": "Python 3",
   "language": "python",
   "name": "python3"
  },
  "language_info": {
   "codemirror_mode": {
    "name": "ipython",
    "version": 3
   },
   "file_extension": ".py",
   "mimetype": "text/x-python",
   "name": "python",
   "nbconvert_exporter": "python",
   "pygments_lexer": "ipython3",
   "version": "3.7.0"
  }
 },
 "nbformat": 4,
 "nbformat_minor": 1
}
